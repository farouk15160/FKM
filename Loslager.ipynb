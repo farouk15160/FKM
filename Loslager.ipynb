{
 "cells": [
  {
   "cell_type": "code",
   "execution_count": 35,
   "metadata": {},
   "outputs": [],
   "source": [
    "from IPython.display import display, Markdown\n",
    "import math\n",
    "import numpy\n"
   ]
  },
  {
   "cell_type": "code",
   "execution_count": 36,
   "metadata": {},
   "outputs": [
    {
     "data": {
      "text/markdown": [
       "\n",
       "# Auswahl der Festlager\n",
       "\n",
       "### Der Loslager wird hier als Vierreihiges Zylinderrollenlager (Kurzzeichen 635043) ausgewählt\n",
       "#### Äußer Durchmesser $$ D_{a.l} = 650 \\ mm $$\n",
       "#### Innere Durchmesser $$ D_{i.l} = 460 \\ mm $$\n",
       "\n",
       "#### $$ A_{a} = N_{max} = 10000 \\ KN $$\n",
       "#### $$ A_{r} = Q_{max} = 1600000 \\ KN $$\n",
       "\n",
       "\n",
       "\n",
       "\n",
       "### Die dynamische äquivalente Belastung P ist ein rechnerischer Wert, \n",
       "### der in Größe und Richtung konstante Radiallast oder Axiallast, Hier gibt es  eine Radiallast und Axiallast\n",
       "$\\large X=1 \\ \\ \\ $   $ Y=1 $\n",
       "\n",
       "$$\n",
       "\\large\n",
       "P_{B}= X \\cdot A_{r} + Y \\cdot A_{a} =  1\\cdot 1600000 + 1 \\cdot 10000 = 1610000 \\ N\n",
       "$$\n",
       "\n"
      ],
      "text/plain": [
       "<IPython.core.display.Markdown object>"
      ]
     },
     "metadata": {},
     "output_type": "display_data"
    }
   ],
   "source": [
    "d_scheibe = 250 # mm\n",
    "v_seil=20000  # mm/min\n",
    "# n=v_seil/(d_scheibe * math.pi)\n",
    "n=20\n",
    "Nmax=10000\n",
    "Qmax=1600000 # N\n",
    "D_a_f=650\n",
    "D_i_f=460\n",
    "X=1\n",
    "Y=1\n",
    "Aa=Nmax\n",
    "Ar=Qmax # KN\n",
    "P_b =X*Ar + Y* Aa\n",
    "p=10/3\n",
    "display(Markdown(f\"\"\"\n",
    "# Auswahl der Festlager\n",
    "\n",
    "### Der Loslager wird hier als Vierreihiges Zylinderrollenlager (Kurzzeichen 635043) ausgewählt\n",
    "#### Äußer Durchmesser $$ D_{{a.l}} = {D_a_f} \\\\ mm $$\n",
    "#### Innere Durchmesser $$ D_{{i.l}} = {D_i_f} \\\\ mm $$\n",
    "\n",
    "#### $$ A_{{a}} = N_{{max}} = {Nmax} \\\\ KN $$\n",
    "#### $$ A_{{r}} = Q_{{max}} = {Qmax} \\\\ KN $$\n",
    "\n",
    "\n",
    "\n",
    "\n",
    "### Die dynamische äquivalente Belastung P ist ein rechnerischer Wert, \n",
    "### der in Größe und Richtung konstante Radiallast oder Axiallast, Hier gibt es  eine Radiallast und Axiallast\n",
    "$\\large X={X} \\\\ \\\\ \\\\ $   $ Y={Y} $\n",
    "\n",
    "$$\n",
    "\\large\n",
    "P_{{B}}= X \\cdot A_{{r}} + Y \\cdot A_{{a}} =  {X }\\cdot {Ar} + {Y} \\cdot {Aa} = {P_b} \\\\ N\n",
    "$$\n",
    "\n",
    "\"\"\"))"
   ]
  },
  {
   "cell_type": "code",
   "execution_count": 37,
   "metadata": {},
   "outputs": [
    {
     "data": {
      "text/markdown": [
       "\n",
       "# Lebensdauerexponent für Rollenlager\n",
       "                 \n",
       "### $$ C_{r.l}=81250000 $$ N dynamische Tragzahlen\n",
       "### $$ C_{0r.l}=81250000 $$ N statische Tragzahlen\n",
       "\n",
       "$$\n",
       "\\Large\n",
       "L_{10.h_{d.f}}=\\frac{16666}{n}\\cdot (\\frac{C_{r.f}}{P_{B}})^P = \n",
       "\\frac{16666}{20.000 \\ min^-1}\\cdot (\\frac{81250000 \\ N }{1610000 \\ N})^3.3 = 6596422.183 \\ hr\n",
       "$$\n"
      ],
      "text/plain": [
       "<IPython.core.display.Markdown object>"
      ]
     },
     "metadata": {},
     "output_type": "display_data"
    }
   ],
   "source": [
    "C_rf=81250000 # n\n",
    "C0_rf=18300000 # n\n",
    "L_10h_df=((16666/n)*math.pow(C_rf/P_b , p))/60\n",
    "display(Markdown(f\"\"\"\n",
    "# Lebensdauerexponent für Rollenlager\n",
    "                 \n",
    "### $$ C_{{r.l}}={C_rf} $$ N dynamische Tragzahlen\n",
    "### $$ C_{{0r.l}}={C_rf} $$ N statische Tragzahlen\n",
    "\n",
    "$$\n",
    "\\Large\n",
    "L_{{10.h_{{d.f}}}}=\\\\frac{{16666}}{{n}}\\cdot (\\\\frac{{C_{{r.f}}}}{{P_{{B}}}})^P = \n",
    "\\\\frac{{16666}}{{{n:.3f} \\\\ min^-1}}\\cdot (\\\\frac{{{C_rf} \\\\ N }}{{{P_b} \\\\ N}})^{p:.1f} = {L_10h_df:.3f} \\\\ hr\n",
    "$$\n",
    "\"\"\"))"
   ]
  },
  {
   "cell_type": "code",
   "execution_count": 38,
   "metadata": {},
   "outputs": [
    {
     "data": {
      "text/markdown": [
       "\n",
       "$$\n",
       "\\Large\n",
       "L_{10.h_{s.f}}=\\frac{16666}{n}\\cdot (\\frac{C_{0.r.f}}{P_{B}})^P = \n",
       "\\frac{16666}{20.000 \\ min^-1}\\cdot (\\frac{18300000 \\ N }{1610000 \\ N})^3.3 = 45856.494 \\ hr\n",
       "$$\n"
      ],
      "text/plain": [
       "<IPython.core.display.Markdown object>"
      ]
     },
     "metadata": {},
     "output_type": "display_data"
    }
   ],
   "source": [
    "\n",
    "L_10h_sf=((16666/n)*math.pow(C0_rf/P_b , p))/60\n",
    "display(Markdown(f\"\"\"\n",
    "$$\n",
    "\\Large\n",
    "L_{{10.h_{{s.f}}}}=\\\\frac{{16666}}{{n}}\\cdot (\\\\frac{{C_{{0.r.f}}}}{{P_{{B}}}})^P = \n",
    "\\\\frac{{16666}}{{{n:.3f} \\\\ min^-1}}\\cdot (\\\\frac{{{C0_rf} \\\\ N }}{{{P_b} \\\\ N}})^{p:.1f} = {L_10h_sf:.3f} \\\\ hr\n",
    "$$\n",
    "\"\"\"))"
   ]
  },
  {
   "cell_type": "code",
   "execution_count": 39,
   "metadata": {},
   "outputs": [
    {
     "data": {
      "text/markdown": [
       "\n",
       "\n",
       "## Modifizierter Lebensdauer Berechnung:\n",
       "### Lebensdauerbeiwert für eine Erlebneswahrscheinlichkeit von 97% ,$a_{1}=0.47$, damit 97% Überlebenswharscheinlichekit gewähreistet wird (Tabelle von Lagerkatalog S.XX). Lebensdauerbeiwert für Standard-WälzlagerStahl: Der Lebensdauerbeiwert ist für normale Lagerwerkstoff mit $a_{2} = 1$ zu Wählen\n",
       "### Lebensdauerbeiwert für besondere Betriebsbedingungen : $a_{3}$\n",
       "\n",
       "\n",
       "### Mittlere Durchmesser des Lagers:\n",
       "\n",
       "$$\n",
       "\\Large\n",
       "D_{m.f}=\\frac{D_{a.f} + D_{i.f} }{2} = \\frac{650 \\ mm + 460 \\ mm}{2} = 555.0 \\ mm\n",
       "$$\n",
       "\n"
      ],
      "text/plain": [
       "<IPython.core.display.Markdown object>"
      ]
     },
     "metadata": {},
     "output_type": "display_data"
    }
   ],
   "source": [
    "a_1=0.47\n",
    "a_2=1\n",
    "D_mf=(D_a_f+D_i_f)/2\n",
    "display(Markdown(f\"\"\"\n",
    "\n",
    "## Modifizierter Lebensdauer Berechnung:\n",
    "### Lebensdauerbeiwert für eine Erlebneswahrscheinlichkeit von 97% ,$a_{{1}}={a_1}$, damit 97% Überlebenswharscheinlichekit gewähreistet wird (Tabelle von Lagerkatalog S.XX). Lebensdauerbeiwert für Standard-WälzlagerStahl: Der Lebensdauerbeiwert ist für normale Lagerwerkstoff mit $a_{{2}} = {a_2}$ zu Wählen\n",
    "### Lebensdauerbeiwert für besondere Betriebsbedingungen : $a_{{3}}$\n",
    "\n",
    "\n",
    "### Mittlere Durchmesser des Lagers:\n",
    "\n",
    "$$\n",
    "\\Large\n",
    "D_{{m.f}}=\\\\frac{{D_{{a.f}} + D_{{i.f}} }}{{2}} = \\\\frac{{{D_a_f} \\\\ mm + {D_i_f} \\\\ mm}}{{2}} = {D_mf} \\\\ mm\n",
    "$$\n",
    "\n",
    "\"\"\"))"
   ]
  },
  {
   "cell_type": "code",
   "execution_count": 40,
   "metadata": {},
   "outputs": [
    {
     "data": {
      "text/markdown": [
       "\n",
       "## Bezugsviskosität\n",
       "### Bezugsviskosität $$ v_{1.l} $$ bei $$  n=20.000 \\ \\frac{1}{min} $$ wird aus dem Diagramm (Lagerkatalog S.45) abgelesen:\n",
       "\n",
       "$$\n",
       "\\Large\n",
       "v_{1.f} = 390 \\ \\frac{mm^2}{s}\n",
       "$$\n",
       "\n",
       "### Und die Betriebsviskosität bei Betriebstemperatur 50 C beträgt:\n",
       "$$\n",
       "\\Large\n",
       "v_{f} = 680 \\ \\frac{mm^2}{s}\n",
       "$$\n",
       "\n",
       "### Die Viskositätsverhaltnis ist:\n",
       "\n",
       "$$\n",
       "\\Large\n",
       "k= \\frac{v_{f}}{v_{1.f}} = \\frac{680}{390} = 1.744\n",
       "$$\n",
       "\n",
       "### Mir der Annahme von hochste Sauberkeit wird a3-Lebensdauer von dem Diagramm im Lagerkatalog abgelesen\n",
       "\n",
       "$$\n",
       "\\Large\n",
       "L_{3m.s.f} = a_{1} \\cdot a_{2} \\cdot a_{3.1} \\cdot L_{10h.s.f}\n",
       "= 0.47 \\cdot 1 \\cdot 2 \\cdot 45856.494 = 43105.104 \\ hr\n",
       "$$\n",
       "$$\n",
       "\\Large\n",
       "L_{3m.d.f} = a_{1} \\cdot a_{2} \\cdot a_{3.1} \\cdot L_{10h.d.f}\n",
       "= 0.47 \\cdot 1 \\cdot 2 \\cdot 6596422.183 = 6200636.852 \\ hr\n",
       "$$\n",
       "\n",
       "\n"
      ],
      "text/plain": [
       "<IPython.core.display.Markdown object>"
      ]
     },
     "metadata": {},
     "output_type": "display_data"
    }
   ],
   "source": [
    "v_1f=390 # mm*mm/s\n",
    "v_f=680 \n",
    "k=v_f/v_1f\n",
    "a_31=2\n",
    "L_3m_s_f=a_1*a_2*a_31*L_10h_sf\n",
    "L_3m_d_f=a_1*a_2*a_31*L_10h_df\n",
    "display(Markdown(f\"\"\"\n",
    "## Bezugsviskosität\n",
    "### Bezugsviskosität $$ v_{{1.l}} $$ bei $$  n={n:.3f} \\\\ \\\\frac{{1}}{{min}} $$ wird aus dem Diagramm (Lagerkatalog S.45) abgelesen:\n",
    "\n",
    "$$\n",
    "\\Large\n",
    "v_{{1.f}} = {v_1f} \\\\ \\\\frac{{mm^2}}{{s}}\n",
    "$$\n",
    "\n",
    "### Und die Betriebsviskosität bei Betriebstemperatur {50} C beträgt:\n",
    "$$\n",
    "\\Large\n",
    "v_{{f}} = {v_f} \\\\ \\\\frac{{mm^2}}{{s}}\n",
    "$$\n",
    "\n",
    "### Die Viskositätsverhaltnis ist:\n",
    "\n",
    "$$\n",
    "\\Large\n",
    "k= \\\\frac{{v_{{f}}}}{{v_{{1.f}}}} = \\\\frac{{{v_f}}}{{{v_1f}}} = {k:.3f}\n",
    "$$\n",
    "\n",
    "### Mir der Annahme von hochste Sauberkeit wird a3-Lebensdauer von dem Diagramm im Lagerkatalog abgelesen\n",
    "\n",
    "$$\n",
    "\\Large\n",
    "L_{{3m.s.f}} = a_{{1}} \\cdot a_{{2}} \\cdot a_{{3.1}} \\cdot L_{{10h.s.f}}\n",
    "= {a_1} \\cdot {a_2} \\cdot {a_31} \\cdot {L_10h_sf:.3f} = {L_3m_s_f:.3f} \\\\ hr\n",
    "$$\n",
    "$$\n",
    "\\Large\n",
    "L_{{3m.d.f}} = a_{{1}} \\cdot a_{{2}} \\cdot a_{{3.1}} \\cdot L_{{10h.d.f}}\n",
    "= {a_1} \\cdot {a_2} \\cdot {a_31} \\cdot {L_10h_df:.3f} = {L_3m_d_f:.3f} \\\\ hr\n",
    "$$\n",
    "\n",
    "\n",
    "\"\"\"))"
   ]
  }
 ],
 "metadata": {
  "kernelspec": {
   "display_name": "base",
   "language": "python",
   "name": "python3"
  },
  "language_info": {
   "codemirror_mode": {
    "name": "ipython",
    "version": 3
   },
   "file_extension": ".py",
   "mimetype": "text/x-python",
   "name": "python",
   "nbconvert_exporter": "python",
   "pygments_lexer": "ipython3",
   "version": "3.9.12"
  }
 },
 "nbformat": 4,
 "nbformat_minor": 2
}
