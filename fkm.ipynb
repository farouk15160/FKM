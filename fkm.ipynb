{
 "cells": [
  {
   "cell_type": "code",
   "execution_count": 32,
   "metadata": {},
   "outputs": [],
   "source": [
    "import math\n",
    "\n",
    "Mbx_Biegemoment=0  # Nmm\n",
    "Mby_Biegemoment=800000000 # N mm \n",
    "Mbz_Biegemoment=0  # Nmm\n",
    "Mt_Drehmoment_min=0 # Nm\n",
    "Mt_Drehmoment_max=1200000 # Nm\n",
    "d =250 # mm \n",
    "Q_x=0\n",
    "Q_y=-8000000 # N\n",
    "Q_z=0\n",
    "N_x=-10000\n",
    "N_y=0\n",
    "N_z=0\n",
    "Einheit = lambda x: 'Kpa' if abs(x) > 10000 else 'Mpa'\n",
    "#######################################\n",
    "RM_N = 1100 #Mpa\n",
    "RP_N = 900 #Mpa\n",
    "sigma_zd_N=495 # Mpa\n",
    "tau_s_N=285 # Mpa\n",
    "d_eff=150 # mm\n",
    "werkstoff=\"42CrMo4\"\n",
    "ad_m=0.32\n",
    "ad_p=0.43\n",
    "########################################\n",
    "d_eff_Nm=16 # mm \n",
    "d_eff_Np=16 # mm \n",
    "Kd_m = 1 if d_eff < d_eff_Nm else ((1 - 0.7686 * ad_m * math.log10(d_eff / 7.5)) / (1 - 0.7686 * ad_m * math.log10(d_eff_Nm / 7.5))) if (d_eff_Nm < d_eff and d_eff<250) else ((1-1.17*ad_m)/(1-0.7686*ad_m*math.log10(d_eff_Nm/7.5))) if d_eff > 250 else 0\n",
    "Kd_p = 1 if d_eff < d_eff_Np else ((1 - 0.7686 * ad_p * math.log10(d_eff / 7.5)) / (1 - 0.7686 * ad_p * math.log10(d_eff_Np / 7.5))) if (d_eff_Np < d_eff and d_eff<250 )else   ((1-1.17*ad_p)/(1-0.7686*ad_p*math.log10(d_eff_Np/7.5))) if d_eff > 250 else 0\n",
    "#########################################\n",
    "KA=1\n",
    "##########################################\n",
    "# Bauteilfefstigekit\n",
    "art='kreis' # Rechteck , Kreisring\n",
    "Kpb=1.70\n",
    "Kpt=1.33\n"
   ]
  },
  {
   "cell_type": "code",
   "execution_count": 33,
   "metadata": {},
   "outputs": [],
   "source": [
    "import sympy as sp\n",
    "from IPython.display import display, Markdown\n",
    "\n",
    "# symbol_Smin_x, symbol_Smax_x, symbol_Smin_y, symbol_Smax_y, symbol_Smin_z, symbol_Smax_z = sp.symbols('Smin_x Smax_x Smin_y Smax_y Smin_z Smax_z')\n",
    "# symbol_Mbx_Biegemoment , symbol_Mby_Biegemoment ,symbol_Mbz_Biegemoment=sp.symbols('Mbx_B Mby_B Mbz_B')\n",
    "# symbol_d = sp.symbols('d')\n",
    "\n",
    "Smin_x = 32 * (-Mbx_Biegemoment) / (math.pi * d ** 3)\n",
    "Smax_x = 32 * (Mbx_Biegemoment) / (math.pi * d ** 3)\n",
    "Smin_y = 32 * (-Mby_Biegemoment) / (math.pi * d ** 3)\n",
    "Smax_y = 32 * (Mby_Biegemoment) / (math.pi * d ** 3)\n",
    "Smin_z = 32 * (-Mbz_Biegemoment) / (math.pi * d ** 3)\n",
    "Smax_z = 32 * (Mbz_Biegemoment) / (math.pi * d ** 3)\n",
    "Smax_xd=4*N_x/(math.pi*d**2)\n",
    "Smin_xd=4*-N_x/(math.pi*d**2)\n",
    "Smax_yd=4*N_y/(math.pi*d**2)\n",
    "Smin_yd=4*-N_y/(math.pi*d**2)\n",
    "Smax_zd=4*N_z/(math.pi*d**2)\n",
    "Smin_zd=4*-N_z/(math.pi*d**2)\n",
    "\n"
   ]
  },
  {
   "cell_type": "code",
   "execution_count": 34,
   "metadata": {},
   "outputs": [
    {
     "data": {
      "text/markdown": [
       "\n",
       "## Nennspannungen:\n",
       "\n",
       "### Für die Minimal- und Maximalspannungen ergibt sich:\n",
       "\n",
       "\\begin{align*}\n",
       "\\Large \n",
       "S_{\\text{min}_x} &= \\frac{32 \\cdot (-M_{\\text{bx\\_B}})}{\\pi \\cdot d^3} = \\frac{32 \\cdot (0)}{\\pi \\cdot 250^3} = 0.000 \\, Mpa  \\\\\\\\\n",
       "\\Large \n",
       "S_{\\text{max}_x} &= \\frac{32 \\cdot (M_{\\text{bx\\_B}})}{\\pi \\cdot d^3} = \\frac{32 \\cdot (0)}{\\pi \\cdot 250^3} = 0.000 \\, Mpa \\\\\\\\\n",
       "\\Large \n",
       "S_{\\text{min}_y} &= \\frac{32 \\cdot (-M_{\\text{by\\_B}})}{\\pi \\cdot d^3} = \\frac{32 \\cdot (-800000000)}{\\pi \\cdot 250^3} = -521.519 \\, Mpa \\\\\\\\\n",
       "\\Large \n",
       "S_{\\text{max}_y} &= \\frac{32 \\cdot (M_{\\text{by\\_B}})}{\\pi \\cdot d^3} = \\frac{32 \\cdot (800000000)}{\\pi \\cdot 250^3} = 521.519 \\, Mpa \\\\\\\\\n",
       "\\Large \n",
       "S_{\\text{min}_z} &= \\frac{32 \\cdot (-M_{\\text{bz\\_B}})}{\\pi \\cdot d^3} = \\frac{32 \\cdot (0)}{\\pi \\cdot 250^3} = 0.000 \\, Mpa  \\\\\\\\\n",
       "\\Large \n",
       "S_{\\text{max}_z} &= \\frac{32 \\cdot (M_{\\text{bz\\_B}})}{\\pi \\cdot d^3} = \\frac{32 \\cdot (0)}{\\pi \\cdot 250^3} = 0.000 \\, Mpa  \\\\\\\\\n",
       "\\Large \n",
       "S_{\\text{max}_xd} &= \\frac{4 \\cdot (N_{\\text{max\\_x}})}{\\pi \\cdot d^2} = \\frac{4 \\cdot (-10000)}{\\pi \\cdot 250^2} = -0.204 \\, Mpa  \\\\\\\\\n",
       "\\Large \n",
       "S_{\\text{min}_xd} &= \\frac{4 \\cdot (-N_{\\text{max\\_x}})}{\\pi \\cdot d^2} = \\frac{4 \\cdot (--10000)}{\\pi \\cdot 250^2} = -0.204 \\, Mpa  \\\\\\\\\n",
       "\\Large \n",
       "S_{\\text{max}_yd} &= \\frac{4 \\cdot (N_{\\text{max\\_y}})}{\\pi \\cdot d^2} = \\frac{4 \\cdot (0)}{\\pi \\cdot 250^2} = 0.000 \\, Mpa  \\\\\\\\\n",
       "\\Large \n",
       "S_{\\text{min}_yd} &= \\frac{4 \\cdot (-N_{\\text{max\\_y}})}{\\pi \\cdot d^2} = \\frac{4 \\cdot (-0)}{\\pi \\cdot 250^2} = 0.000 \\, Mpa  \\\\\\\\\n",
       "\\Large \n",
       "S_{\\text{max}_zd} &= \\frac{4 \\cdot (N_{\\text{max\\_z}})}{\\pi \\cdot d^2} = \\frac{4 \\cdot (0)}{\\pi \\cdot 250^2} = 0.000 \\, Mpa  \\\\\\\\\n",
       "\\Large \n",
       "S_{\\text{min}_zd} &= \\frac{4 \\cdot (-N_{\\text{max\\_z}})}{\\pi \\cdot d^2} = \\frac{4 \\cdot (-0)}{\\pi \\cdot 250^2} = 0.000 \\, Mpa  \n",
       "\\end{align*}\n"
      ],
      "text/plain": [
       "<IPython.core.display.Markdown object>"
      ]
     },
     "metadata": {},
     "output_type": "display_data"
    }
   ],
   "source": [
    "\n",
    "# Assuming you have already calculated expr_Smin_x, expr_Smax_x, expr_Smin_y, expr_Smax_y, expr_Smin_z, and expr_Smax_z\n",
    "\n",
    "# Render the Markdown cell with the variable values\n",
    "display(Markdown(f\"\"\"\n",
    "## Nennspannungen:\n",
    "\n",
    "### Für die Minimal- und Maximalspannungen ergibt sich:\n",
    "\n",
    "\\\\begin{{align*}}\n",
    "\\Large \n",
    "S_{{\\\\text{{min}}_x}} &= \\\\frac{{32 \\cdot (-M_{{\\\\text{{bx\\_B}}}})}}{{\\\\pi \\cdot d^3}} = \\\\frac{{32 \\cdot ({-Mbx_Biegemoment})}}{{\\\\pi \\cdot {d}^3}} = {Smin_x:.3f} \\, {Einheit(Smin_x)}  \\\\\\\\\\\\\\\\\n",
    "\\Large \n",
    "S_{{\\\\text{{max}}_x}} &= \\\\frac{{32 \\cdot (M_{{\\\\text{{bx\\_B}}}})}}{{\\\\pi \\cdot d^3}} = \\\\frac{{32 \\cdot ({Mbx_Biegemoment})}}{{\\\\pi \\cdot {d}^3}} = {Smax_x:.3f} \\, {Einheit(Smax_x)} \\\\\\\\\\\\\\\\\n",
    "\\Large \n",
    "S_{{\\\\text{{min}}_y}} &= \\\\frac{{32 \\cdot (-M_{{\\\\text{{by\\_B}}}})}}{{\\\\pi \\cdot d^3}} = \\\\frac{{32 \\cdot ({-Mby_Biegemoment})}}{{\\\\pi \\cdot {d}^3}} = {Smin_y:.3f} \\, {Einheit(Smin_y)} \\\\\\\\\\\\\\\\\n",
    "\\Large \n",
    "S_{{\\\\text{{max}}_y}} &= \\\\frac{{32 \\cdot (M_{{\\\\text{{by\\_B}}}})}}{{\\\\pi \\cdot d^3}} = \\\\frac{{32 \\cdot ({Mby_Biegemoment})}}{{\\\\pi \\cdot {d}^3}} = {Smax_y:.3f} \\, {Einheit(Smax_y)} \\\\\\\\\\\\\\\\\n",
    "\\Large \n",
    "S_{{\\\\text{{min}}_z}} &= \\\\frac{{32 \\cdot (-M_{{\\\\text{{bz\\_B}}}})}}{{\\\\pi \\cdot d^3}} = \\\\frac{{32 \\cdot ({-Mbz_Biegemoment})}}{{\\\\pi \\cdot {d}^3}} = {Smin_z:.3f} \\, {Einheit(Smin_z)}  \\\\\\\\\\\\\\\\\n",
    "\\Large \n",
    "S_{{\\\\text{{max}}_z}} &= \\\\frac{{32 \\cdot (M_{{\\\\text{{bz\\_B}}}})}}{{\\\\pi \\cdot d^3}} = \\\\frac{{32 \\cdot ({Mbz_Biegemoment})}}{{\\\\pi \\cdot {d}^3}} = {Smax_z:.3f} \\, {Einheit(Smax_z)}  \\\\\\\\\\\\\\\\\n",
    "\\Large \n",
    "S_{{\\\\text{{max}}_xd}} &= \\\\frac{{4 \\cdot (N_{{\\\\text{{max\\_x}}}})}}{{\\\\pi \\cdot d^2}} = \\\\frac{{4 \\cdot ({N_x})}}{{\\\\pi \\cdot {d}^2}} = {Smax_xd:.3f} \\, {Einheit(Smax_xd)}  \\\\\\\\\\\\\\\\\n",
    "\\Large \n",
    "S_{{\\\\text{{min}}_xd}} &= \\\\frac{{4 \\cdot (-N_{{\\\\text{{max\\_x}}}})}}{{\\\\pi \\cdot d^2}} = \\\\frac{{4 \\cdot (-{N_x})}}{{\\\\pi \\cdot {d}^2}} = {-Smin_xd:.3f} \\, {Einheit(Smin_xd)}  \\\\\\\\\\\\\\\\\n",
    "\\Large \n",
    "S_{{\\\\text{{max}}_yd}} &= \\\\frac{{4 \\cdot (N_{{\\\\text{{max\\_y}}}})}}{{\\\\pi \\cdot d^2}} = \\\\frac{{4 \\cdot ({N_y})}}{{\\\\pi \\cdot {d}^2}} = {Smax_yd:.3f} \\, {Einheit(Smax_yd)}  \\\\\\\\\\\\\\\\\n",
    "\\Large \n",
    "S_{{\\\\text{{min}}_yd}} &= \\\\frac{{4 \\cdot (-N_{{\\\\text{{max\\_y}}}})}}{{\\\\pi \\cdot d^2}} = \\\\frac{{4 \\cdot (-{N_y})}}{{\\\\pi \\cdot {d}^2}} = {Smin_yd:.3f} \\, {Einheit(Smin_yd)}  \\\\\\\\\\\\\\\\\n",
    "\\Large \n",
    "S_{{\\\\text{{max}}_zd}} &= \\\\frac{{4 \\cdot (N_{{\\\\text{{max\\_z}}}})}}{{\\\\pi \\cdot d^2}} = \\\\frac{{4 \\cdot ({N_z})}}{{\\\\pi \\cdot {d}^2}} = {Smax_zd:.3f} \\, {Einheit(Smax_zd)}  \\\\\\\\\\\\\\\\\n",
    "\\Large \n",
    "S_{{\\\\text{{min}}_zd}} &= \\\\frac{{4 \\cdot (-N_{{\\\\text{{max\\_z}}}})}}{{\\\\pi \\cdot d^2}} = \\\\frac{{4 \\cdot (-{N_z})}}{{\\\\pi \\cdot {d}^2}} = {Smin_zd:.3f} \\, {Einheit(Smin_zd)}  \n",
    "\\\\end{{align*}}\n",
    "\"\"\"))\n"
   ]
  },
  {
   "cell_type": "code",
   "execution_count": 35,
   "metadata": {},
   "outputs": [
    {
     "data": {
      "text/markdown": [
       "\n",
       "## Gesamtpannungen: \n",
       "\n",
       "\n",
       "\\begin{align*}\n",
       "\\\\\n",
       "\\\\\n",
       "\\Large\n",
       "S_{\\text{min}_b} &= \\Large -\\sqrt{S_{\\text{min}_x}^2 + S_{\\text{min}_y}^2 + S_{\\text{min}_z}^2} = \\sqrt{(0.000)^2 + (-521.519)^2 + (0.000)^2} = -521.519 \\, Mpa \\\\\\\\\n",
       "\\\\\n",
       "\\Large\n",
       "S_{\\text{max}_b} &= \\Large \\sqrt{S_{\\text{max}_x}^2 + S_{\\text{max}_y}^2 + S_{\\text{max}_z}^2} = \\sqrt{(0.000)^2 + (521.519)^2 + (0.000)^2} = 521.519 \\, Mpa \\\\\\\\\n",
       "\\\\\n",
       "\\Large\n",
       "T_{\\text{min}_t} &= \\Large \\frac{16 \\cdot M_{\\text{t.min}}}{\\pi \\cdot d^3} = \\frac{16 \\cdot (0.000)}{\\pi \\cdot 250^3} = 0.000 \\, Mpa \\\\\\\\\n",
       "\\\\\n",
       "\\Large\n",
       "T_{\\text{max}_t} &= \\Large \\frac{16 \\cdot M_{\\text{t.max}}}{\\pi \\cdot d^3} = \\frac{16 \\cdot (1200000.000)}{\\pi \\cdot 250^3} = 0.391 \\, Mpa \\\\\\\\\n",
       "\\\\\n",
       "\\Large\n",
       "S_{\\text{min}_n} &= \\Large -\\sqrt{S_{\\text{min}_xd}^2 + S_{\\text{min}_yd}^2 + S_{\\text{min}_zd}^2} = \\sqrt{(0.204)^2 + (0.000)^2 + (0.000)^2} = -0.204 \\, Mpa \\\\\\\\\n",
       "\\\\\n",
       "\\Large\n",
       "S_{\\text{max}_n} &= \\Large -\\sqrt{S_{\\text{max}_xd}^2 + S_{\\text{max}_yd}^2 + S_{\\text{max}_zd}^2} = \\sqrt{(-0.204)^2 + (0.000)^2 + (0.000)^2} = 0.204 \\, Mpa \n",
       "\\end{align*} \n"
      ],
      "text/plain": [
       "<IPython.core.display.Markdown object>"
      ]
     },
     "metadata": {},
     "output_type": "display_data"
    }
   ],
   "source": [
    "# symbol_Smax_b, symbol_Smin_b, symbol_Tmin_t, symbol_Tmax_t = sp.symbols('Smax_b Smin_b Tmin_t Tmax_t')\n",
    "\n",
    "\n",
    "Smax_b = math.sqrt(Smax_x**2 + Smax_y**2 + Smax_z**2 )\n",
    "Smin_b = -math.sqrt(Smin_x**2 + Smin_y**2 + Smin_z**2 )\n",
    "Tmin_t = 16 * Mt_Drehmoment_min / (math.pi*d**3 )\n",
    "Tmax_t = 16 * Mt_Drehmoment_max / (math.pi*d**3 )\n",
    "Smax_n=math.sqrt(Smax_xd**2 + Smax_yd**2 + Smax_zd**2 )\n",
    "Smin_n = -math.sqrt(Smin_xd**2 + Smin_yd**2 + Smin_zd**2 )\n",
    "\n",
    "\n",
    "display(Markdown(f\"\"\"\n",
    "## Gesamtpannungen: \n",
    "\n",
    "\n",
    "\\\\begin{{align*}}\n",
    "\\\\\\\\\n",
    "\\\\\\\\\n",
    "\\Large\n",
    "S_{{\\\\text{{min}}_b}} &= \\Large -\\\\sqrt{{S_{{\\\\text{{min}}_x}}^2 + S_{{\\\\text{{min}}_y}}^2 + S_{{\\\\text{{min}}_z}}^2}} = \\\\sqrt{{({Smin_x:.3f})^2 + ({Smin_y:.3f})^2 + ({Smin_z:.3f})^2}} = {Smin_b:.3f} \\\\, {Einheit(Smin_b)} \\\\\\\\\\\\\\\\\n",
    "\\\\\\\\\n",
    "\\Large\n",
    "S_{{\\\\text{{max}}_b}} &= \\Large \\\\sqrt{{S_{{\\\\text{{max}}_x}}^2 + S_{{\\\\text{{max}}_y}}^2 + S_{{\\\\text{{max}}_z}}^2}} = \\\\sqrt{{({Smax_x:.3f})^2 + ({Smax_y:.3f})^2 + ({Smax_z:.3f})^2}} = {Smax_b:.3f} \\\\, {Einheit(Smax_b)} \\\\\\\\\\\\\\\\\n",
    "\\\\\\\\\n",
    "\\Large\n",
    "T_{{\\\\text{{min}}_t}} &= \\Large \\\\frac{{16 \\cdot M_{{\\\\text{{t.min}}}}}}{{\\pi \\cdot d^3}} = \\\\frac{{16 \\cdot ({Mt_Drehmoment_min:.3f})}}{{\\pi \\cdot {d}^3}} = {Tmin_t:.3f} \\\\, {Einheit(Tmin_t)} \\\\\\\\\\\\\\\\\n",
    "\\\\\\\\\n",
    "\\Large\n",
    "T_{{\\\\text{{max}}_t}} &= \\Large \\\\frac{{16 \\cdot M_{{\\\\text{{t.max}}}}}}{{\\pi \\cdot d^3}} = \\\\frac{{16 \\cdot ({Mt_Drehmoment_max:.3f})}}{{\\pi \\cdot {d}^3}} = {Tmax_t:.3f} \\\\, {Einheit(Tmax_t)} \\\\\\\\\\\\\\\\\n",
    "\\\\\\\\\n",
    "\\Large\n",
    "S_{{\\\\text{{min}}_n}} &= \\Large -\\\\sqrt{{S_{{\\\\text{{min}}_xd}}^2 + S_{{\\\\text{{min}}_yd}}^2 + S_{{\\\\text{{min}}_zd}}^2}} = \\\\sqrt{{({Smin_xd:.3f})^2 + ({Smin_yd:.3f})^2 + ({Smin_zd:.3f})^2}} = {Smin_n:.3f} \\\\, {Einheit(Smin_n)} \\\\\\\\\\\\\\\\\n",
    "\\\\\\\\\n",
    "\\Large\n",
    "S_{{\\\\text{{max}}_n}} &= \\Large -\\\\sqrt{{S_{{\\\\text{{max}}_xd}}^2 + S_{{\\\\text{{max}}_yd}}^2 + S_{{\\\\text{{max}}_zd}}^2}} = \\\\sqrt{{({Smax_xd:.3f})^2 + ({Smax_yd:.3f})^2 + ({Smax_zd:.3f})^2}} = {Smax_n:.3f} \\\\, {Einheit(Smax_n)} \n",
    "\\\\end{{align*}} \n",
    "\"\"\"))\n",
    "\n",
    "\n",
    "\n"
   ]
  },
  {
   "cell_type": "code",
   "execution_count": 36,
   "metadata": {},
   "outputs": [
    {
     "data": {
      "text/markdown": [
       "\n",
       "# Statische Festigkeitswerte und Festigkeitsnachweis\n",
       "\n",
       "## Werkstoffnormwerte\n",
       "\n",
       "##### Für den Werkstoff 42CrMo4 ergeben sich aus der Tabelle die Norm-Zugfestigkeit und Streckgrenze: \n",
       "\n",
       "##### - Norm-Zugfestigkeit  ($\\Large S_{\\text{min}_b}$): 700 MPa\n",
       "##### - Norm-Streckgrenze ($\\Large S_{\\text{max}_b}$): 490 MPa\n",
       "\n",
       "##### Der effektive Durchmesser ($\\Large d_{\\text{eff}}$) beträgt 150 mm.\n",
       "\n",
       "##### Zur Berechnung werden außerdem folgende Faktoren benötigt:\n",
       "\n",
       "##### - Adhäsionskoeffizient ($\\Large a_d$) = 0.3\n",
       "##### - Adhäsionskoeffizient ($\\Large a_p$) = 0.4\n"
      ],
      "text/plain": [
       "<IPython.core.display.Markdown object>"
      ]
     },
     "metadata": {},
     "output_type": "display_data"
    }
   ],
   "source": [
    "display(Markdown(f\"\"\"\n",
    "# Statische Festigkeitswerte und Festigkeitsnachweis\n",
    "\n",
    "## Werkstoffnormwerte\n",
    "\n",
    "##### Für den Werkstoff 42CrMo4 ergeben sich aus der Tabelle die Norm-Zugfestigkeit und Streckgrenze: \n",
    "\n",
    "##### - Norm-Zugfestigkeit  ($\\Large S_{{\\\\text{{min}}_b}}$): 700 MPa\n",
    "##### - Norm-Streckgrenze ($\\Large S_{{\\\\text{{max}}_b}}$): 490 MPa\n",
    "\n",
    "##### Der effektive Durchmesser ($\\Large d_{{\\\\text{{eff}}}}$) beträgt {d_eff} mm.\n",
    "\n",
    "##### Zur Berechnung werden außerdem folgende Faktoren benötigt:\n",
    "\n",
    "##### - Adhäsionskoeffizient ($\\Large a_d$) = 0.3\n",
    "##### - Adhäsionskoeffizient ($\\Large a_p$) = 0.4\n",
    "\"\"\"))"
   ]
  },
  {
   "cell_type": "code",
   "execution_count": 37,
   "metadata": {},
   "outputs": [
    {
     "data": {
      "text/markdown": [
       "\n",
       "### Bestimmung der Technolgischen Größenfaktoren:\n",
       "\n",
       "### Die Formel für den technologischen Größenfaktor $Kd_m$ lautet: \\\n",
       "## Zugfestigekeit\n",
       "$$\n",
       "\\huge\n",
       "Kd_m = \\begin{cases}\n",
       "1 & \\text{für } d_{\\text{eff}} \\leq d_{\\text{eff\\_Nm}} \\\\\n",
       "\\frac{1 - 0.7686 \\times ad_m \\times \\log_{10}(\\frac{d_{\\text{eff}}}{7.5})}{1 - 0.7686 \\times ad_m \\times \\log_{10}(\\frac{d_{\\text{eff\\_Nm}}}{7.5})} & \\text{für } d_{\\text{eff}} < 250 \\text{ und } d_{\\text{eff\\_Nm}} < d_{\\text{eff}} \\\\\\\\\n",
       "\\frac{1 - 1.17 \\times ad_m}{1 - 0.7686 \\times ad_m \\times \\log_{10}(\\frac{d_{\\text{eff\\_Nm}}}{7.5})} & \\text{für } d_{\\text{eff}} > 250 \\\\\\\\\n",
       "0 & \\text{sonst}\n",
       "\\end{cases}\n",
       "$$\n"
      ],
      "text/plain": [
       "<IPython.core.display.Markdown object>"
      ]
     },
     "metadata": {},
     "output_type": "display_data"
    },
    {
     "data": {
      "text/markdown": [
       "\n",
       "Für  $\\Large d_{\\text{eff}} < d_{\\text{eff\\_Nm}} < 250$ (für nichtrosthende Stahl):\n",
       "$\\Large Kd_m = \\frac{1 - 0.7686 \\times 0.32 \\times \\log_{10}(\\frac{d_{\\text{eff}}}{7.5})}{1 - 0.7686 \\times 0.32 \\times \\log_{10}(\\frac{d_{\\text{eff\\_Nm}}}{7.5})} = 0.74$\n"
      ],
      "text/plain": [
       "<IPython.core.display.Markdown object>"
      ]
     },
     "metadata": {},
     "output_type": "display_data"
    }
   ],
   "source": [
    "\n",
    "from sympy import symbols\n",
    "# Display the equation first\n",
    "\n",
    "ad_m_symbol = symbols('ad_m')\n",
    "\n",
    "# Display the equation with the symbol\n",
    "display(Markdown(f\"\"\"\n",
    "### Bestimmung der Technolgischen Größenfaktoren:\n",
    "\n",
    "### Die Formel für den technologischen Größenfaktor $Kd_m$ lautet: \\\\\n",
    "## Zugfestigekeit\n",
    "$$\n",
    "\\huge\n",
    "Kd_m = \\\\begin{{cases}}\n",
    "1 & \\\\text{{für }} d_{{\\\\text{{eff}}}} \\\\leq d_{{\\\\text{{eff\\_Nm}}}} \\\\\\\\\n",
    "\\\\frac{{1 - 0.7686 \\\\times {ad_m_symbol} \\\\times \\\\log_{{10}}(\\\\frac{{d_{{\\\\text{{eff}}}}}}{{7.5}})}}{{1 - 0.7686 \\\\times {ad_m_symbol} \\\\times \\\\log_{{10}}(\\\\frac{{d_{{\\\\text{{eff\\_Nm}}}}}}{{7.5}})}} & \\\\text{{für }} d_{{\\\\text{{eff}}}} < 250 \\\\text{{ und }} d_{{\\\\text{{eff\\_Nm}}}} < d_{{\\\\text{{eff}}}} \\\\\\\\\\\\\\\\\n",
    "\\\\frac{{1 - 1.17 \\\\times {ad_m_symbol}}}{{1 - 0.7686 \\\\times {ad_m_symbol} \\\\times \\\\log_{{10}}(\\\\frac{{d_{{\\\\text{{eff\\_Nm}}}}}}{{7.5}})}} & \\\\text{{für }} d_{{\\\\text{{eff}}}} > 250 \\\\\\\\\\\\\\\\\n",
    "0 & \\\\text{{sonst}}\n",
    "\\\\end{{cases}}\n",
    "$$\n",
    "\"\"\"))\n",
    "\n",
    "# Then display the equation with variable values\n",
    "if d_eff <= d_eff_Nm:\n",
    "    display(Markdown(f\"\"\"\n",
    "\n",
    "Für $\\Large d_{{\\\\text{{eff}}}} \\\\leq d_{{\\\\text{{eff\\_Nm}}}}$ und für nichtrosthende Stahl: \n",
    "$\\Large Kd_m = {Kd_m:.3f}$\n",
    "\"\"\"))\n",
    "if d_eff < 250 and d_eff_Nm < d_eff:\n",
    "    display(Markdown(f\"\"\"\n",
    "Für  $\\Large d_{{\\\\text{{eff}}}} < d_{{\\\\text{{eff\\_Nm}}}} < 250$ (für nichtrosthende Stahl):\n",
    "$\\Large Kd_m = \\\\frac{{1 - 0.7686 \\\\times {ad_m} \\\\times \\\\log_{{10}}(\\\\frac{{d_{{\\\\text{{eff}}}}}}{{7.5}})}}{{1 - 0.7686 \\\\times {ad_m} \\\\times \\\\log_{{10}}(\\\\frac{{d_{{\\\\text{{eff\\_Nm}}}}}}{{7.5}})}} = {Kd_m:.2f}$\n",
    "\"\"\"))\n",
    "if d_eff > 250:\n",
    "    display(Markdown(f\"\"\"\n",
    "\n",
    "Für $\\Large d_{{\\\\text{{eff}}}} > 250$ (für nichtrosthende Stahl):\n",
    "$\\Large Kd_m = \\\\frac{{1 - 1.17 \\\\times {ad_m}}}{{1 - 0.7686 \\\\times {ad_m} \\\\times \\\\log_{{10}}(\\\\frac{{d_{{\\\\text{{eff\\_Nm}}}}}}{{7.5}})}} = {Kd_m:.2f}$\n",
    "\"\"\"))\n",
    "\n",
    "\n"
   ]
  },
  {
   "cell_type": "code",
   "execution_count": 38,
   "metadata": {},
   "outputs": [
    {
     "data": {
      "text/markdown": [
       "\n",
       "\n",
       "## Fließgrenze:\n",
       "#### Die Formel für den technologischen Größenfaktor $Kd_p$ lautet:\n",
       "\n",
       "$$\n",
       "\\huge\n",
       "Kd_p = \\begin{cases}\n",
       "1 & \\text{für } d_{\\text{eff}} \\leq d_{\\text{eff\\_Np}} \\\\\n",
       "\\frac{1 - 0.7686 \\times ad_p \\times \\log_{10}(\\frac{d_{\\text{eff}}}{7.5})}{1 - 0.7686 \\times ad_p \\times \\log_{10}(\\frac{d_{\\text{eff\\_Np}}}{7.5})} & \\text{für } d_{\\text{eff}} < 250 \\text{ und } d_{\\text{eff\\_Np}} < d_{\\text{eff}} \\\\\\\n",
       "\\frac{1 - 1.17 \\times ad_p}{1 - 0.7686 \\times ad_p \\times \\log_{10}(\\frac{d_{\\text{eff\\_Np}}}{7.5})} & \\text{für } d_{\\text{eff}} > 250 \\\\\\\n",
       "0 & \\text{sonst}\n",
       "\\end{cases}\n",
       "$$\n"
      ],
      "text/plain": [
       "<IPython.core.display.Markdown object>"
      ]
     },
     "metadata": {},
     "output_type": "display_data"
    },
    {
     "data": {
      "text/markdown": [
       "\n",
       "\n",
       "Für $\\Large d_{\\text{eff}} < d_{\\text{eff\\_Np}} < 250$ (für nichtrosthende Stahl):\n",
       "$\\Large Kd_p = \\frac{1 - 0.7686 \\times 0.43 \\times \\log_{10}(\\frac{d_{\\text{eff}}}{7.5})}{1 - 0.7686 \\times 0.43 \\times \\log_{10}(\\frac{d_{\\text{eff\\_Np}}}{7.5})} = 0.64$\n",
       "\n"
      ],
      "text/plain": [
       "<IPython.core.display.Markdown object>"
      ]
     },
     "metadata": {},
     "output_type": "display_data"
    }
   ],
   "source": [
    "\n",
    "from sympy import symbols\n",
    "# Display the equation first\n",
    "\n",
    "ad_p_symbol = symbols('ad_p')\n",
    "\n",
    "# Display the equation with the symbol\n",
    "display(Markdown(f\"\"\"\n",
    "\n",
    "## Fließgrenze:\n",
    "#### Die Formel für den technologischen Größenfaktor $Kd_p$ lautet:\n",
    "\n",
    "$$\n",
    "\\huge\n",
    "Kd_p = \\\\begin{{cases}}\n",
    "1 & \\\\text{{für }} d_{{\\\\text{{eff}}}} \\\\leq d_{{\\\\text{{eff\\_Np}}}} \\\\\\\\\n",
    "\\\\frac{{1 - 0.7686 \\\\times {ad_p_symbol} \\\\times \\\\log_{{10}}(\\\\frac{{d_{{\\\\text{{eff}}}}}}{{7.5}})}}{{1 - 0.7686 \\\\times {ad_p_symbol} \\\\times \\\\log_{{10}}(\\\\frac{{d_{{\\\\text{{eff\\_Np}}}}}}{{7.5}})}} & \\\\text{{für }} d_{{\\\\text{{eff}}}} < 250 \\\\text{{ und }} d_{{\\\\text{{eff\\_Np}}}} < d_{{\\\\text{{eff}}}} \\\\\\\\\\\\\n",
    "\\\\frac{{1 - 1.17 \\\\times {ad_p_symbol}}}{{1 - 0.7686 \\\\times {ad_p_symbol} \\\\times \\\\log_{{10}}(\\\\frac{{d_{{\\\\text{{eff\\_Np}}}}}}{{7.5}})}} & \\\\text{{für }} d_{{\\\\text{{eff}}}} > 250 \\\\\\\\\\\\\n",
    "0 & \\\\text{{sonst}}\n",
    "\\\\end{{cases}}\n",
    "$$\n",
    "\"\"\"))\n",
    "\n",
    "# Then display the equation with variable values\n",
    "if d_eff <= d_eff_Np:\n",
    "    display(Markdown(f\"\"\"\n",
    "Für $\\Large d_{{\\\\text{{eff}}}} \\\\leq d_{{\\\\text{{eff\\_Np}}}}$ und für nichtrosthende Stahl:\n",
    "$\\Large Kd_p = {Kd_p:.3f}$\n",
    "\"\"\"))\n",
    "if d_eff < 250 and d_eff_Np < d_eff:\n",
    "    display(Markdown(f\"\"\"\n",
    "\n",
    "Für $\\Large d_{{\\\\text{{eff}}}} < d_{{\\\\text{{eff\\_Np}}}} < 250$ (für nichtrosthende Stahl):\n",
    "$\\Large Kd_p = \\\\frac{{1 - 0.7686 \\\\times {ad_p} \\\\times \\\\log_{{10}}(\\\\frac{{d_{{\\\\text{{eff}}}}}}{{7.5}})}}{{1 - 0.7686 \\\\times {ad_p} \\\\times \\\\log_{{10}}(\\\\frac{{d_{{\\\\text{{eff\\_Np}}}}}}{{7.5}})}} = {Kd_p:.2f}$\n",
    "\n",
    "\"\"\"))\n",
    "if d_eff > 250:\n",
    "    display(Markdown(f\"\"\"\n",
    "Für $\\Large d_{{\\\\text{{eff}}}} > 250$ (für nichtrosthende Stahl):\n",
    "$\\Large Kd_p = \\\\frac{{1 - 1.17 \\\\times {ad_p}}}{{1 - 0.7686 \\\\times {ad_p} \\\\times \\\\log_{{10}}(\\\\frac{{d_{{\\\\text{{eff\\_Np}}}}}}{{7.5}})}} = {Kd_p:.2f}$\n",
    "\"\"\"))\n",
    "\n",
    "\n"
   ]
  },
  {
   "cell_type": "code",
   "execution_count": 39,
   "metadata": {},
   "outputs": [
    {
     "data": {
      "text/markdown": [
       "\n",
       "## Anisotropiefaktor\n",
       "\n",
       "#### Da Schubspannungen und Kerbe vorliegen, definieren wir den Anisotropiefaktor:\n",
       "\n",
       "$$\n",
       "\\large\n",
       "KA = 1\n",
       "$$\n",
       "\n",
       "#### Zugfestigkeit und Fließgrenze des Werkstoffs im Bauteil:\n",
       "\n",
       "$$\n",
       "\\large\n",
       "R_{m} = K_{d.m} \\times K_A \\times R_{m.N} =  0.74 \\times 1 \\times 1100 =  813.88 \\ Mpa \n",
       "$$\n",
       "\n",
       "\n",
       "$$\n",
       "\\large\n",
       "R_{p} = K_{d.p} \\times K_A \\times R_{p.N} = 0.64 \\times 1 \\times 900 = 575.61 \\  Mpa \n",
       "$$\n"
      ],
      "text/plain": [
       "<IPython.core.display.Markdown object>"
      ]
     },
     "metadata": {},
     "output_type": "display_data"
    }
   ],
   "source": [
    "\n",
    "Rm= Kd_m*KA*RM_N # MPA\n",
    "Rp= Kd_p*KA*RP_N # MPA\n",
    "if Rp==0:\n",
    "    Rp=1\n",
    "display(Markdown(f\"\"\"\n",
    "## Anisotropiefaktor\n",
    "\n",
    "#### Da Schubspannungen und Kerbe vorliegen, definieren wir den Anisotropiefaktor:\n",
    "\n",
    "$$\n",
    "\\large\n",
    "KA = {KA}\n",
    "$$\n",
    "\n",
    "#### Zugfestigkeit und Fließgrenze des Werkstoffs im Bauteil:\n",
    "\n",
    "$$\n",
    "\\large\n",
    "R_{{m}} = K_{{d.m}} \\\\times K_A \\\\times R_{{m.N}} =  {Kd_m:.2f} \\\\times {KA} \\\\times {RM_N} =  {Rm:.2f} \\\\ {Einheit(Rm)} \n",
    "$$\n",
    "\n",
    "\n",
    "$$\n",
    "\\large\n",
    "R_{{p}} = K_{{d.p}} \\\\times K_A \\\\times R_{{p.N}} = {Kd_p:.2f} \\\\times {KA} \\\\times {RP_N} = {Rp:.2f} \\\\  {Einheit(Rp)} \n",
    "$$\n",
    "\"\"\"))\n",
    "\n"
   ]
  },
  {
   "cell_type": "code",
   "execution_count": 40,
   "metadata": {},
   "outputs": [
    {
     "data": {
      "text/markdown": [
       "\n",
       "## Bauteilfestigkeit\n",
       "\n",
       "##### Plastische Stützwirkungen werden nur bei den Belastungsarten mit Spannungsgefälle berücksichtigt, \n",
       "##### wie Biegung und Torsion. \n",
       "##### Die Plastische Formzahl für einen kreis-Querschnitt beträgt:\n",
       "\n",
       "\n",
       "\n",
       "$$\n",
       "\\large\n",
       "K_{p.b} = 1.7\n",
       "$$\n",
       "\n",
       "$$\n",
       "\\large\n",
       "K_{p.t} = 1.33\n",
       "$$\n",
       "\n",
       "##### Damit kann die Stützzahl ermittelt werden.\n"
      ],
      "text/plain": [
       "<IPython.core.display.Markdown object>"
      ]
     },
     "metadata": {},
     "output_type": "display_data"
    }
   ],
   "source": [
    "# Kt_zd=sigma_zd_max\n",
    "\n",
    "display(Markdown(f\"\"\"\n",
    "## Bauteilfestigkeit\n",
    "\n",
    "##### Plastische Stützwirkungen werden nur bei den Belastungsarten mit Spannungsgefälle berücksichtigt, \n",
    "##### wie Biegung und Torsion. \n",
    "##### Die Plastische Formzahl für einen {art}-Querschnitt beträgt:\n",
    "\n",
    "\n",
    "\n",
    "$$\n",
    "\\large\n",
    "K_{{p.b}} = {Kpb}\n",
    "$$\n",
    "\n",
    "$$\n",
    "\\large\n",
    "K_{{p.t}} = {Kpt}\n",
    "$$\n",
    "\n",
    "##### Damit kann die Stützzahl ermittelt werden.\n",
    "\"\"\"))\n"
   ]
  },
  {
   "cell_type": "code",
   "execution_count": 41,
   "metadata": {},
   "outputs": [
    {
     "data": {
      "text/markdown": [
       " \n",
       "### Berechnung der plastischen Formzahl\n",
       "\n",
       "##### Die plastische Formzahl für die Biegung $(npl_{b})$ und Torsion $(npl_{t})$ wird wie folgt berechnet:\n",
       "\n",
       "$$\n",
       "\\large\n",
       "npl_b = \\min\\left(\\sqrt{\\frac{1050}{Rp}}, Kpb\\right) \\quad \\text{falls } Rp < 1050 =  \\min\\left(\\sqrt{\\frac{1050}{575.61}}, 1.7\\right) \\quad = 1.35 \\\\\\ \\\\\\\n",
       "$$\n",
       "\n",
       "$$\n",
       "\\large\n",
       "npl_t = \\min\\left(\\sqrt{\\frac{1050}{Rp}}, Kpt\\right) \\quad \\text{falls } Rp < 1050 =  \\min\\left(\\sqrt{\\frac{1050}{575.61}}, 1.33\\right) \\quad = 1.33\n",
       "$$\n",
       "\n",
       "\n",
       "##### Wenn $R_{p}$ größer oder gleich 1050 ist, beträgt die plastische Formzahl für beide Belastungsarten 1.\n",
       "\n"
      ],
      "text/plain": [
       "<IPython.core.display.Markdown object>"
      ]
     },
     "metadata": {},
     "output_type": "display_data"
    }
   ],
   "source": [
    "npl_b = min(math.sqrt(1050/Rp), Kpb) if Rp < 1050 else 1\n",
    "npl_t = min(math.sqrt(1050/Rp), Kpt) if Rp < 1050 else 1\n",
    "\n",
    "\n",
    "display(Markdown(f\"\"\" \n",
    "### Berechnung der plastischen Formzahl\n",
    "\n",
    "##### Die plastische Formzahl für die Biegung $(npl_{{b}})$ und Torsion $(npl_{{t}})$ wird wie folgt berechnet:\n",
    "\n",
    "$$\n",
    "\\large\n",
    "npl_b = \\\\min\\\\left(\\\\sqrt{{\\\\frac{{1050}}{{Rp}}}}, Kpb\\\\right) \\\\quad \\\\text{{falls }} Rp < 1050 =  \\\\min\\\\left(\\\\sqrt{{\\\\frac{{1050}}{{{Rp:.2f}}}}}, {Kpb}\\\\right) \\\\quad = {npl_b:.2f} \\\\\\\\\\\\ \\\\\\\\\\\\\n",
    "$$\n",
    "\n",
    "$$\n",
    "\\large\n",
    "npl_t = \\\\min\\\\left(\\\\sqrt{{\\\\frac{{1050}}{{Rp}}}}, Kpt\\\\right) \\\\quad \\\\text{{falls }} Rp < 1050 =  \\\\min\\\\left(\\\\sqrt{{\\\\frac{{1050}}{{{Rp:.2f}}}}}, {Kpt}\\\\right) \\\\quad = {npl_t:.2f}\n",
    "$$\n",
    "\n",
    "\n",
    "##### Wenn $R_{{p}}$ größer oder gleich 1050 ist, beträgt die plastische Formzahl für beide Belastungsarten 1.\n",
    "\n",
    "\"\"\"))\n",
    "\n",
    "\n",
    "\n"
   ]
  },
  {
   "cell_type": "code",
   "execution_count": 42,
   "metadata": {},
   "outputs": [
    {
     "data": {
      "text/markdown": [
       "\n",
       "## Konstruktionsfaktoren\n",
       "\n",
       "##### Die Konstruktionsfaktoren $K_{Sk}$ berechnen sich folgendermaßen:\n",
       "\n",
       "$$\n",
       "\\large\n",
       "K_{SK\\_zd} = 1 \\\\\\\n",
       "$$\n",
       "$$\n",
       "\\large\n",
       "K_{SK\\_b} = \\frac1{npl_b} = 0.74  \\\\\\\n",
       "$$\n",
       "$$\n",
       "\\large\n",
       "K_{SK\\_s} = 1 \\\\\\\n",
       "$$\n",
       "$$\n",
       "\\large\n",
       "K_{SK\\_t} = \\frac1{npl_t} = 0.75 \\\\\\\n",
       "$$\n",
       "##### Die Konstruktionsfaktoren gelten immer nur für einen Kerbquerschnitt, d.h., es müssen ggf. mehrere Querschnitte berechnet werden.\n"
      ],
      "text/plain": [
       "<IPython.core.display.Markdown object>"
      ]
     },
     "metadata": {},
     "output_type": "display_data"
    }
   ],
   "source": [
    "K_SK_zd=1\n",
    "K_SK_b=1/npl_b\n",
    "K_SK_s=1\n",
    "K_SK_t=1/npl_t\n",
    "\n",
    "display(Markdown(f\"\"\"\n",
    "## Konstruktionsfaktoren\n",
    "\n",
    "##### Die Konstruktionsfaktoren $K_{{Sk}}$ berechnen sich folgendermaßen:\n",
    "\n",
    "$$\n",
    "\\large\n",
    "K_{{SK\\_zd}} = 1 \\\\\\\\\\\\\n",
    "$$\n",
    "$$\n",
    "\\large\n",
    "K_{{SK\\_b}} = \\\\frac{1}{{npl_b}} = {K_SK_b:.2f}  \\\\\\\\\\\\\n",
    "$$\n",
    "$$\n",
    "\\large\n",
    "K_{{SK\\_s}} = 1 \\\\\\\\\\\\\n",
    "$$\n",
    "$$\n",
    "\\large\n",
    "K_{{SK\\_t}} = \\\\frac{1}{{npl_t}} = {K_SK_t:.2f} \\\\\\\\\\\\\n",
    "$$\n",
    "##### Die Konstruktionsfaktoren gelten immer nur für einen Kerbquerschnitt, d.h., es müssen ggf. mehrere Querschnitte berechnet werden.\n",
    "\"\"\"))\n",
    "\n",
    "\n"
   ]
  },
  {
   "cell_type": "code",
   "execution_count": 43,
   "metadata": {},
   "outputs": [
    {
     "data": {
      "text/markdown": [
       "\n",
       "## Bauteilfestigkeit\n",
       "\n",
       "##### Die Festigkeitswerte des Bauteils können wie folgt berechnet werden:\n",
       "\n",
       "$$\n",
       "\\large\n",
       "S_{SK\\_zd} = \\frac{R_m}{K_{SK\\_zd}}  = 813.879\\  Mpa \\\\\\\n",
       "$$\n",
       "\n",
       "$$\n",
       "\\large\n",
       "S_{SK\\_b} = \\frac{R_m}{K_{SK\\_b}} = 1099.235 \\  Mpa \\\\\\\n",
       "$$\n",
       "\n",
       "$$\n",
       "\\large\n",
       "T_{SK\\_b} = f_t \\times \\frac{R_m}{K_{SK\\_s}} = 469.608 \\  Mpa \\\\\\\n",
       "$$\n",
       "\n",
       "$$\n",
       "\\large\n",
       "T_{SK\\_t} = f_t \\times \\frac{R_m}{K_{SK\\_t}} = 624.579 \\  Mpa \\\\\\\n",
       "$$\n",
       "\n",
       "### Die Erklärung:\n",
       "\n",
       "##### Der Faktor $f_t=0.577$ korrigiert die Zugfestigkeit $R_m$ und die Fließgrenze $R_p$, sodass sich die Schubfestigkeitswerte ergeben.\n"
      ],
      "text/plain": [
       "<IPython.core.display.Markdown object>"
      ]
     },
     "metadata": {},
     "output_type": "display_data"
    }
   ],
   "source": [
    "ft =0.577 #faktor\n",
    "S_SK_zd=Rm/K_SK_zd\n",
    "S_SK_b=Rm/K_SK_b\n",
    "T_SK_b=ft * Rm / K_SK_s\n",
    "T_Sk_t=ft * Rm /K_SK_t\n",
    "\n",
    "display(Markdown(f\"\"\"\n",
    "## Bauteilfestigkeit\n",
    "\n",
    "##### Die Festigkeitswerte des Bauteils können wie folgt berechnet werden:\n",
    "\n",
    "$$\n",
    "\\large\n",
    "S_{{SK\\_zd}} = \\\\frac{{R_m}}{{K_{{SK\\_zd}}}}  = {S_SK_zd:.3f}\\  {Einheit(S_SK_zd)} \\\\\\\\\\\\\n",
    "$$\n",
    "\n",
    "$$\n",
    "\\large\n",
    "S_{{SK\\_b}} = \\\\frac{{R_m}}{{K_{{SK\\_b}}}} = {S_SK_b:.3f} \\  {Einheit(S_SK_b)} \\\\\\\\\\\\\n",
    "$$\n",
    "\n",
    "$$\n",
    "\\large\n",
    "T_{{SK\\_b}} = f_t \\\\times \\\\frac{{R_m}}{{K_{{SK\\_s}}}} = {T_SK_b:.3f} \\  {Einheit(T_SK_b)} \\\\\\\\\\\\\n",
    "$$\n",
    "\n",
    "$$\n",
    "\\large\n",
    "T_{{SK\\_t}} = f_t \\\\times \\\\frac{{R_m}}{{K_{{SK\\_t}}}} = {T_Sk_t:.3f} \\  {Einheit(T_Sk_t)} \\\\\\\\\\\\\n",
    "$$\n",
    "\n",
    "### Die Erklärung:\n",
    "\n",
    "##### Der Faktor $f_t={ft}$ korrigiert die Zugfestigkeit $R_m$ und die Fließgrenze $R_p$, sodass sich die Schubfestigkeitswerte ergeben.\n",
    "\"\"\"))\n",
    "\n"
   ]
  },
  {
   "cell_type": "code",
   "execution_count": 44,
   "metadata": {},
   "outputs": [
    {
     "data": {
      "text/markdown": [
       "\n",
       "## Sicherheitsfaktoren\n",
       "##### Die Sicherheitsfaktoren \n",
       "##### werden entsprechend der Schadensfolge und der Wahrscheinlichkeit des Auftretens der angenommenen Spannungen ausgewählt \\\\.\n",
       "##### Daraus ergibt sich der Gesamtsicherheitsfaktor $\\Large j_{m} $   und   $\\Large j_{p} $\n",
       "\n",
       "\n",
       "    \n",
       "$$\n",
       "\\Large\n",
       "j_{m} = 1.75 \\\\\\\n",
       "$$\n",
       "\n",
       "$$\n",
       "\\Large\n",
       "j_{p }= 1.3 \\\\\\\n",
       "$$\n",
       "\n",
       "$$\n",
       "\\Large\n",
       "j_{ges}: \\\\\\\n",
       "$$\n",
       "\n",
       "$$\n",
       "\\large\n",
       "j_{{ges}} = \\max({j_m}, {j_p} \\times \\frac{R_m}{R_p}) = \\max(1.75, 1.3 \\times \\frac{813.88}{575.61}) = 1.84\n",
       "$$\n"
      ],
      "text/plain": [
       "<IPython.core.display.Markdown object>"
      ]
     },
     "metadata": {},
     "output_type": "display_data"
    }
   ],
   "source": [
    "jm=1.75\n",
    "jp=1.3\n",
    "\n",
    "jges=max(jm , jp*Rm/Rp)\n",
    "\n",
    "\n",
    "\n",
    "display(Markdown(f\"\"\"\n",
    "## Sicherheitsfaktoren\n",
    "##### Die Sicherheitsfaktoren \n",
    "##### werden entsprechend der Schadensfolge und der Wahrscheinlichkeit des Auftretens der angenommenen Spannungen ausgewählt \\\\\\\\.\n",
    "##### Daraus ergibt sich der Gesamtsicherheitsfaktor $\\Large j_{{m}} $   und   $\\Large j_{{p}} $\n",
    "\n",
    "\n",
    "    \n",
    "$$\n",
    "\\Large\n",
    "j_{{m}} = {jm} \\\\\\\\\\\\\n",
    "$$\n",
    "\n",
    "$$\n",
    "\\Large\n",
    "j_{{p }}= {jp} \\\\\\\\\\\\\n",
    "$$\n",
    "\n",
    "$$\n",
    "\\Large\n",
    "j_{{ges}}: \\\\\\\\\\\\\n",
    "$$\n",
    "\n",
    "$$\n",
    "\\large\n",
    "j_{{{{ges}}}} = \\max({{j_m}}, {{j_p}} \\\\times \\\\frac{{R_m}}{{R_p}}) = \\max({jm}, {jp} \\\\times \\\\frac{{{Rm:.2f}}}{{{Rp:.2f}}}) = {jges:.2f}\n",
    "$$\n",
    "\"\"\"))"
   ]
  },
  {
   "cell_type": "code",
   "execution_count": 45,
   "metadata": {},
   "outputs": [
    {
     "data": {
      "text/markdown": [
       "\n",
       "# Nachweis der statischen Festigkeit\n",
       "## Auslastungen für die einzelnen Spannungsarten \n",
       "\n",
       "$$\n",
       "\\Large\n",
       "a_{SK\\_b} = \\frac{\\max(\\lvert S_{\\text{max\\_b}} \\rvert, \\lvert S_{\\text{min\\_b}} \\rvert) \\times j_{\\text{ges}}}{S_{\\text{SK\\_b}}}=\n",
       " \\frac{\\max(\\lvert 521.52 \\rvert, \\lvert 521.52 \\rvert) \\times 1.84 }{1099.23}\n",
       "= 0.87 \\\\\\\n",
       "$$\n",
       "\n",
       "$$\n",
       "\\Large\n",
       "a_{SK\\_t} = \\frac{\\max(\\lvert T_{\\text{max\\_t}} \\rvert, \\lvert T_{\\text{min\\_t}} \\rvert) \\times j_{\\text{ges}}}{T_{\\text{SK\\_t}}}=\n",
       " \\frac{\\max(\\lvert 0.39 \\rvert, \\lvert 0.00 \\rvert) \\times 1.84}{624.58}\n",
       "= 0.00 \\\\\\\n",
       "$$\n",
       "\n",
       "##### Da alle Einzelauslastungen kleiner als 1 sind, sind die Einzelnachweise erbracht.\n",
       "\n",
       "## Auslastung für zusammengesetzte Spannungsarten\n",
       "\n",
       "#### Die Auslastung für zusammengesetzte Spannungsarten wird wie folgt berechnet:\n",
       "\n",
       "$$\n",
       "\\Large\n",
       "a_{SK\\_Sv} = \\sqrt{(a_{SK\\_zd} + a_{SK\\_b})^2 + (a_{SK\\_s} + a_{SK\\_t})^2} = \n",
       "\\sqrt{(0.00 + 0.87)^2 + (0.00 + 0.00)^2}\n",
       "= 0.87\n",
       "$$\n",
       "\n",
       "#### Damit ist der statische Festigkeitsnachweis erbracht. Das Bauteil wird von den angegebenen Belastungen zu 87.2% ausgelastet.\n",
       "\n",
       "\n"
      ],
      "text/plain": [
       "<IPython.core.display.Markdown object>"
      ]
     },
     "metadata": {},
     "output_type": "display_data"
    }
   ],
   "source": [
    "# aSK_zd=(max(abs(Smax_zd) , abs(Smax_zd)))\n",
    "aSK_zd=0\n",
    "aSK_s=0\n",
    "aSK_b=(max(abs(Smax_b) , abs(Smin_b)) *jges ) / S_SK_b\n",
    "aSK_t=(max(abs(Tmax_t) , abs(Tmin_t)) *jges ) / T_Sk_t\n",
    "\n",
    "aSK_Sv=math.sqrt(math.pow(aSK_zd+aSK_b , 2)+math.pow(aSK_s+aSK_t , 2))\n",
    "\n",
    "display(Markdown(f\"\"\"\n",
    "# Nachweis der statischen Festigkeit\n",
    "## Auslastungen für die einzelnen Spannungsarten \n",
    "\n",
    "$$\n",
    "\\Large\n",
    "a_{{SK\\_b}} = \\\\frac{{\\\\max(\\\\lvert S_{{\\\\text{{max\\_b}}}} \\\\rvert, \\\\lvert S_{{\\\\text{{min\\_b}}}} \\\\rvert) \\\\times j_{{\\\\text{{ges}}}}}}{{S_{{\\\\text{{SK\\_b}}}}}}=\n",
    " \\\\frac{{\\\\max(\\\\lvert {Smax_b:.2f} \\\\rvert, \\\\lvert {abs(Smin_b):.2f} \\\\rvert) \\\\times { jges:.2f} }}{{{S_SK_b:.2f}}}\n",
    "= {aSK_b:.2f} \\\\\\\\\\\\\n",
    "$$\n",
    "\n",
    "$$\n",
    "\\Large\n",
    "a_{{SK\\_t}} = \\\\frac{{\\\\max(\\\\lvert T_{{\\\\text{{max\\_t}}}} \\\\rvert, \\\\lvert T_{{\\\\text{{min\\_t}}}} \\\\rvert) \\\\times j_{{\\\\text{{ges}}}}}}{{T_{{\\\\text{{SK\\_t}}}}}}=\n",
    " \\\\frac{{\\\\max(\\\\lvert {Tmax_t:.2f} \\\\rvert, \\\\lvert {abs(Tmin_t):.2f} \\\\rvert) \\\\times {jges:.2f}}}{{{T_Sk_t:.2f}}}\n",
    "= {aSK_t:.2f} \\\\\\\\\\\\\n",
    "$$\n",
    "\n",
    "##### Da alle Einzelauslastungen kleiner als 1 sind, sind die Einzelnachweise erbracht.\n",
    "\n",
    "## Auslastung für zusammengesetzte Spannungsarten\n",
    "\n",
    "#### Die Auslastung für zusammengesetzte Spannungsarten wird wie folgt berechnet:\n",
    "\n",
    "$$\n",
    "\\Large\n",
    "a_{{SK\\_Sv}} = \\\\sqrt{{(a_{{SK\\_zd}} + a_{{SK\\_b}})^2 + (a_{{SK\\_s}} + a_{{SK\\_t}})^2}} = \n",
    "\\\\sqrt{{({aSK_zd:.2f} + {aSK_b:.2f})^2 + ({aSK_s:.2f} + {aSK_t:.2f})^2}}\n",
    "= {aSK_Sv:.2f}\n",
    "$$\n",
    "\n",
    "#### Damit ist der statische Festigkeitsnachweis erbracht. Das Bauteil wird von den angegebenen Belastungen zu {(aSK_Sv * 100):.1f}% ausgelastet.\n",
    "\n",
    "\n",
    "\"\"\"))\n"
   ]
  },
  {
   "cell_type": "code",
   "execution_count": 46,
   "metadata": {},
   "outputs": [
    {
     "data": {
      "text/markdown": [
       "\n",
       "## Spanungen für den  Dauerfestigkeit\n",
       "\n",
       "                 \n",
       "\n"
      ],
      "text/plain": [
       "<IPython.core.display.Markdown object>"
      ]
     },
     "metadata": {},
     "output_type": "display_data"
    }
   ],
   "source": [
    "# Sm_b=32+Mb ____________________________________\n",
    "display(Markdown(f\"\"\"\n",
    "## Spanungen für den  Dauerfestigkeit\n",
    "\n",
    "                 \n",
    "\n",
    "\"\"\"))"
   ]
  },
  {
   "cell_type": "code",
   "execution_count": 47,
   "metadata": {},
   "outputs": [
    {
     "data": {
      "text/markdown": [
       "\n",
       "# Dynamische Festigkeitswerte und Festigkeitsnachweis\n",
       "\n",
       "## Werkstoff-Normwerte und Festigkeitskennwerte für den Werkstoff im Bauteil:\n",
       "##### - Normwert für axiale Spannungen $\\large (\\sigma_{W\\_zd\\_N})$: 315 Mpa\n",
       "##### - Normwert für Schubspannungen $\\large (\\tau_{W\\_s\\_N})$: 180  Mpa\n",
       "\n",
       "### Festigkeitskennwerte des Werkstoffs im Bauteil:\n",
       "\n",
       "##### - Berechneter Wert für axiale Spannungen $\\large (\\sigma_{W\\_zd})$= 233.065  Mpa\n",
       "##### - Berechneter Wert für Schubspannungen $\\large (\\tau_{W\\_s})$= 133.180  Mpa\n"
      ],
      "text/plain": [
       "<IPython.core.display.Markdown object>"
      ]
     },
     "metadata": {},
     "output_type": "display_data"
    }
   ],
   "source": [
    "sigmaW_zd_N=315 # Mpa\n",
    "tauW_s_N=180 # Mpa\n",
    "sigmaW_zd = sigmaW_zd_N * KA*Kd_m\n",
    "tauW_s= Kd_m* KA* tauW_s_N\n",
    "\n",
    "display(Markdown(f\"\"\"\n",
    "# Dynamische Festigkeitswerte und Festigkeitsnachweis\n",
    "\n",
    "## Werkstoff-Normwerte und Festigkeitskennwerte für den Werkstoff im Bauteil:\n",
    "##### - Normwert für axiale Spannungen $\\large (\\sigma_{{W\\_zd\\_N}})$: {sigmaW_zd_N} {Einheit(sigmaW_zd_N)}\n",
    "##### - Normwert für Schubspannungen $\\large (\\\\tau_{{W\\_s\\_N}})$: {tauW_s_N}  {Einheit(tauW_s_N)}\n",
    "\n",
    "### Festigkeitskennwerte des Werkstoffs im Bauteil:\n",
    "\n",
    "##### - Berechneter Wert für axiale Spannungen $\\large (\\sigma_{{W\\_zd}})$= {sigmaW_zd:.3f}  {Einheit(sigmaW_zd)}\n",
    "##### - Berechneter Wert für Schubspannungen $\\large (\\\\tau_{{W\\_s}})$= {tauW_s:.3f}  {Einheit(tauW_s)}\n",
    "\"\"\"))\n"
   ]
  },
  {
   "cell_type": "code",
   "execution_count": 48,
   "metadata": {},
   "outputs": [
    {
     "data": {
      "text/markdown": [
       "\n",
       "\n",
       "$$\n",
       "\\large\n",
       "K_{t.b}=2.2  \n",
       "\\\\\\\n",
       "\\\\\\        \n",
       "K_{t.t}=1.6 \n",
       "\\\\\\\n",
       "$$\n",
       "\n",
       "\n",
       "$$\n",
       "\\large\n",
       "Für \\ \\ \\ \\frac{t}{d} \\ \\ \\ bzw \\  \\frac{t}{d} > 0.25 \\ \\ \\   ist \\ \\ \\   \\Theta = 0. \\\n",
       "\\\\\\\n",
       "$$ \n",
       "\n",
       "$$\n",
       "\\large\n",
       "sonst \\ \\ \\ \\Theta = \\frac{1}{4 \\cdot \\sqrt{\\frac{t}{r} + 2}}\n",
       "\\\\\\\n",
       "$$\n",
       "\n",
       "\n",
       "| Werkstoffegruppe       | $\\Large {a_g}$ | $\\Large {b_g}$ |\n",
       "|------------------------|-------|-------|\n",
       "| Nichtrostender Stahl   | 0.4   | 2400  |\n",
       "| Anderer Stahl          | 0.50  | 2700  |\n",
       "\n"
      ],
      "text/plain": [
       "<IPython.core.display.Markdown object>"
      ]
     },
     "metadata": {},
     "output_type": "display_data"
    },
    {
     "data": {
      "text/markdown": [
       "\n",
       "    \n",
       "$$\n",
       "\\Large\n",
       "\\Theta = \\frac{1}{4 \\cdot \\sqrt{\\frac{5.0}{2.0} + 2}} = 0.12\n",
       "$$\n",
       "\n",
       "    "
      ],
      "text/plain": [
       "<IPython.core.display.Markdown object>"
      ]
     },
     "metadata": {},
     "output_type": "display_data"
    }
   ],
   "source": [
    "t = 5.0  # mm\n",
    "r = 2.0  # mm\n",
    "theta = 0 if t / d > 0.25 else 1 / (4 * math.sqrt(t / r + 2))\n",
    "###################\n",
    "###################\n",
    "###################\n",
    "###################\n",
    "###################\n",
    "Kt_b=2.2\n",
    "Kt_t=1.6\n",
    "\n",
    "\n",
    "\n",
    "\n",
    "# display(Markdown(\"\"\"\n",
    "# \\begin{align*}\n",
    "# \\text{Für } \\frac{t}{d} \\text{ bzw. } \\frac{t}{d} > 0.25 \\text{ ist } \\Theta &= 0. \\\\\n",
    "# \\text{Ansonsten ist } \\Theta &= \\frac{1}{4 \\cdot \\sqrt{\\frac{t}{r} + 2}}.\n",
    "# \\end{align*}\n",
    "# ---\n",
    "\n",
    "# | Werkstoffegruppe       | \\(a_c\\) | \\(b_c\\) |\n",
    "# |------------------------|-------|-------|\n",
    "# | Nichtrostender Stahl   | 0.4   | 2400  |\n",
    "# | Anderer Stahl          | 0.50  | 2700  |\n",
    "    \n",
    "# \"\"\"))\n",
    "display(Markdown(f\"\"\"\n",
    "\n",
    "$$\n",
    "\\large\n",
    "K_{{t.b}}={Kt_b}  \n",
    "\\\\\\\\\\\\\n",
    "\\\\\\\\\\\\        \n",
    "K_{{t.t}}={Kt_t} \n",
    "\\\\\\\\\\\\\n",
    "$$\n",
    "\n",
    "\n",
    "$$\n",
    "\\large\n",
    "Für \\\\ \\\\ \\\\ \\\\frac{{t}}{{d}} \\\\ \\\\ \\\\ bzw \\\\  \\\\frac{{t}}{{d}} > 0.25 \\\\ \\\\ \\\\   ist \\\\ \\\\ \\\\   \\Theta = 0. \\\\\n",
    "\\\\\\\\\\\\\n",
    "$$ \n",
    "\n",
    "$$\n",
    "\\large\n",
    "sonst \\\\ \\\\ \\\\ \\Theta = \\\\frac{{1}}{{4 \\\\cdot \\\\sqrt{{\\\\frac{{t}}{{r}} + 2}}}}\n",
    "\\\\\\\\\\\\\n",
    "$$\n",
    "\n",
    "\n",
    "| Werkstoffegruppe       | $\\Large {{a_g}}$ | $\\Large {{b_g}}$ |\n",
    "|------------------------|-------|-------|\n",
    "| Nichtrostender Stahl   | 0.4   | 2400  |\n",
    "| Anderer Stahl          | 0.50  | 2700  |\n",
    "\n",
    "\"\"\"))\n",
    "       \n",
    "if theta<0.25:\n",
    "    display(Markdown(f\"\"\"\n",
    "    \n",
    "$$\n",
    "\\Large\n",
    "\\Theta = \\\\frac{{1}}{{4 \\\\cdot \\\\sqrt{{\\\\frac{{{t}}}{{{r}}} + 2}}}} = {theta:.2f}\n",
    "$$\n",
    "\n",
    "    \"\"\"))\n",
    "\n"
   ]
  },
  {
   "cell_type": "code",
   "execution_count": 49,
   "metadata": {},
   "outputs": [
    {
     "data": {
      "text/markdown": [
       "\n",
       "### Damit sind die bezogenen Spannungsgefälle für die Kerbe:\n",
       "                 \n",
       "$$\n",
       "\\large\n",
       "G_\\sigma(r) = \\frac{2.3}{r}\\cdot (1+\\theta)  =  \\frac{2.3}{2.0}\\cdot (1+0.12) = 1.29  \\ \\  \\frac{1}{mm}\n",
       "\\\\\\\n",
       "$$                 \n",
       "                 \n",
       "$$\n",
       "\\large\n",
       "G_\\tau(r) = \\frac{1.15}{r} =  \\frac{1.15}{2.0} = 0.57  \\ \\  \\frac{1}{mm}\n",
       "\\\\\\\n",
       "$$                 \n",
       "                \n",
       "### und für die Spannungsart:\n",
       "\n",
       "$$\n",
       "\\large\n",
       "G_\\sigma(d) = \\frac{2}{d}  =  \\frac{2}{250} = 0.01  \\ \\  \\frac{1}{mm}\n",
       "\\\\\\\n",
       "$$                 \n",
       "                 \n",
       "$$\n",
       "\\large\n",
       "G_\\tau(d) = \\frac{2}{d} =  \\frac{2}{250} = 0.01  \\ \\  \\frac{1}{mm}\n",
       "\\\\\\\n",
       "$$                 \n",
       "                \n",
       "### Für die Werkstoff ergeben sich die Konstanten:\n",
       "$$\n",
       "\\large\n",
       "a_g=0.5\n",
       "\\\\\\\n",
       "$$\n",
       "$$\n",
       "\\large\n",
       "b_g=2700\n",
       "\\\\\\\n",
       "$$\n"
      ],
      "text/plain": [
       "<IPython.core.display.Markdown object>"
      ]
     },
     "metadata": {},
     "output_type": "display_data"
    }
   ],
   "source": [
    "################################\n",
    "################################\n",
    "#####\n",
    "# ##\n",
    "# #\n",
    "# # CHECK THE BAUTEIL !!!!!!!!!!!!!!!!\n",
    "# #\n",
    "# #\n",
    "# #####################\n",
    "################################\n",
    "################################\n",
    "\n",
    "G_sigma_r=(2.3/r)*(1.0+theta)\n",
    "G_tau_r=(1.15/r)\n",
    "G_sigma_d=2/d\n",
    "G_tau_d=2/d\n",
    "ag=0.5\n",
    "bg=2700\n",
    "display(Markdown(f\"\"\"\n",
    "### Damit sind die bezogenen Spannungsgefälle für die Kerbe:\n",
    "                 \n",
    "$$\n",
    "\\large\n",
    "G_\\sigma(r) = \\\\frac{{2.3}}{{r}}\\\\cdot (1+\\\\theta)  =  \\\\frac{{2.3}}{{{r}}}\\\\cdot (1+{theta:.2f}) = {G_sigma_r:.2f}  \\\\ \\\\  \\\\frac{{1}}{{mm}}\n",
    "\\\\\\\\\\\\\n",
    "$$                 \n",
    "                 \n",
    "$$\n",
    "\\large\n",
    "G_\\\\tau(r) = \\\\frac{{1.15}}{{r}} =  \\\\frac{{1.15}}{{{r}}} = {G_tau_r:.2f}  \\\\ \\\\  \\\\frac{{1}}{{mm}}\n",
    "\\\\\\\\\\\\\n",
    "$$                 \n",
    "                \n",
    "### und für die Spannungsart:\n",
    "\n",
    "$$\n",
    "\\large\n",
    "G_\\sigma(d) = \\\\frac{{2}}{{d}}  =  \\\\frac{{2}}{{{d}}} = {G_sigma_d:.2f}  \\\\ \\\\  \\\\frac{{1}}{{mm}}\n",
    "\\\\\\\\\\\\\n",
    "$$                 \n",
    "                 \n",
    "$$\n",
    "\\large\n",
    "G_\\\\tau(d) = \\\\frac{{2}}{{d}} =  \\\\frac{{2}}{{{d}}} = {G_tau_d:.2f}  \\\\ \\\\  \\\\frac{{1}}{{mm}}\n",
    "\\\\\\\\\\\\\n",
    "$$                 \n",
    "                \n",
    "### Für die Werkstoff ergeben sich die Konstanten:\n",
    "$$\n",
    "\\large\n",
    "a_g={ag}\n",
    "\\\\\\\\\\\\\n",
    "$$\n",
    "$$\n",
    "\\large\n",
    "b_g={bg}\n",
    "\\\\\\\\\\\\\n",
    "$$\n",
    "\"\"\"))\n"
   ]
  },
  {
   "cell_type": "code",
   "execution_count": 50,
   "metadata": {},
   "outputs": [
    {
     "data": {
      "text/markdown": [
       "\n",
       "## Die Stützzahlen für die Spannungsart:\n",
       "\n"
      ],
      "text/plain": [
       "<IPython.core.display.Markdown object>"
      ]
     },
     "metadata": {},
     "output_type": "display_data"
    },
    {
     "data": {
      "text/markdown": [
       "\n",
       "$$\n",
       "\\large\n",
       "n_\\sigma(r)=1 + \\sqrt[4]{G_\\sigma(r)\\cdot mm}  \\cdot 10^{(-(ag  + (\\frac {Rm}{bg \\frac{N}{mm^2} })))} = \n",
       "1 + \\sqrt[4]{1.29\\cdot mm} \\cdot  10^{(-(0.5  + (\\frac {813.88}{2700.00 \\frac{N}{mm^2} })))} \n",
       "=1.17\n",
       "$$"
      ],
      "text/plain": [
       "<IPython.core.display.Markdown object>"
      ]
     },
     "metadata": {},
     "output_type": "display_data"
    }
   ],
   "source": [
    "# G_sigma_r=1.15\n",
    "# Rm=990\n",
    "\n",
    "n_sigma_r = (\n",
    "    1 + G_sigma_r * math.pow(10, -1*((ag - 0.5 + (Rm / bg)))) if G_sigma_r <= 0.1 else\n",
    "    1 + math.sqrt(G_sigma_r) * math.pow(10, -1*((ag + (Rm / bg)))) if 0.1 < G_sigma_r <= 1 else\n",
    "    1 + math.pow(G_sigma_r, 0.25) * math.pow(10, -1*((ag + (Rm / bg)))) if 1 < G_sigma_r <= 100 else None\n",
    ")\n",
    "\n",
    "display(Markdown(f\"\"\"\n",
    "## Die Stützzahlen für die Spannungsart:\n",
    "\n",
    "\"\"\"))\n",
    "\n",
    "\n",
    "if G_sigma_r <= 0.1 :\n",
    "    display(Markdown(f\"\"\"\n",
    "$$\n",
    "\\large\n",
    "da \\\\ G_\\sigma(r) \\\\  < \\\\  0.1 \\\\  gilt: \n",
    "$$\n",
    "\\\\\\\\\n",
    "$$\n",
    "\\large\n",
    "n_\\sigma(r)=1 + G_\\sigma(r) \\cdot mm \\cdot 10^{{(-(ag - 0.5 + (\\\\frac {{Rm}}{{bg \\\\frac{{N}}{{mm^2}} }})))}} = \n",
    "1 + {G_sigma_r:.2f} \\cdot mm \\cdot  10^{{(-({ag} - 0.5 + (\\\\frac {{{Rm:.2f}}}{{{bg:.2f} \\\\frac{{N}}{{mm^2}} }})))}} \n",
    "={n_sigma_r:.2f}\n",
    "$$\"\"\"))\n",
    "    \n",
    "    \n",
    "    \n",
    "if G_sigma_r > 0.1 and G_sigma_r <=1:\n",
    "    display(Markdown(f\"\"\"\n",
    "$$\n",
    "\\large\n",
    "n_\\sigma(r)=1 + \\sqrt{{G_\\sigma(r)\\cdot mm}}  \\cdot 10^{{(-(ag  + (\\\\frac {{Rm}}{{bg \\\\frac{{N}}{{mm^2}} }})))}} = \n",
    "1 + \\sqrt{{{G_sigma_r:.2f}\\cdot mm}} \\cdot  10^{{(-({ag}  + (\\\\frac {{{Rm:.2f}}}{{{bg:.2f} \\\\frac{{N}}{{mm^2}} }})))}} \n",
    "={n_sigma_r:.2f}\n",
    "$$\"\"\"))\n",
    "    \n",
    "    \n",
    "\n",
    "if G_sigma_r > 1 and G_sigma_r <=100:\n",
    "    display(Markdown(f\"\"\"\n",
    "$$\n",
    "\\large\n",
    "n_\\sigma(r)=1 + \\sqrt[4]{{G_\\sigma(r)\\cdot mm}}  \\cdot 10^{{(-(ag  + (\\\\frac {{Rm}}{{bg \\\\frac{{N}}{{mm^2}} }})))}} = \n",
    "1 + \\sqrt[4]{{{G_sigma_r:.2f}\\cdot mm}} \\cdot  10^{{(-({ag}  + (\\\\frac {{{Rm:.2f}}}{{{bg:.2f} \\\\frac{{N}}{{mm^2}} }})))}} \n",
    "={n_sigma_r:.2f}\n",
    "$$\"\"\"))\n",
    "\n",
    "\n",
    "\n",
    "#############################################\n",
    "#############################################\n",
    "#############################################\n",
    "#############################################\n",
    "#############################################\n",
    "###############               ###############\n",
    "###############               ###############\n",
    "###############               ###############\n",
    "###############               ###############\n",
    "#############################################\n",
    "#############################################\n",
    "#############################################\n",
    "#############################################\n",
    "\n",
    "\n"
   ]
  },
  {
   "cell_type": "code",
   "execution_count": 51,
   "metadata": {},
   "outputs": [
    {
     "data": {
      "text/markdown": [
       "\n",
       "$$\n",
       "\\large\n",
       "n_\\tau(r)=1 + \\sqrt{G_\\tau(r)\\cdot mm}  \\cdot 10^{(-(ag  + (\\frac {0.577 \\cdot Rm}{bg \\frac{N}{mm^2} })))} = \n",
       "1 + \\sqrt{0.57\\cdot mm} \\cdot  10^{(-(0.5  + (\\frac {0.577 \\cdot 813.88}{2700.00 \\frac{N}{mm^2} })))} \n",
       "=1.16\n",
       "$$"
      ],
      "text/plain": [
       "<IPython.core.display.Markdown object>"
      ]
     },
     "metadata": {},
     "output_type": "display_data"
    }
   ],
   "source": [
    "\n",
    "n_tau_r = (\n",
    "    1 + G_tau_r * 10 ** (-(ag - 0.5 + (0.577*Rm / bg))) if G_tau_r < 0.1 else\n",
    "    1 + G_tau_r ** 0.5 * 10 ** (-(ag + (0.577*Rm / bg))) if 0.1 <= G_tau_r <= 1 else\n",
    "    1 + G_tau_r ** 0.25 * 10 ** (-(ag + (0.577*Rm / bg))) if 1 < G_tau_r <= 100 else None\n",
    ")\n",
    "\n",
    "\n",
    "if G_tau_r <= 0.1 :\n",
    "    display(Markdown(f\"\"\"\n",
    "$$\n",
    "\\large\n",
    "da \\\\ G_\\\\tau(r) \\\\  < \\\\  0.1 \\\\  gilt: \n",
    "$$\n",
    "\\\\\\\\\n",
    "$$\n",
    "\\large\n",
    "n_\\\\tau(r)=1 + G_\\\\tau(r) \\cdot mm \\cdot 10^{{(-(ag - 0.5 + (\\\\frac {{0.577 \\cdot Rm}}{{bg \\\\frac{{N}}{{mm^2}} }})))}} = \n",
    "1 + {G_tau_r:.2f} \\cdot mm \\cdot  10^{{(-({ag} - 0.5 + (\\\\frac {{0.577 \\cdot {Rm:.2f}}}{{{bg:.2f} \\\\frac{{N}}{{mm^2}} }})))}} \n",
    "={n_tau_r:.2f}\n",
    "$$\"\"\"))\n",
    "    \n",
    "    \n",
    "    \n",
    "if G_tau_r > 0.1 and G_tau_r <=1:\n",
    "    display(Markdown(f\"\"\"\n",
    "$$\n",
    "\\large\n",
    "n_\\\\tau(r)=1 + \\sqrt{{G_\\\\tau(r)\\cdot mm}}  \\cdot 10^{{(-(ag  + (\\\\frac {{0.577 \\cdot Rm}}{{bg \\\\frac{{N}}{{mm^2}} }})))}} = \n",
    "1 + \\sqrt{{{G_tau_r:.2f}\\cdot mm}} \\cdot  10^{{(-({ag}  + (\\\\frac {{0.577 \\cdot {Rm:.2f}}}{{{bg:.2f} \\\\frac{{N}}{{mm^2}} }})))}} \n",
    "={n_tau_r:.2f}\n",
    "$$\"\"\"))\n",
    "    \n",
    "    \n",
    "\n",
    "if G_tau_r > 1 and G_tau_r <=100:\n",
    "    display(Markdown(f\"\"\"\n",
    "$$\n",
    "\\large\n",
    "n_\\\\tau(r)=1 + \\sqrt[4]{{G_\\\\tau(r)\\cdot mm}}  \\cdot 10^{{(-(ag  + (\\\\frac {{0.577 \\cdot Rm}}{{bg \\\\frac{{N}}{{mm^2}} }})))}} = \n",
    "1 + \\sqrt[4]{{{G_tau_r:.2f}\\cdot mm}} \\cdot  10^{{(-({ag}  + (\\\\frac {{0.577 \\cdot {Rm:.2f}}}{{{bg:.2f} \\\\frac{{N}}{{mm^2}} }})))}} \n",
    "={n_tau_r:.2f}\n",
    "$$\"\"\"))"
   ]
  },
  {
   "cell_type": "code",
   "execution_count": 52,
   "metadata": {},
   "outputs": [
    {
     "data": {
      "text/markdown": [
       "\n",
       "## Die Stützzahlen für die Spannungsart:\n",
       "\n"
      ],
      "text/plain": [
       "<IPython.core.display.Markdown object>"
      ]
     },
     "metadata": {},
     "output_type": "display_data"
    },
    {
     "data": {
      "text/markdown": [
       "\n",
       "$$\n",
       "\\large\n",
       "da \\ G_\\sigma(d) \\  < \\  0.1 \\  gilt: \n",
       "$$\n",
       "$$\n",
       "\\\n",
       "\\\n",
       "$$\n",
       "$$\n",
       "\\large\n",
       "n_\\sigma(d)=1 + G_\\sigma(d) \\cdot mm \\cdot 10^{(-(ag - 0.5 + (\\frac {Rm}{bg \\frac{N}{mm^2} })))} = \n",
       "1 + 0.01 \\cdot mm \\cdot  10^{(-(0.5 - 0.5 + (\\frac {813.88}{2700.00 \\frac{N}{mm^2} })))} \n",
       "=1.00\n",
       "$$"
      ],
      "text/plain": [
       "<IPython.core.display.Markdown object>"
      ]
     },
     "metadata": {},
     "output_type": "display_data"
    }
   ],
   "source": [
    "n_sigma_d = (\n",
    "    1 + G_sigma_d * 10 ** (-(ag - 0.5 + (Rm / bg))) if G_sigma_d < 0.1 else\n",
    "    1 + G_sigma_d ** 0.5 * 10 ** (-(ag + (Rm / bg))) if 0.1 <= G_sigma_d <= 1 else\n",
    "    1 + G_sigma_d ** 0.25 * 10 ** (-(ag + (Rm / bg))) if 1 < G_sigma_d <= 100 else None\n",
    ")\n",
    "display(Markdown(f\"\"\"\n",
    "## Die Stützzahlen für die Spannungsart:\n",
    "\n",
    "\"\"\"))\n",
    "\n",
    "\n",
    "if G_sigma_d <= 0.1 :\n",
    "    display(Markdown(f\"\"\"\n",
    "$$\n",
    "\\large\n",
    "da \\\\ G_\\sigma(d) \\\\  < \\\\  0.1 \\\\  gilt: \n",
    "$$\n",
    "$$\n",
    "\\\\\n",
    "\\\\\n",
    "$$\n",
    "$$\n",
    "\\large\n",
    "n_\\sigma(d)=1 + G_\\sigma(d) \\cdot mm \\cdot 10^{{(-(ag - 0.5 + (\\\\frac {{Rm}}{{bg \\\\frac{{N}}{{mm^2}} }})))}} = \n",
    "1 + {G_sigma_d:.2f} \\cdot mm \\cdot  10^{{(-({ag} - 0.5 + (\\\\frac {{{Rm:.2f}}}{{{bg:.2f} \\\\frac{{N}}{{mm^2}} }})))}} \n",
    "={n_sigma_d:.2f}\n",
    "$$\"\"\"))\n",
    "    \n",
    "    \n",
    "    \n",
    "if G_sigma_d > 0.1 and G_sigma_d<=1:\n",
    "    display(Markdown(f\"\"\"\n",
    "$$\n",
    "\\large\n",
    "n_\\sigma(d)=1 + \\sqrt{{G_\\sigma(d)\\cdot mm}}  \\cdot 10^{{(-(ag  + (\\\\frac {{Rm}}{{bg \\\\frac{{N}}{{mm^2}} }})))}} = \n",
    "1 + \\sqrt{{{G_sigma_d:.2f}\\cdot mm}} \\cdot  10^{{(-({ag}  + (\\\\frac {{{Rm:.2f}}}{{{bg:.2f} \\\\frac{{N}}{{mm^2}} }})))}} \n",
    "={n_sigma_d:.2f}\n",
    "$$\"\"\"))\n",
    "    \n",
    "    \n",
    "\n",
    "if G_sigma_d > 1 and G_sigma_d<=100:\n",
    "    display(Markdown(f\"\"\"\n",
    "$$\n",
    "\\large\n",
    "n_\\sigma(d)=1 + \\sqrt[4]{{G_\\sigma(d)\\cdot mm}}  \\cdot 10^{{(-(ag  + (\\\\frac {{Rm}}{{bg \\\\frac{{N}}{{mm^2}} }})))}} = \n",
    "1 + \\sqrt[4]{{{G_sigma_d:.2f}\\cdot mm}} \\cdot  10^{{(-({ag}  + (\\\\frac {{{Rm:.2f}}}{{{bg:.2f} \\\\frac{{N}}{{mm^2}} }})))}} \n",
    "={n_sigma_d:.2f}\n",
    "$$\"\"\"))"
   ]
  },
  {
   "cell_type": "code",
   "execution_count": 53,
   "metadata": {},
   "outputs": [
    {
     "data": {
      "text/markdown": [
       "\n",
       "$$\n",
       "\\large\n",
       "da \\ G_\\tau(d) \\  < \\  0.1 \\  gilt: \n",
       "$$\n",
       "$$\n",
       "\\\n",
       "\\\n",
       "$$\n",
       "$$\n",
       "\\large\n",
       "n_\\tau(d)=1 + G_\\tau(d) \\cdot mm \\cdot 10^{(-(ag - 0.5 + (\\frac {0.577 \\cdot Rm}{bg \\frac{N}{mm^2} })))} = \n",
       "1 + 0.01 \\cdot mm \\cdot  10^{(-(0.5 - 0.5 + (\\frac {0.577 \\cdot 813.88}{2700.00 \\frac{N}{mm^2} })))} \n",
       "=1.01\n",
       "$$"
      ],
      "text/plain": [
       "<IPython.core.display.Markdown object>"
      ]
     },
     "metadata": {},
     "output_type": "display_data"
    }
   ],
   "source": [
    "n_tau_d = (\n",
    "    1 + G_tau_d * 10 ** (-(ag - 0.5 + (0.577*Rm / bg))) if G_tau_d < 0.1 else\n",
    "    1 + G_tau_d ** 0.5 * 10 ** (-(ag + (0.577*Rm / bg))) if 0.1 <= G_tau_d <= 1 else\n",
    "    1 + G_tau_d ** 0.25 * 10 ** (-(ag + (0.577*Rm / bg))) if 1 < G_tau_d <= 100 else None\n",
    ")\n",
    "\n",
    "\n",
    "\n",
    "if G_tau_d <= 0.1 :\n",
    "    display(Markdown(f\"\"\"\n",
    "$$\n",
    "\\large\n",
    "da \\\\ G_\\\\tau(d) \\\\  < \\\\  0.1 \\\\  gilt: \n",
    "$$\n",
    "$$\n",
    "\\\\\n",
    "\\\\\n",
    "$$\n",
    "$$\n",
    "\\large\n",
    "n_\\\\tau(d)=1 + G_\\\\tau(d) \\cdot mm \\cdot 10^{{(-(ag - 0.5 + (\\\\frac {{0.577 \\cdot Rm}}{{bg \\\\frac{{N}}{{mm^2}} }})))}} = \n",
    "1 + {G_tau_d:.2f} \\cdot mm \\cdot  10^{{(-({ag} - 0.5 + (\\\\frac {{0.577 \\cdot {Rm:.2f}}}{{{bg:.2f} \\\\frac{{N}}{{mm^2}} }})))}} \n",
    "={n_tau_d:.2f}\n",
    "$$\"\"\"))\n",
    "    \n",
    "    \n",
    "    \n",
    "if G_tau_d > 0.1 and G_tau_d<=1:\n",
    "    display(Markdown(f\"\"\"\n",
    "$$\n",
    "\\large\n",
    "n_\\\\tau(d)=1 + \\sqrt{{G_\\\\tau(d)\\cdot mm}}  \\cdot 10^{{(-(ag  + (\\\\frac {{0.577 \\cdot Rm}}{{bg \\\\frac{{N}}{{mm^2}} }})))}} = \n",
    "1 + \\sqrt{{{G_tau_d:.2f}\\cdot mm}} \\cdot  10^{{(-({ag}  + (\\\\frac {{0.577 \\cdot {Rm:.2f}}}{{{bg:.2f} \\\\frac{{N}}{{mm^2}} }})))}} \n",
    "={n_tau_d:.2f}\n",
    "$$\"\"\"))\n",
    "    \n",
    "    \n",
    "\n",
    "if G_tau_d > 1 and G_tau_d<=100:\n",
    "    display(Markdown(f\"\"\"\n",
    "$$\n",
    "\\large\n",
    "n_\\\\tau(d)=1 + \\sqrt[4]{{G_\\\\tau(d)\\cdot mm}}  \\cdot 10^{{(-(ag  + (\\\\frac {{0.577 \\cdot Rm}}{{bg \\\\frac{{N}}{{mm^2}} }})))}} = \n",
    "1 + \\sqrt[4]{{{G_tau_d:.2f}\\cdot mm}} \\cdot  10^{{(-({ag}  + (\\\\frac {{0.577 \\cdot {Rm:.2f}}}{{{bg:.2f} \\\\frac{{N}}{{mm^2}} }})))}} \n",
    "={n_tau_d:.2f}\n",
    "$$\"\"\"))"
   ]
  },
  {
   "cell_type": "code",
   "execution_count": 54,
   "metadata": {},
   "outputs": [
    {
     "data": {
      "text/markdown": [
       "\n",
       "\n",
       "## Kerbwirkungszahlen:\n",
       "\n",
       "$$\n",
       "\\large\n",
       "K_{f.b}=\\max({\\frac{K_{t.b}}{n_{\\sigma(d)} \\cdot n_{\\tau(r)}}},{\\frac{1}{n_{\\sigma(d)} }})=\n",
       "\\max({\\frac{2.20}{1.00 \\cdot 1.17}},{\\frac{1}{ 1.00 }})=\n",
       "1.88\n",
       "\\\\\\\n",
       "\\\\\\\n",
       "$$\n",
       "\n",
       "$$\n",
       "\\large\n",
       "K_{f.t}=\\max({\\frac{K_{t.t}}{n_{\\sigma(d)} \\cdot n_{\\tau(r)}}},{\\frac{1}{n_{\\tau(d)} }}) =\n",
       "\\max({\\frac{1.60}{1.00 \\cdot 1.17}},{\\frac{1}{ 1.01 }}) =\n",
       "1.36\n",
       "\\\\\\\n",
       "$$\n"
      ],
      "text/plain": [
       "<IPython.core.display.Markdown object>"
      ]
     },
     "metadata": {},
     "output_type": "display_data"
    }
   ],
   "source": [
    "Kf_b=max(Kt_b/(n_sigma_d * n_sigma_r) , 1/n_sigma_d)\n",
    "Kf_t=max(Kt_t/(n_sigma_d * n_sigma_r) , 1/n_sigma_d)\n",
    "\n",
    "display(Markdown(f\"\"\"\n",
    "\n",
    "## Kerbwirkungszahlen:\n",
    "\n",
    "$$\n",
    "\\large\n",
    "K_{{f.b}}=\\\\max({{\\\\frac{{K_{{t.b}}}}{{n_{{\\\\sigma(d)}} \\cdot n_{{\\\\tau(r)}}}}}},{{\\\\frac{{1}}{{n_{{\\\\sigma(d)}} }}}})=\n",
    "\\\\max({{\\\\frac{{{Kt_b:.2f}}}{{{n_sigma_d:.2f} \\cdot {n_sigma_r:.2f}}}}},{{\\\\frac{{1}}{{ {n_sigma_d:.2f} }}}})=\n",
    "{Kf_b:.2f}\n",
    "\\\\\\\\\\\\\n",
    "\\\\\\\\\\\\\n",
    "$$\n",
    "\n",
    "$$\n",
    "\\large\n",
    "K_{{f.t}}=\\\\max({{\\\\frac{{K_{{t.t}}}}{{n_{{\\\\sigma(d)}} \\cdot n_{{\\\\tau(r)}}}}}},{{\\\\frac{{1}}{{n_{{\\\\tau(d)}} }}}}) =\n",
    "\\\\max({{\\\\frac{{{Kt_t:.2f}}}{{{n_sigma_d:.2f} \\cdot {n_sigma_r:.2f}}}}},{{\\\\frac{{1}}{{ {n_tau_d:.2f} }}}}) =\n",
    "{Kf_t:.2f}\n",
    "\\\\\\\\\\\\\n",
    "$$\n",
    "\"\"\"))"
   ]
  },
  {
   "cell_type": "code",
   "execution_count": 55,
   "metadata": {},
   "outputs": [
    {
     "data": {
      "text/markdown": [
       "\n",
       "\n",
       "## Rauheitsfaktor\n",
       "\n",
       "#### Rauheitsfaktor des Bauteils $$ R_{z} = 30 \\ \\mu m \\ $$\n",
       "\n",
       "\n",
       "$$\n",
       "\\large\n",
       "K_{\\sigma} = 1 - 0.22 \\cdot \\log_{10}(\\frac{R_{z}} {\\mu m } ) \\cdot \\log_{10}\\left(\\frac{2 \\cdot R_{m}}{400 MPa}\\right)=\n",
       "1 - 0.22 \\cdot \\log_{10}(\\frac{30} {\\mu m } ) \\cdot \\log_{10}\\left(\\frac{2 \\cdot 813.88}{400 MPa}\\right)=\n",
       "0.80\n",
       "\\\\\\\n",
       "$$\n",
       "$$\n",
       "\\\n",
       "\\\n",
       "\\\n",
       "$$\n",
       "\n",
       "$$\n",
       "\\large\n",
       "K_{\\tau} = 1 - 0.577 \\cdot 0.22 \\cdot \\log_{10}(\\frac{R_{z}} {\\mu m } ) \\cdot \\log_{10}\\left(\\frac{2 \\cdot R_{m}}{400 MPa}\\right)=\n",
       "1 - 0.577 \\cdot 0.22 \\cdot \\log_{10}(\\frac{30} {\\mu m } ) \\cdot \\log_{10}\\left(\\frac{2 \\cdot 813.88}{400 MPa}\\right)=\n",
       "0.89\n",
       "\\\\\\\n",
       "$$\n",
       "\n",
       "\n",
       "                 "
      ],
      "text/plain": [
       "<IPython.core.display.Markdown object>"
      ]
     },
     "metadata": {},
     "output_type": "display_data"
    }
   ],
   "source": [
    "Rz=30 # micro meter\n",
    "Kr_sigma=1-0.22*math.log10(Rz)*math.log10((2*Rm)/400)\n",
    "Kr_tau=1-0.577*0.22*math.log10(Rz)*math.log10((2*Rm)/400)\n",
    "\n",
    "\n",
    "display(Markdown(f\"\"\"\n",
    "\n",
    "## Rauheitsfaktor\n",
    "\n",
    "#### Rauheitsfaktor des Bauteils $$ R_{{z}} = {Rz} \\\\ \\mu m \\\\ $$\n",
    "\n",
    "\n",
    "$$\n",
    "\\large\n",
    "K_{{\\\\sigma}} = 1 - 0.22 \\cdot \\log_{{10}}(\\\\frac{{R_{{z}}}} {{\\mu m }} ) \\cdot \\log_{{10}}\\left(\\\\frac{{2 \\cdot R_{{m}}}}{{400 MPa}}\\\\right)=\n",
    "1 - 0.22 \\cdot \\log_{{10}}(\\\\frac{{{Rz}}} {{\\mu m }} ) \\cdot \\log_{{10}}\\left(\\\\frac{{2 \\cdot {Rm:.2f}}}{{400 MPa}}\\\\right)=\n",
    "{Kr_sigma:.2f}\n",
    "\\\\\\\\\\\\\n",
    "$$\n",
    "$$\n",
    "\\\\\n",
    "\\\\\n",
    "\\\\\n",
    "$$\n",
    "\n",
    "$$\n",
    "\\large\n",
    "K_{{\\\\tau}} = 1 - 0.577 \\cdot 0.22 \\cdot \\log_{{10}}(\\\\frac{{R_{{z}}}} {{\\mu m }} ) \\cdot \\log_{{10}}\\left(\\\\frac{{2 \\cdot R_{{m}}}}{{400 MPa}}\\\\right)=\n",
    "1 - 0.577 \\cdot 0.22 \\cdot \\log_{{10}}(\\\\frac{{{Rz}}} {{\\mu m }} ) \\cdot \\log_{{10}}\\left(\\\\frac{{2 \\cdot {Rm:.2f}}}{{400 MPa}}\\\\right)=\n",
    "{Kr_tau:.2f}\n",
    "\\\\\\\\\\\\\n",
    "$$\n",
    "\n",
    "\n",
    "                 \"\"\"))"
   ]
  },
  {
   "cell_type": "code",
   "execution_count": 56,
   "metadata": {},
   "outputs": [
    {
     "data": {
      "text/markdown": [
       "\n",
       "\n",
       "## Randschichtfaktor\n",
       "#### Der Randschichtfaktor \n",
       "$$ \\large K_{v} = 1 \\\\\\ $$                  \n",
       "\n",
       "\n",
       "$$\n",
       "\\large\n",
       "K_{f.b1} = 1.8, \\quad K_{f.b2} = 1.95, \\quad K_{f.t1} = 1.33, \\quad K_{f.t2} = 1.55\n",
       "\\\\\\\n",
       "$$\n",
       "\n",
       "$$\n",
       "\\large\n",
       "K_{f.b} = (K_{f.b1} - 1) + ((K_{f.b2} - 1) + 1) = (1.8 - 1) + ((1.95 - 1) + 1) = 2.75\n",
       "\\\\\\\n",
       "$$\n",
       "\n",
       "$$\n",
       "\\large\n",
       "K_{f.t} = (K_{f.t1} - 1) + ((K_{f.t2} - 1) + 1) = (1.33 - 1) + ((1.55 - 1) + 1) = 1.88\n",
       "\\\\\\\n",
       "$$\n"
      ],
      "text/plain": [
       "<IPython.core.display.Markdown object>"
      ]
     },
     "metadata": {},
     "output_type": "display_data"
    }
   ],
   "source": [
    "Kv=1\n",
    "Kf_b1=1.8\n",
    "Kf_b2=1.95\n",
    "Kf_t1=1.33\n",
    "Kf_t2=1.55\n",
    "\n",
    "Kf_b=(Kf_b1-1)+((Kf_b2-1) + 1)\n",
    "Kf_t=(Kf_t1-1)+((Kf_t2-1) + 1)\n",
    "\n",
    "display(Markdown(f\"\"\"\n",
    "\n",
    "## Randschichtfaktor\n",
    "#### Der Randschichtfaktor \n",
    "$$ \\large K_{{v}} = {Kv} \\\\\\\\\\\\ $$                  \n",
    "\n",
    "\n",
    "$$\n",
    "\\large\n",
    "K_{{f.b1}} = {Kf_b1}, \\quad K_{{f.b2}} = {Kf_b2}, \\quad K_{{f.t1}} = {Kf_t1}, \\quad K_{{f.t2}} = {Kf_t2}\n",
    "\\\\\\\\\\\\\n",
    "$$\n",
    "\n",
    "$$\n",
    "\\large\n",
    "K_{{f.b}} = (K_{{f.b1}} - 1) + ((K_{{f.b2}} - 1) + 1) = ({Kf_b1} - 1) + (({Kf_b2} - 1) + 1) = {Kf_b:.2f}\n",
    "\\\\\\\\\\\\\n",
    "$$\n",
    "\n",
    "$$\n",
    "\\large\n",
    "K_{{f.t}} = (K_{{f.t1}} - 1) + ((K_{{f.t2}} - 1) + 1) = ({Kf_t1} - 1) + (({Kf_t2} - 1) + 1) = {Kf_t:.2f}\n",
    "\\\\\\\\\\\\\n",
    "$$\n",
    "\"\"\"))\n",
    "\n"
   ]
  },
  {
   "cell_type": "code",
   "execution_count": 57,
   "metadata": {},
   "outputs": [
    {
     "data": {
      "text/markdown": [
       "\n",
       "## Konstrukstrionsfaktoren\n",
       "                 \n",
       "$$\n",
       "\\large K_{WK_b} = \\left( K_{f.b} + \\frac{1}{K_{r.\\sigma}} - 1 \\right) \\cdot \\frac{1}{K_v} =\n",
       " \\left( {2.75} + \\frac{1}{0.80} - 1 \\right) \\cdot \\frac{1}{1.00}= 3.00\n",
       "\\\\\\\n",
       "$$\n",
       "\n",
       "$$\n",
       "\\large K_{WK_t} = \\left( K_{f.t} + \\frac{1}{K_{r.\\tau}} - 1 \\right) \\cdot \\frac{1}{K_v} =\n",
       " \\left( {1.88} + \\frac{1}{0.89} - 1 \\right) \\cdot \\frac{1}{1.00} = 2.01\n",
       "\\\\\\\n",
       "$$\n",
       "                 \n"
      ],
      "text/plain": [
       "<IPython.core.display.Markdown object>"
      ]
     },
     "metadata": {},
     "output_type": "display_data"
    }
   ],
   "source": [
    "KWK_b=(Kf_b+1/Kr_sigma -1)*1/Kv\n",
    "KWK_t=(Kf_t+1/Kr_tau -1)*1/Kv\n",
    "\n",
    "display(Markdown(f\"\"\"\n",
    "## Konstrukstrionsfaktoren\n",
    "                 \n",
    "$$\n",
    "\\large K_{{WK_b}} = \\left( K_{{f.b}} + \\\\frac{{1}}{{K_{{r.\\sigma}}}} - 1 \\\\right) \\cdot \\\\frac{{1}}{{K_v}} =\n",
    " \\left( {{{Kf_b:.2f}}} + \\\\frac{{1}}{{{Kr_sigma:.2f}}} - 1 \\\\right) \\cdot \\\\frac{{1}}{{{Kv:.2f}}}= {KWK_b:.2f}\n",
    "\\\\\\\\\\\\\n",
    "$$\n",
    "\n",
    "$$\n",
    "\\large K_{{WK_t}} = \\left( K_{{f.t}} + \\\\frac{{1}}{{K_{{r.\\\\tau}}}} - 1 \\\\right) \\cdot \\\\frac{{1}}{{K_v}} =\n",
    " \\left( {{{Kf_t:.2f}}} + \\\\frac{{1}}{{{Kr_tau:.2f}}} - 1 \\\\right) \\cdot \\\\frac{{1}}{{{Kv:.2f}}} = {KWK_t:.2f}\n",
    "\\\\\\\\\\\\\n",
    "$$\n",
    "                 \n",
    "\"\"\"))"
   ]
  },
  {
   "cell_type": "code",
   "execution_count": 58,
   "metadata": {},
   "outputs": [
    {
     "data": {
      "text/markdown": [
       "\n",
       "## Bauteilwechselfestigkeit:\n",
       "#### Die ertragbaren Nennwerte der Bauteil-Wechselfestigkeit sind:         \n",
       "$$\n",
       "\\large\n",
       "S_{WK.b} = \\frac{\\sigma_{W_{zd}}}{K_{WK.b}} = \\frac{233.07}{2.01}=77.77 \\ \\   Mpa\n",
       "\\\\\\\n",
       "\\\\\\\n",
       "$$\n",
       "\n",
       "$$\n",
       "\\large\n",
       "\\tau_{WK.t} = \\frac{\\tau_{W.s}}{K_{WK.t}} = \\frac{133.18}{2.01} =66.29\\ \\ Mpa\n",
       "\\\\\\\n",
       "$$\n",
       "\n"
      ],
      "text/plain": [
       "<IPython.core.display.Markdown object>"
      ]
     },
     "metadata": {},
     "output_type": "display_data"
    }
   ],
   "source": [
    "SWK_b=sigmaW_zd/KWK_b\n",
    "TuaWK_t=tauW_s/KWK_t\n",
    "\n",
    "\n",
    "display(Markdown(f\"\"\"\n",
    "## Bauteilwechselfestigkeit:\n",
    "#### Die ertragbaren Nennwerte der Bauteil-Wechselfestigkeit sind:         \n",
    "$$\n",
    "\\large\n",
    "S_{{WK.b}} = \\\\frac{{\\sigma_{{W_{{zd}}}}}}{{K_{{WK.b}}}} = \\\\frac{{{sigmaW_zd:.2f}}}{{{KWK_t:.2f}}}={SWK_b:.2f} \\\\ \\\\   {Einheit(SWK_b)}\n",
    "\\\\\\\\\\\\\n",
    "\\\\\\\\\\\\\n",
    "$$\n",
    "\n",
    "$$\n",
    "\\large\n",
    "\\\\tau_{{WK.t}} = \\\\frac{{\\\\tau_{{W.s}}}}{{K_{{WK.t}}}} = \\\\frac{{{tauW_s:.2f}}}{{{KWK_t:.2f}}} ={TuaWK_t:.2f}\\\\ \\\\ {Einheit(TuaWK_t)}\n",
    "\\\\\\\\\\\\\n",
    "$$\n",
    "\n",
    "\"\"\"))"
   ]
  },
  {
   "cell_type": "code",
   "execution_count": 59,
   "metadata": {},
   "outputs": [
    {
     "data": {
      "text/markdown": [
       "\n",
       "\n",
       "## Smith-Diagramm    \n",
       "## Mittelspannungsempfindlichkeit    \n",
       "##### Die Mittelspannungsempfindlichkeit ist ein Maß dafür, wie stark die Ausschlagspannung mit wachsender Mittelspannung abfällt    \n",
       "\n",
       "$$\n",
       "\\large\n",
       "M_{\\sigma} = 0.000035 + \\frac{R_{m}}{MPa} - 0.1 = 0.00035 \\cdot \\frac{813.88}{MPa} - 0.1 =0.1849\n",
       "\\\\\\\n",
       "$$\n",
       "\n",
       "$$\n",
       "\\large\n",
       "M_{\\tau} = 0.577 \\cdot M_{\\sigma} = 0.577 \\cdot 0.1849 =0.107\n",
       "\\\\\\\n",
       "$$\n",
       " \n",
       "                 \n",
       "                 "
      ],
      "text/plain": [
       "<IPython.core.display.Markdown object>"
      ]
     },
     "metadata": {},
     "output_type": "display_data"
    }
   ],
   "source": [
    "M_sigma=0.00035*Rm-0.1\n",
    "M_tau=0.577*M_sigma\n",
    "display(Markdown(f\"\"\"\n",
    "\n",
    "## Smith-Diagramm    \n",
    "## Mittelspannungsempfindlichkeit    \n",
    "##### Die Mittelspannungsempfindlichkeit ist ein Maß dafür, wie stark die Ausschlagspannung mit wachsender Mittelspannung abfällt    \n",
    "\n",
    "$$\n",
    "\\large\n",
    "M_{{\\\\sigma}} = 0.000035 + \\\\frac{{R_{{m}}}}{{MPa}} - 0.1 = 0.00035 \\cdot \\\\frac{{{Rm:.2f}}}{{MPa}} - 0.1 ={M_sigma:.4f}\n",
    "\\\\\\\\\\\\\n",
    "$$\n",
    "\n",
    "$$\n",
    "\\large\n",
    "M_{{\\\\tau}} = 0.577 \\cdot M_{{\\sigma}} = 0.577 \\cdot {M_sigma:.4f} ={M_tau:.3f}\n",
    "\\\\\\\\\\\\\n",
    "$$\n",
    " \n",
    "                 \n",
    "                 \"\"\"))"
   ]
  },
  {
   "cell_type": "code",
   "execution_count": 60,
   "metadata": {},
   "outputs": [
    {
     "data": {
      "text/markdown": [
       "\n",
       "                 \n",
       "## Vergleichspanung\n",
       "\n",
       "$$\n",
       "\\large\n",
       "S_{m.v} = \\sqrt{3 \\cdot (T_{m.t})^2 + (S_{m.b})^2} = \\sqrt{3 \\cdot (0.39)^2 + (0.203718)^2} = 0.20 \\ Mpa\n",
       "\\\\\\\n",
       "\\\\\\\n",
       "$$\n",
       "\n",
       "$$\n",
       "\\large\n",
       "T_{m.v} = 0.577 \\cdot S_{m.v} =  0.577 \\cdot 0.20 =0.12 \\  Mpa\n",
       "\\\\\\\n",
       "$$\n",
       "                 "
      ],
      "text/plain": [
       "<IPython.core.display.Markdown object>"
      ]
     },
     "metadata": {},
     "output_type": "display_data"
    }
   ],
   "source": [
    "\n",
    "Sm_v=math.sqrt(3*(Tmin_t)**2+(Smax_n)**2)\n",
    "Tm_v=0.577*Sm_v\n",
    "display(Markdown(f\"\"\"\n",
    "                 \n",
    "## Vergleichspanung\n",
    "\n",
    "$$\n",
    "\\large\n",
    "S_{{m.v}} = \\sqrt{{3 \\cdot (T_{{m.t}})^2 + (S_{{m.b}})^2}} = \\sqrt{{3 \\cdot ({Tmax_t:.2f})^2 + ({Smax_n:2f})^2}} = {Sm_v:.2f} \\\\ { Einheit(Sm_v)}\n",
    "\\\\\\\\\\\\\n",
    "\\\\\\\\\\\\\n",
    "$$\n",
    "\n",
    "$$\n",
    "\\large\n",
    "T_{{m.v}} = 0.577 \\cdot S_{{m.v}} =  0.577 \\cdot {Sm_v:.2f} ={Tm_v:.2f} \\\\  {Einheit(Tm_v)}\n",
    "\\\\\\\\\\\\\n",
    "$$\n",
    "                 \"\"\"))\n",
    "\n"
   ]
  },
  {
   "cell_type": "code",
   "execution_count": 61,
   "metadata": {},
   "outputs": [
    {
     "data": {
      "text/markdown": [
       "\n",
       "## Bauteil-Ausschalgfestigkeit                 \n",
       "\n",
       "$$\n",
       "\\large\n",
       "S_{AK.b} =750\\ Mpa\n",
       "\\\\\\\n",
       "$$\n",
       "$$\n",
       "\\large\n",
       "T_{AK.t} =0.1\\ Mpa\n",
       "\\\\\\\n",
       "$$\n",
       "\n"
      ],
      "text/plain": [
       "<IPython.core.display.Markdown object>"
      ]
     },
     "metadata": {},
     "output_type": "display_data"
    }
   ],
   "source": [
    "SAk_b=750 # MPa\n",
    "TAk_t=0.1# MPa\n",
    "display(Markdown(f\"\"\"\n",
    "## Bauteil-Ausschalgfestigkeit                 \n",
    "\n",
    "$$\n",
    "\\large\n",
    "S_{{AK.b}} ={SAk_b}\\\\ {Einheit(SAk_b)}\n",
    "\\\\\\\\\\\\\n",
    "$$\n",
    "$$\n",
    "\\large\n",
    "T_{{AK.t}} ={TAk_t}\\\\ {Einheit(TAk_t)}\n",
    "\\\\\\\\\\\\\n",
    "$$\n",
    "\n",
    "\"\"\"))"
   ]
  },
  {
   "cell_type": "code",
   "execution_count": 62,
   "metadata": {},
   "outputs": [
    {
     "ename": "NameError",
     "evalue": "name 'aAK_Sv' is not defined",
     "output_type": "error",
     "traceback": [
      "\u001b[1;31m---------------------------------------------------------------------------\u001b[0m",
      "\u001b[1;31mNameError\u001b[0m                                 Traceback (most recent call last)",
      "Input \u001b[1;32mIn [62]\u001b[0m, in \u001b[0;36m<cell line: 9>\u001b[1;34m()\u001b[0m\n\u001b[0;32m      7\u001b[0m aAK_b\u001b[38;5;241m=\u001b[39mSa_b\u001b[38;5;241m*\u001b[39mjd\u001b[38;5;241m/\u001b[39m\u001b[38;5;28mmin\u001b[39m(SAk_b\u001b[38;5;241m/\u001b[39m\u001b[38;5;241m10\u001b[39m , \u001b[38;5;241m0.75\u001b[39m\u001b[38;5;241m*\u001b[39mRp)\n\u001b[0;32m      8\u001b[0m aAK_t\u001b[38;5;241m=\u001b[39mTa_t\u001b[38;5;241m*\u001b[39mjd\u001b[38;5;241m/\u001b[39m\u001b[38;5;28mmin\u001b[39m(TAk_t , \u001b[38;5;241m0.75\u001b[39m\u001b[38;5;241m*\u001b[39m\u001b[38;5;241m0.577\u001b[39m\u001b[38;5;241m*\u001b[39mRp)\n\u001b[0;32m      9\u001b[0m display(Markdown(\u001b[38;5;124mf\u001b[39m\u001b[38;5;124m\"\"\"\u001b[39m\n\u001b[0;32m     10\u001b[0m \u001b[38;5;124m## Sicherheitsfaktoren\u001b[39m\n\u001b[0;32m     11\u001b[0m \u001b[38;5;124m$$\u001b[39m\n\u001b[0;32m     12\u001b[0m \u001b[38;5;124m\\\u001b[39m\u001b[38;5;124mlarge\u001b[39m\n\u001b[0;32m     13\u001b[0m \u001b[38;5;124mJ_\u001b[39m\u001b[38;5;130;01m{{\u001b[39;00m\u001b[38;5;124md\u001b[39m\u001b[38;5;130;01m}}\u001b[39;00m\u001b[38;5;124m=\u001b[39m\u001b[38;5;132;01m{\u001b[39;00mjd\u001b[38;5;132;01m}\u001b[39;00m\n\u001b[0;32m     14\u001b[0m \u001b[38;5;124m$$\u001b[39m\n\u001b[0;32m     15\u001b[0m \n\u001b[0;32m     16\u001b[0m \n\u001b[0;32m     17\u001b[0m \n\u001b[0;32m     18\u001b[0m \u001b[38;5;124m## Nachweis der Dauerfestigkeit\u001b[39m\n\u001b[0;32m     19\u001b[0m \u001b[38;5;124m#### Auslastungen für einzelne Spannungsarten\u001b[39m\n\u001b[0;32m     20\u001b[0m \n\u001b[0;32m     21\u001b[0m \u001b[38;5;124m$$\u001b[39m\n\u001b[0;32m     22\u001b[0m \u001b[38;5;124m\\\u001b[39m\u001b[38;5;124mlarge\u001b[39m\n\u001b[0;32m     23\u001b[0m \u001b[38;5;124ma_\u001b[39m\u001b[38;5;130;01m{{\u001b[39;00m\u001b[38;5;124mAK.b\u001b[39m\u001b[38;5;130;01m}}\u001b[39;00m\u001b[38;5;124m = \u001b[39m\u001b[38;5;130;01m\\\\\u001b[39;00m\u001b[38;5;124mfrac\u001b[39m\u001b[38;5;130;01m{{\u001b[39;00m\u001b[38;5;124mS_\u001b[39m\u001b[38;5;130;01m{{\u001b[39;00m\u001b[38;5;124ma.b\u001b[39m\u001b[38;5;130;01m}}\u001b[39;00m\u001b[38;5;124m\\\u001b[39m\u001b[38;5;124mcdot J_\u001b[39m\u001b[38;5;130;01m{{\u001b[39;00m\u001b[38;5;124md\u001b[39m\u001b[38;5;130;01m}}\u001b[39;00m\u001b[38;5;124m \u001b[39m\u001b[38;5;130;01m}}\u001b[39;00m\u001b[38;5;130;01m{{\u001b[39;00m\u001b[38;5;124m\\\u001b[39m\u001b[38;5;124mmin(S_\u001b[39m\u001b[38;5;130;01m{{\u001b[39;00m\u001b[38;5;124mAk.b\u001b[39m\u001b[38;5;130;01m}}\u001b[39;00m\u001b[38;5;124m, 0.75 \u001b[39m\u001b[38;5;124m\\\u001b[39m\u001b[38;5;124mcdot R_\u001b[39m\u001b[38;5;130;01m{{\u001b[39;00m\u001b[38;5;124mp\u001b[39m\u001b[38;5;130;01m}}\u001b[39;00m\u001b[38;5;124m)\u001b[39m\u001b[38;5;130;01m}}\u001b[39;00m\u001b[38;5;124m =  \u001b[39m\u001b[38;5;130;01m\\\\\u001b[39;00m\u001b[38;5;124mfrac\u001b[39m\u001b[38;5;130;01m{{\u001b[39;00m\u001b[38;5;132;01m{\u001b[39;00mSa_b\u001b[38;5;132;01m:\u001b[39;00m\u001b[38;5;124m.2f\u001b[39m\u001b[38;5;132;01m}\u001b[39;00m\u001b[38;5;124m \u001b[39m\u001b[38;5;124m\\\u001b[39m\u001b[38;5;124mcdot \u001b[39m\u001b[38;5;132;01m{\u001b[39;00mjd\u001b[38;5;132;01m}\u001b[39;00m\u001b[38;5;124m \u001b[39m\u001b[38;5;130;01m}}\u001b[39;00m\u001b[38;5;130;01m{{\u001b[39;00m\u001b[38;5;124m\\\u001b[39m\u001b[38;5;124mmin(\u001b[39m\u001b[38;5;132;01m{\u001b[39;00mSAk_b\u001b[38;5;132;01m:\u001b[39;00m\u001b[38;5;124m.2f\u001b[39m\u001b[38;5;132;01m}\u001b[39;00m\u001b[38;5;124m, 0.75 \u001b[39m\u001b[38;5;124m\\\u001b[39m\u001b[38;5;124mcdot \u001b[39m\u001b[38;5;132;01m{\u001b[39;00mRp\u001b[38;5;132;01m:\u001b[39;00m\u001b[38;5;124m.2f\u001b[39m\u001b[38;5;132;01m}\u001b[39;00m\u001b[38;5;124m)\u001b[39m\u001b[38;5;130;01m}}\u001b[39;00m\u001b[38;5;124m = \u001b[39m\u001b[38;5;132;01m{\u001b[39;00maAK_b\u001b[38;5;132;01m:\u001b[39;00m\u001b[38;5;124m.2f\u001b[39m\u001b[38;5;132;01m}\u001b[39;00m\u001b[38;5;124m \u001b[39m\n\u001b[0;32m     24\u001b[0m \u001b[38;5;130;01m\\\\\u001b[39;00m\u001b[38;5;130;01m\\\\\u001b[39;00m\u001b[38;5;130;01m\\\\\u001b[39;00m\n\u001b[0;32m     25\u001b[0m \u001b[38;5;124m$$\u001b[39m\n\u001b[0;32m     26\u001b[0m \u001b[38;5;124m$$\u001b[39m\n\u001b[0;32m     27\u001b[0m \u001b[38;5;124m\\\u001b[39m\u001b[38;5;124mlarge\u001b[39m\n\u001b[1;32m---> 28\u001b[0m \u001b[38;5;124ma_\u001b[39m\u001b[38;5;130;01m{{\u001b[39;00m\u001b[38;5;124mAK.t\u001b[39m\u001b[38;5;130;01m}}\u001b[39;00m\u001b[38;5;124m = \u001b[39m\u001b[38;5;130;01m\\\\\u001b[39;00m\u001b[38;5;124mfrac\u001b[39m\u001b[38;5;130;01m{{\u001b[39;00m\u001b[38;5;124mT_\u001b[39m\u001b[38;5;130;01m{{\u001b[39;00m\u001b[38;5;124ma.t\u001b[39m\u001b[38;5;130;01m}}\u001b[39;00m\u001b[38;5;124m\\\u001b[39m\u001b[38;5;124mcdot J_\u001b[39m\u001b[38;5;130;01m{{\u001b[39;00m\u001b[38;5;124md\u001b[39m\u001b[38;5;130;01m}}\u001b[39;00m\u001b[38;5;124m \u001b[39m\u001b[38;5;130;01m}}\u001b[39;00m\u001b[38;5;130;01m{{\u001b[39;00m\u001b[38;5;124m\\\u001b[39m\u001b[38;5;124mmin(T_\u001b[39m\u001b[38;5;130;01m{{\u001b[39;00m\u001b[38;5;124mAk.t\u001b[39m\u001b[38;5;130;01m}}\u001b[39;00m\u001b[38;5;124m, 0.75 \u001b[39m\u001b[38;5;124m\\\u001b[39m\u001b[38;5;124mcdot 0.577 \u001b[39m\u001b[38;5;124m\\\u001b[39m\u001b[38;5;124mcdot R_\u001b[39m\u001b[38;5;130;01m{{\u001b[39;00m\u001b[38;5;124mp\u001b[39m\u001b[38;5;130;01m}}\u001b[39;00m\u001b[38;5;124m)\u001b[39m\u001b[38;5;130;01m}}\u001b[39;00m\u001b[38;5;124m =  \u001b[39m\u001b[38;5;130;01m\\\\\u001b[39;00m\u001b[38;5;124mfrac\u001b[39m\u001b[38;5;130;01m{{\u001b[39;00m\u001b[38;5;132;01m{\u001b[39;00mTa_t\u001b[38;5;132;01m:\u001b[39;00m\u001b[38;5;124m.2f\u001b[39m\u001b[38;5;132;01m}\u001b[39;00m\u001b[38;5;124m \u001b[39m\u001b[38;5;124m\\\u001b[39m\u001b[38;5;124mcdot \u001b[39m\u001b[38;5;132;01m{\u001b[39;00mjd\u001b[38;5;132;01m}\u001b[39;00m\u001b[38;5;124m \u001b[39m\u001b[38;5;130;01m}}\u001b[39;00m\u001b[38;5;130;01m{{\u001b[39;00m\u001b[38;5;124m\\\u001b[39m\u001b[38;5;124mmin(\u001b[39m\u001b[38;5;132;01m{\u001b[39;00mTAk_t\u001b[38;5;132;01m:\u001b[39;00m\u001b[38;5;124m.2f\u001b[39m\u001b[38;5;132;01m}\u001b[39;00m\u001b[38;5;124m, 0.75 \u001b[39m\u001b[38;5;124m\\\u001b[39m\u001b[38;5;124mcdot \u001b[39m\u001b[38;5;132;01m{\u001b[39;00mRp\u001b[38;5;132;01m:\u001b[39;00m\u001b[38;5;124m.2f\u001b[39m\u001b[38;5;132;01m}\u001b[39;00m\u001b[38;5;124m)\u001b[39m\u001b[38;5;130;01m}}\u001b[39;00m\u001b[38;5;124m = \u001b[39m\u001b[38;5;132;01m{\u001b[39;00maAK_Sv\u001b[38;5;132;01m:\u001b[39;00m\u001b[38;5;124m.2f\u001b[39m\u001b[38;5;132;01m}\u001b[39;00m\u001b[38;5;124m  \u001b[39m\n\u001b[0;32m     29\u001b[0m \u001b[38;5;130;01m\\\\\u001b[39;00m\u001b[38;5;130;01m\\\\\u001b[39;00m\u001b[38;5;130;01m\\\\\u001b[39;00m\n\u001b[0;32m     30\u001b[0m \u001b[38;5;124m$$\u001b[39m\n\u001b[0;32m     31\u001b[0m \u001b[38;5;124m                 \u001b[39m\n\u001b[0;32m     32\u001b[0m \u001b[38;5;124m                 \u001b[39m\u001b[38;5;124m\"\"\"\u001b[39m))\n",
      "\u001b[1;31mNameError\u001b[0m: name 'aAK_Sv' is not defined"
     ]
    }
   ],
   "source": [
    "Sm_b=0 # above!!!!!\n",
    "Sa_b=62.25 # above!!!!!\n",
    "Tm_t=117.89 # above!!!!!\n",
    "Ta_t=0 # above!!!!!\n",
    "jd=1.2\n",
    "\n",
    "aAK_b=Sa_b*jd/min(SAk_b/10 , 0.75*Rp)\n",
    "aAK_t=Ta_t*jd/min(TAk_t , 0.75*0.577*Rp)\n",
    "display(Markdown(f\"\"\"\n",
    "## Sicherheitsfaktoren\n",
    "$$\n",
    "\\large\n",
    "J_{{d}}={jd}\n",
    "$$\n",
    "\n",
    "\n",
    "\n",
    "## Nachweis der Dauerfestigkeit\n",
    "#### Auslastungen für einzelne Spannungsarten\n",
    "\n",
    "$$\n",
    "\\large\n",
    "a_{{AK.b}} = \\\\frac{{S_{{a.b}}\\cdot J_{{d}} }}{{\\min(S_{{Ak.b}}, 0.75 \\cdot R_{{p}})}} =  \\\\frac{{{Sa_b:.2f} \\cdot {jd} }}{{\\min({SAk_b:.2f}, 0.75 \\cdot {Rp:.2f})}} = {aAK_b:.2f} \n",
    "\\\\\\\\\\\\\n",
    "$$\n",
    "$$\n",
    "\\large\n",
    "a_{{AK.t}} = \\\\frac{{T_{{a.t}}\\cdot J_{{d}} }}{{\\min(T_{{Ak.t}}, 0.75 \\cdot 0.577 \\cdot R_{{p}})}} =  \\\\frac{{{Ta_t:.2f} \\cdot {jd} }}{{\\min({TAk_t:.2f}, 0.75 \\cdot {Rp:.2f})}} = {aAK_t:.2f}  \n",
    "\\\\\\\\\\\\\n",
    "$$\n",
    "                 \n",
    "                 \"\"\"))\n"
   ]
  },
  {
   "cell_type": "code",
   "execution_count": null,
   "metadata": {},
   "outputs": [
    {
     "data": {
      "text/markdown": [
       "\n",
       "\n",
       "## Auslastungen für zusammengestzte Spannungsarten:\n",
       "\n",
       "$$\n",
       "\\large\n",
       "a_{AK.Sv} = \\sqrt{a_{AK.b}^2 + a_{AK.t}^2} = \\sqrt{1.00 ^2 + 0.0 ^2} = 1.00\n",
       " \\\\\\\n",
       "$$\n",
       "\n",
       "#### Die Einzelauslatungen sind kleiner 1 , die Gesamteauslastung ist 99.60 % so dass die Dauerfestigekt gegeben ist\n",
       "                 \n"
      ],
      "text/plain": [
       "<IPython.core.display.Markdown object>"
      ]
     },
     "metadata": {},
     "output_type": "display_data"
    }
   ],
   "source": [
    "aAK_Sv=math.sqrt(aAK_b**2 + aAK_t**2)\n",
    "\n",
    "display(Markdown(f\"\"\"\n",
    "\n",
    "## Auslastungen für zusammengestzte Spannungsarten:\n",
    "\n",
    "$$\n",
    "\\large\n",
    "a_{{AK.Sv}} = \\\\sqrt{{a_{{AK.b}}^2 + a_{{AK.t}}^2}} = \\\\sqrt{{{aAK_b:.2f} ^2 + {aAK_t} ^2}} = {aAK_Sv:.2f}\n",
    " \\\\\\\\\\\\\n",
    "$$\n",
    "\n",
    "#### Die Einzelauslatungen sind kleiner 1 , die Gesamteauslastung ist {100 *aAK_Sv:.2f} % so dass die Dauerfestigekt gegeben ist\n",
    "                 \n",
    "\"\"\"))\n",
    "\n"
   ]
  }
 ],
 "metadata": {
  "kernelspec": {
   "display_name": "base",
   "language": "python",
   "name": "python3"
  },
  "language_info": {
   "codemirror_mode": {
    "name": "ipython",
    "version": 3
   },
   "file_extension": ".py",
   "mimetype": "text/x-python",
   "name": "python",
   "nbconvert_exporter": "python",
   "pygments_lexer": "ipython3",
   "version": "3.9.12"
  }
 },
 "nbformat": 4,
 "nbformat_minor": 2
}
