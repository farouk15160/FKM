{
 "cells": [
  {
   "cell_type": "code",
   "execution_count": 193,
   "metadata": {},
   "outputs": [],
   "source": [
    "from IPython.display import display, Markdown , HTML\n",
    "import math\n",
    "import numpy\n"
   ]
  },
  {
   "cell_type": "code",
   "execution_count": 194,
   "metadata": {},
   "outputs": [
    {
     "data": {
      "text/markdown": [
       "\n",
       "# Auswahl der Festlager\n",
       "\n",
       "## Der Festlager wird hier als Einreihiges Zylinderrollenlager (Kurzzeichen NU 3168 ECMA) ausgewählt.\n",
       "$$\n",
       "\\\\\\\n",
       "\\\\\\\n",
       "\\\\\\\n",
       "\\\\\\\n",
       "$$\n",
       "\n"
      ],
      "text/plain": [
       "<IPython.core.display.Markdown object>"
      ]
     },
     "metadata": {},
     "output_type": "display_data"
    },
    {
     "data": {
      "text/markdown": [
       "![Filzringe](Festlager.png)"
      ],
      "text/plain": [
       "<IPython.core.display.Markdown object>"
      ]
     },
     "metadata": {},
     "output_type": "display_data"
    },
    {
     "data": {
      "text/markdown": [
       "Quelle: www.skf.com/de/"
      ],
      "text/plain": [
       "<IPython.core.display.Markdown object>"
      ]
     },
     "metadata": {},
     "output_type": "display_data"
    },
    {
     "data": {
      "text/markdown": [
       "\n",
       "\n",
       "$$\n",
       "\\\\\\\n",
       "\\\\\\\n",
       "\\\\\\\n",
       "\\\\\\\n",
       "$$\n",
       "\n",
       "\n",
       "\n",
       "### Einreihige Zylinderrollenlager sind für hohe Radiallasten bei hohen Drehzahlen konzipiert.\n",
       "### - Hohe radiale Tragfähigkeit\n",
       "### - Reibungsarm\n",
       "### - Lange Gebrauchsdauer\n",
       "### - Aufnahme axialer Verschiebungen in beiden Richtungen\n",
       "\n",
       "$$\n",
       "\\\\\\\n",
       "\\\\\\\n",
       "\\\\\\\n",
       "\\\\\\\n",
       "\\\\\\\n",
       "$$\n",
       "                 \n"
      ],
      "text/plain": [
       "<IPython.core.display.Markdown object>"
      ]
     },
     "metadata": {},
     "output_type": "display_data"
    }
   ],
   "source": [
    "d_scheibe = 250 # mm\n",
    "v_seil=20000 # mm/min\n",
    "# n=v_seil/(d_scheibe * math.pi)\n",
    "n=20\n",
    "Nmax=10\n",
    "Qmax=1018.2 #KN\n",
    "D_a_f=580\n",
    "D_i_f=340\n",
    "D_mf=(D_a_f+D_i_f)/2\n",
    "Aa=Nmax\n",
    "Ar=Qmax # KN\n",
    "\n",
    "p=10/3\n",
    "display(Markdown(f\"\"\"\n",
    "# Auswahl der Festlager\n",
    "\n",
    "## Der Festlager wird hier als Einreihiges Zylinderrollenlager (Kurzzeichen NU 3168 ECMA) ausgewählt.\n",
    "$$\n",
    "\\\\\\\\\\\\\n",
    "\\\\\\\\\\\\\n",
    "\\\\\\\\\\\\\n",
    "\\\\\\\\\\\\\n",
    "$$\n",
    "\n",
    "\"\"\"))\n",
    "display(Markdown(\"![Filzringe](Festlager.png)\"))\n",
    "display(Markdown(\"Quelle: www.skf.com/de/\"))\n",
    "\n",
    "display(Markdown(f\"\"\"\n",
    "\n",
    "$$\n",
    "\\\\\\\\\\\\\n",
    "\\\\\\\\\\\\\n",
    "\\\\\\\\\\\\\n",
    "\\\\\\\\\\\\\n",
    "$$\n",
    "\n",
    "\n",
    "\n",
    "### Einreihige Zylinderrollenlager sind für hohe Radiallasten bei hohen Drehzahlen konzipiert.\n",
    "### - Hohe radiale Tragfähigkeit\n",
    "### - Reibungsarm\n",
    "### - Lange Gebrauchsdauer\n",
    "### - Aufnahme axialer Verschiebungen in beiden Richtungen\n",
    "\n",
    "$$\n",
    "\\\\\\\\\\\\\n",
    "\\\\\\\\\\\\\n",
    "\\\\\\\\\\\\\n",
    "\\\\\\\\\\\\\n",
    "\\\\\\\\\\\\\n",
    "$$\n",
    "                 \n",
    "\"\"\"))\n"
   ]
  },
  {
   "cell_type": "code",
   "execution_count": 195,
   "metadata": {},
   "outputs": [
    {
     "data": {
      "text/markdown": [
       "             \n",
       "## Übersicht\n",
       "\n",
       "### Abmessungen\n",
       "\n",
       "| Merkmal            | Wert   |\n",
       "|--------------------|--------|\n",
       "| Bohrungsdurchmesser| 340 mm |\n",
       "| Außendurchmesser  | 580  mm |\n",
       "| Breite             | 190 mm |\n",
       "\n",
       "### Leistung\n",
       "\n",
       "| Merkmal               | Wert   |\n",
       "|-----------------------|--------|\n",
       "| Dynamische Tragzahl   | 3 470 kN |\n",
       "| Statische Tragzahl    | 5 850 kN |\n",
       "| Referenzdrehzahl      | 950 r/min |\n",
       "| Grenzdrehzahl         | 1600 r/min |\n",
       "\n",
       "Quelle:SKF\n"
      ],
      "text/plain": [
       "<IPython.core.display.Markdown object>"
      ]
     },
     "metadata": {},
     "output_type": "display_data"
    }
   ],
   "source": [
    "display(Markdown(\"\"\"             \n",
    "## Übersicht\n",
    "\n",
    "### Abmessungen\n",
    "\n",
    "| Merkmal            | Wert   |\n",
    "|--------------------|--------|\n",
    "| Bohrungsdurchmesser| 340 mm |\n",
    "| Außendurchmesser  | 580  mm |\n",
    "| Breite             | 190 mm |\n",
    "\n",
    "### Leistung\n",
    "\n",
    "| Merkmal               | Wert   |\n",
    "|-----------------------|--------|\n",
    "| Dynamische Tragzahl   | 3 470 kN |\n",
    "| Statische Tragzahl    | 5 850 kN |\n",
    "| Referenzdrehzahl      | 950 r/min |\n",
    "| Grenzdrehzahl         | 1600 r/min |\n",
    "\n",
    "Quelle:SKF\n",
    "\"\"\"))"
   ]
  },
  {
   "cell_type": "code",
   "execution_count": 196,
   "metadata": {},
   "outputs": [
    {
     "data": {
      "text/markdown": [
       "\n",
       "$$\n",
       "\\\\\\\n",
       "\\\\\\\n",
       "\\\\\\\n",
       "\\\\\\\n",
       "\\\\\\\n",
       "\\\\\\\n",
       "$$\n",
       "![Filzringe](Tabelle.png)\n",
       "$$\n",
       "Quelle:Roloff /Matek Maschinenelemente\n",
       "\\\\\\\n",
       "\\\\\\\n",
       "\\\\\\\n",
       "\\\\\\\n",
       "\\\\\\\n",
       "\\\\\\\n",
       "$$\n",
       "\n",
       "### Radialfaktor X und Axialfaktor Y  ergeben sich aus TB 14-3a bzw. WLK (Roloff /Matek Maschinenelemente)\n",
       "### $$ A_a= F_{a}  = 10 \\ KN $$\n",
       "### $$ A_r=  F_{r} = 1018.2 \\ KN $$\n",
       "### Folgt daraus $$ \\frac {F_{a}}{F_{r}} = 0.010 $$\n",
       "### Da das wir ein Zylinderrollenlager haben  ( e = 0.2 ) und $$ \\frac {F_{a}}{F_{r}} = 0.010  < e $$ , wird Radialfaktor X = 1 und Axialfaktor Y = 0 sein\n",
       "$$\n",
       "\\\\\\\n",
       "\\\\\\\n",
       "\\\\\\\n",
       "\\\\\\\n",
       "$$\n"
      ],
      "text/plain": [
       "<IPython.core.display.Markdown object>"
      ]
     },
     "metadata": {},
     "output_type": "display_data"
    }
   ],
   "source": [
    "X=1\n",
    "Y=0\n",
    "P_a =X*Ar + Y* Aa\n",
    "faktor=Nmax/Qmax\n",
    "display(Markdown(f\"\"\"\n",
    "$$\n",
    "\\\\\\\\\\\\\n",
    "\\\\\\\\\\\\\n",
    "\\\\\\\\\\\\\n",
    "\\\\\\\\\\\\\n",
    "\\\\\\\\\\\\\n",
    "\\\\\\\\\\\\\n",
    "$$\n",
    "![Filzringe](Tabelle.png)\n",
    "$$\n",
    "Quelle:Roloff /Matek Maschinenelemente\n",
    "\\\\\\\\\\\\\n",
    "\\\\\\\\\\\\\n",
    "\\\\\\\\\\\\\n",
    "\\\\\\\\\\\\\n",
    "\\\\\\\\\\\\\n",
    "\\\\\\\\\\\\\n",
    "$$\n",
    "\n",
    "### Radialfaktor X und Axialfaktor Y  ergeben sich aus TB 14-3a bzw. WLK (Roloff /Matek Maschinenelemente)\n",
    "### $$ A_a= F_{{a}}  = {Nmax} \\\\ KN $$\n",
    "### $$ A_r=  F_{{r}} = {Qmax} \\\\ KN $$\n",
    "### Folgt daraus $$ \\\\frac {{F_{{a}}}}{{F_{{r}}}} = {faktor:.3f} $$\n",
    "### Da das wir ein Zylinderrollenlager haben  ( e = 0.2 ) und $$ \\\\frac {{F_{{a}}}}{{F_{{r}}}} = {faktor:.3f}  < e $$ , wird Radialfaktor X = {X} und Axialfaktor Y = {Y} sein\n",
    "$$\n",
    "\\\\\\\\\\\\\n",
    "\\\\\\\\\\\\\n",
    "\\\\\\\\\\\\\n",
    "\\\\\\\\\\\\\n",
    "$$\n",
    "\"\"\"))"
   ]
  },
  {
   "cell_type": "code",
   "execution_count": 197,
   "metadata": {},
   "outputs": [
    {
     "data": {
      "text/markdown": [
       "\n",
       "                 \n",
       "### Äußer Durchmesser $$D_{a.f} = 580 \\ mm $$\n",
       "### Innere Durchmesser $$D_{i.f} = 340 \\ mm $$\n",
       "\n",
       "### $$A_{a} = N_{max} = 10 \\ KN$$\n",
       "### $$A_{r} = Q_{max} = 1018.2 \\ KN$$\n",
       "\n",
       "\n",
       "### Drehzahl bestimmen:\n",
       "\n",
       "$$\n",
       "\\Large\n",
       "n=20.000 \\ min^-1\n",
       "$$\n",
       "\n",
       "\n",
       "### Die dynamische äquivalente Belastung P ist ein rechnerischer Wert, \n",
       "### der in Größe und Richtung konstante Radiallast oder Axiallast, Hier gibt es nur eine Radiallast\n",
       "$\\large X=1 \\ \\ \\ $   $Y=0$\n",
       "\n",
       "Aus dem MEII-Skript 2023\n",
       "$$\n",
       "\\Large\n",
       "P_{A}= X \\cdot A_{r} + Y \\cdot A_{a} =  1\\cdot 1018.2 + 0 \\cdot 10 = 1018.2 \\ KN\n",
       "$$\n"
      ],
      "text/plain": [
       "<IPython.core.display.Markdown object>"
      ]
     },
     "metadata": {},
     "output_type": "display_data"
    }
   ],
   "source": [
    "display(Markdown(f\"\"\"\n",
    "                 \n",
    "### Äußer Durchmesser $$D_{{a.f}} = {D_a_f} \\\\ mm $$\n",
    "### Innere Durchmesser $$D_{{i.f}} = {D_i_f} \\\\ mm $$\n",
    "\n",
    "### $$A_{{a}} = N_{{max}} = {Nmax} \\\\ KN$$\n",
    "### $$A_{{r}} = Q_{{max}} = {Qmax} \\\\ KN$$\n",
    "\n",
    "\n",
    "### Drehzahl bestimmen:\n",
    "\n",
    "$$\n",
    "\\Large\n",
    "n={n:.3f} \\\\ min^-1\n",
    "$$\n",
    "\n",
    "\n",
    "### Die dynamische äquivalente Belastung P ist ein rechnerischer Wert, \n",
    "### der in Größe und Richtung konstante Radiallast oder Axiallast, Hier gibt es nur eine Radiallast\n",
    "$\\large X={X} \\\\ \\\\ \\\\ $   $Y={Y}$\n",
    "\n",
    "Aus dem MEII-Skript 2023\n",
    "$$\n",
    "\\Large\n",
    "P_{{A}}= X \\cdot A_{{r}} + Y \\cdot A_{{a}} =  {X }\\cdot {Ar} + {Y} \\cdot {Aa} = {P_a} \\\\ KN\n",
    "$$\n",
    "\"\"\"))\n"
   ]
  },
  {
   "cell_type": "code",
   "execution_count": 198,
   "metadata": {},
   "outputs": [
    {
     "data": {
      "text/markdown": [
       "\n",
       "# Lebensdauerexponent für Rollenlager\n",
       "                 \n",
       "### $C_{r.f}=3470$ KN dynamische Tragzahlen\n",
       "### $C_{0r.f}=5850$ KN statische Tragzahlen\n",
       "\n",
       "$$\n",
       "\\Large\n",
       "L_{10.h_{d.f}}=\\frac{16666}{n}\\cdot (\\frac{C_{rfl}}{P_{A}})^P = \n",
       "\\frac{16666}{20.000 \\ min^-1}\\cdot (\\frac{3470 \\ KN }{1018.2 \\ KN})^{(3.3)} = 49635.148 \\ hr\n",
       "$$\n"
      ],
      "text/plain": [
       "<IPython.core.display.Markdown object>"
      ]
     },
     "metadata": {},
     "output_type": "display_data"
    }
   ],
   "source": [
    "C_rf=3470  # KN\n",
    "C0_rf=5850 # KN Statisch\n",
    "L_10h_df=((16666/n)*math.pow(C_rf/P_a , p))\n",
    "display(Markdown(f\"\"\"\n",
    "# Lebensdauerexponent für Rollenlager\n",
    "                 \n",
    "### $C_{{r.f}}={C_rf}$ KN dynamische Tragzahlen\n",
    "### $C_{{0r.f}}={C0_rf}$ KN statische Tragzahlen\n",
    "\n",
    "$$\n",
    "\\Large\n",
    "L_{{10.h_{{d.f}}}}=\\\\frac{{16666}}{{n}}\\cdot (\\\\frac{{C_{{rfl}}}}{{P_{{A}}}})^P = \n",
    "\\\\frac{{16666}}{{{n:.3f} \\\\ min^-1}}\\cdot (\\\\frac{{{C_rf} \\\\ KN }}{{{P_a} \\\\ KN}})^{{({p:.1f})}} = {L_10h_df:.3f} \\\\ hr\n",
    "$$\n",
    "\"\"\"))"
   ]
  },
  {
   "cell_type": "code",
   "execution_count": 199,
   "metadata": {},
   "outputs": [
    {
     "data": {
      "text/markdown": [
       "\n",
       "$$\n",
       "\\Large\n",
       "L_{10.h_{s.f}}=\\frac{16666}{n}\\cdot (\\frac{C_{0.r.f}}{P_{A}})^P = \n",
       "\\frac{16666}{20 \\ min^-1}\\cdot (\\frac{5850 \\ N }{1018.2 \\ N})^{(3.3)} = 283059.212 \\ hr\n",
       "$$\n"
      ],
      "text/plain": [
       "<IPython.core.display.Markdown object>"
      ]
     },
     "metadata": {},
     "output_type": "display_data"
    }
   ],
   "source": [
    "\n",
    "L_10h_sf=((16666/n)*math.pow(C0_rf/P_a , p))\n",
    "display(Markdown(f\"\"\"\n",
    "$$\n",
    "\\Large\n",
    "L_{{10.h_{{s.f}}}}=\\\\frac{{16666}}{{n}}\\cdot (\\\\frac{{C_{{0.r.f}}}}{{P_{{A}}}})^P = \n",
    "\\\\frac{{16666}}{{{n} \\\\ min^-1}}\\cdot (\\\\frac{{{C0_rf} \\\\ N }}{{{P_a} \\\\ N}})^{{({p:.1f})}} = {L_10h_sf:.3f} \\\\ hr\n",
    "$$\n",
    "\"\"\"))"
   ]
  },
  {
   "cell_type": "code",
   "execution_count": 200,
   "metadata": {},
   "outputs": [
    {
     "data": {
      "text/markdown": [
       "\n",
       "\n",
       "## Modifizierter Lebensdauer Berechnung:\n",
       "### Lebensdauerbeiwert für eine Erlebneswahrscheinlichkeit von 90% ,$a_{1}=1$, damit 90% Überlebenswharscheinlichekit gewähreistet wird (Tabelle von Lagerkatalog). Lebensdauerbeiwert für Standard-WälzlagerStahl: Der Lebensdauerbeiwert ist für normale Lagerwerkstoff mit $a_{2} = 1$ zu Wählen\n",
       "\n",
       "\n",
       "\n",
       "\n"
      ],
      "text/plain": [
       "<IPython.core.display.Markdown object>"
      ]
     },
     "metadata": {},
     "output_type": "display_data"
    }
   ],
   "source": [
    "a_1=1\n",
    "a_2=1\n",
    "D_mf=(D_a_f+D_i_f)/2\n",
    "display(Markdown(f\"\"\"\n",
    "\n",
    "## Modifizierter Lebensdauer Berechnung:\n",
    "### Lebensdauerbeiwert für eine Erlebneswahrscheinlichkeit von 90% ,$a_{{1}}={a_1}$, damit 90% Überlebenswharscheinlichekit gewähreistet wird (Tabelle von Lagerkatalog). Lebensdauerbeiwert für Standard-WälzlagerStahl: Der Lebensdauerbeiwert ist für normale Lagerwerkstoff mit $a_{{2}} = {a_2}$ zu Wählen\n",
    "\n",
    "\n",
    "\n",
    "\n",
    "\"\"\"))\n",
    "# ### Mittlere Durchmesser des Lagers:\n",
    "\n",
    "# $$\n",
    "# \\Large\n",
    "# D_{{m.f}}=\\\\frac{{D_{{a.f}} + D_{{i.f}} }}{{2}} = \\\\frac{{{D_a_f} \\\\ mm + {D_i_f} \\\\ mm}}{{2}} = {D_mf} \\\\ mm\n",
    "# $$"
   ]
  },
  {
   "cell_type": "code",
   "execution_count": 201,
   "metadata": {},
   "outputs": [
    {
     "data": {
      "text/markdown": [
       "\n",
       "## Bezugsviskosität\n",
       "\n",
       "### Bezugsviskosität $v_{1.f}$ bei $n=20 \\ \\frac{1}{min}$ wird aus dem Diagramm (Skript MEII 2023 S.32 ) abgelesen:\n",
       "\n",
       "$$\n",
       "\\Large\n",
       "v_{1.f} = 150 \\ \\frac{mm^2}{s}\n",
       "$$\n",
       "\n",
       "### Und die Betriebsviskosität bei Betriebstemperatur 50 C beträgt:\n",
       "$$\n",
       "\\Large\n",
       "v_{f} = 110 \\ \\frac{mm^2}{s}\n",
       "$$\n",
       "\n",
       "### Die Viskositätsverhaltnis ist:\n",
       "\n",
       "$$\n",
       "\\Large\n",
       "k= \\frac{v_{f}}{v_{1.f}} = \\frac{110}{150} = 0.733\n",
       "$$\n",
       "### Darasu folgt aus der Tabelle (MEII-Skript 2023 S.31) folgnedes Wert für $a_3$ =0.9\n",
       "\n",
       "### Mit der Annahme von hochste Sauberkeit wird a3-Lebensdauer von dem Diagramm im Lagerkatalog abgelesen\n",
       "\n",
       "$$\n",
       "\\Large\n",
       "L_{3m.s.f} = a_{1} \\cdot a_{2} \\cdot a_{3.1} \\cdot L_{10h.s.l}\n",
       "= 1 \\cdot 1 \\cdot 0.9 \\cdot 283059.212 = 254753.291 \\ hr\n",
       "$$\n",
       "$$\n",
       "\\Large\n",
       "L_{3m.d.f} = a_{1} \\cdot a_{2} \\cdot a_{3.1} \\cdot L_{10h.d.f}\n",
       "= 1 \\cdot 1 \\cdot 0.9 \\cdot 49635.148 = 44671.633 \\ hr\n",
       "$$\n",
       "\n",
       "\n"
      ],
      "text/plain": [
       "<IPython.core.display.Markdown object>"
      ]
     },
     "metadata": {},
     "output_type": "display_data"
    }
   ],
   "source": [
    "v_1f=150 # mm*mm/s\n",
    "v_f=110 \n",
    "k=v_f/v_1f\n",
    "a_31=0.9\n",
    "L_3m_s_f=a_1*a_2*a_31*L_10h_sf\n",
    "L_3m_d_f=a_1*a_2*a_31*L_10h_df\n",
    "display(Markdown(f\"\"\"\n",
    "## Bezugsviskosität\n",
    "\n",
    "### Bezugsviskosität $v_{{1.f}}$ bei $n={n} \\\\ \\\\frac{{1}}{{min}}$ wird aus dem Diagramm (Skript MEII 2023 S.32 ) abgelesen:\n",
    "\n",
    "$$\n",
    "\\Large\n",
    "v_{{1.f}} = {v_1f} \\\\ \\\\frac{{mm^2}}{{s}}\n",
    "$$\n",
    "\n",
    "### Und die Betriebsviskosität bei Betriebstemperatur {50} C beträgt:\n",
    "$$\n",
    "\\Large\n",
    "v_{{f}} = {v_f} \\\\ \\\\frac{{mm^2}}{{s}}\n",
    "$$\n",
    "\n",
    "### Die Viskositätsverhaltnis ist:\n",
    "\n",
    "$$\n",
    "\\Large\n",
    "k= \\\\frac{{v_{{f}}}}{{v_{{1.f}}}} = \\\\frac{{{v_f}}}{{{v_1f}}} = {k:.3f}\n",
    "$$\n",
    "### Darasu folgt aus der Tabelle (MEII-Skript 2023 S.31) folgnedes Wert für $a_3$ ={a_31}\n",
    "\n",
    "### Mit der Annahme von hochste Sauberkeit wird a3-Lebensdauer von dem Diagramm im Lagerkatalog abgelesen\n",
    "\n",
    "$$\n",
    "\\Large\n",
    "L_{{3m.s.f}} = a_{{1}} \\cdot a_{{2}} \\cdot a_{{3.1}} \\cdot L_{{10h.s.l}}\n",
    "= {a_1} \\cdot {a_2} \\cdot {a_31} \\cdot {L_10h_sf:.3f} = {L_3m_s_f:.3f} \\\\ hr\n",
    "$$\n",
    "$$\n",
    "\\Large\n",
    "L_{{3m.d.f}} = a_{{1}} \\cdot a_{{2}} \\cdot a_{{3.1}} \\cdot L_{{10h.d.f}}\n",
    "= {a_1} \\cdot {a_2} \\cdot {a_31} \\cdot {L_10h_df:.3f} = {L_3m_d_f:.3f} \\\\ hr\n",
    "$$\n",
    "\n",
    "\n",
    "\"\"\"))"
   ]
  }
 ],
 "metadata": {
  "kernelspec": {
   "display_name": "base",
   "language": "python",
   "name": "python3"
  },
  "language_info": {
   "codemirror_mode": {
    "name": "ipython",
    "version": 3
   },
   "file_extension": ".py",
   "mimetype": "text/x-python",
   "name": "python",
   "nbconvert_exporter": "python",
   "pygments_lexer": "ipython3",
   "version": "3.9.12"
  }
 },
 "nbformat": 4,
 "nbformat_minor": 2
}
