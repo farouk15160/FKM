{
 "cells": [
  {
   "cell_type": "code",
   "execution_count": 1,
   "metadata": {},
   "outputs": [],
   "source": [
    "from IPython.display import display, Markdown , HTML\n",
    "import math\n",
    "import numpy\n"
   ]
  },
  {
   "cell_type": "code",
   "execution_count": 2,
   "metadata": {},
   "outputs": [
    {
     "data": {
      "text/markdown": [
       "\n",
       "# Auswahl der Festlager\n",
       "\n",
       "## Der Festlager wird hier als Vierreihige Zylinderrollenlager (Kurzzeichen BC4-8021/HB1) ausgewählt.\n",
       "$$\n",
       "\\\\\\\n",
       "\\\\\\\n",
       "\\\\\\\n",
       "\\\\\\\n",
       "$$\n",
       "\n"
      ],
      "text/plain": [
       "<IPython.core.display.Markdown object>"
      ]
     },
     "metadata": {},
     "output_type": "display_data"
    },
    {
     "data": {
      "text/markdown": [
       "![Filzringe](Zylinderrollenlager.png)"
      ],
      "text/plain": [
       "<IPython.core.display.Markdown object>"
      ]
     },
     "metadata": {},
     "output_type": "display_data"
    },
    {
     "data": {
      "text/markdown": [
       "\n",
       "\n",
       "$$\n",
       "\\\\\\\n",
       "\\\\\\\n",
       "\\\\\\\n",
       "\\\\\\\n",
       "$$\n",
       "\n",
       "\n",
       "\n",
       "### Vierreihige Zylinderrollenlager sind zur Aufnahme sehr hoher Radiallasten bei mittleren bis hohen Drehzahlen vorgesehen. Das SKF Grundsortiment enthält viele Ausführungen und Varianten, z.B. Lager mit Käfig und vollrollige Lager. Je nach Konfiguration der Außen- und Innenringe werden die Lager als Loslager- und als Festlagerausführung angeboten.\n",
       "### - Außergewöhnlich hohe radiale Tragfähigkeit\n",
       "### - Reibungsarm\n",
       "### - Lange Gebrauchsdauer\n",
       "### - Niedrige Querschnittshöhe\n",
       "\n",
       "$$\n",
       "\\\\\\\n",
       "\\\\\\\n",
       "\\\\\\\n",
       "\\\\\\\n",
       "\\\\\\\n",
       "$$\n",
       "                 \n"
      ],
      "text/plain": [
       "<IPython.core.display.Markdown object>"
      ]
     },
     "metadata": {},
     "output_type": "display_data"
    }
   ],
   "source": [
    "d_scheibe = 250 # mm\n",
    "v_seil=20000 # mm/min\n",
    "# n=v_seil/(d_scheibe * math.pi)\n",
    "n=20\n",
    "Nmax=10\n",
    "Qmax=8620 #KN\n",
    "D_a_f=1180\n",
    "D_i_f=850\n",
    "D_mf=(D_a_f+D_i_f)/2\n",
    "Aa=Nmax\n",
    "Ar=Qmax # KN\n",
    "\n",
    "p=10/3\n",
    "display(Markdown(f\"\"\"\n",
    "# Auswahl der Festlager\n",
    "\n",
    "## Der Festlager wird hier als Vierreihige Zylinderrollenlager (Kurzzeichen BC4-8021/HB1) ausgewählt.\n",
    "$$\n",
    "\\\\\\\\\\\\\n",
    "\\\\\\\\\\\\\n",
    "\\\\\\\\\\\\\n",
    "\\\\\\\\\\\\\n",
    "$$\n",
    "\n",
    "\"\"\"))\n",
    "display(Markdown(\"![Filzringe](Zylinderrollenlager.png)\"))\n",
    "\n",
    "\n",
    "display(Markdown(f\"\"\"\n",
    "\n",
    "$$\n",
    "\\\\\\\\\\\\\n",
    "\\\\\\\\\\\\\n",
    "\\\\\\\\\\\\\n",
    "\\\\\\\\\\\\\n",
    "$$\n",
    "\n",
    "\n",
    "\n",
    "### Vierreihige Zylinderrollenlager sind zur Aufnahme sehr hoher Radiallasten bei mittleren bis hohen Drehzahlen vorgesehen. Das SKF Grundsortiment enthält viele Ausführungen und Varianten, z.B. Lager mit Käfig und vollrollige Lager. Je nach Konfiguration der Außen- und Innenringe werden die Lager als Loslager- und als Festlagerausführung angeboten.\n",
    "### - Außergewöhnlich hohe radiale Tragfähigkeit\n",
    "### - Reibungsarm\n",
    "### - Lange Gebrauchsdauer\n",
    "### - Niedrige Querschnittshöhe\n",
    "\n",
    "$$\n",
    "\\\\\\\\\\\\\n",
    "\\\\\\\\\\\\\n",
    "\\\\\\\\\\\\\n",
    "\\\\\\\\\\\\\n",
    "\\\\\\\\\\\\\n",
    "$$\n",
    "                 \n",
    "\"\"\"))\n"
   ]
  },
  {
   "cell_type": "code",
   "execution_count": null,
   "metadata": {},
   "outputs": [],
   "source": []
  },
  {
   "cell_type": "code",
   "execution_count": 3,
   "metadata": {},
   "outputs": [
    {
     "data": {
      "text/markdown": [
       "             \n",
       "## Übersicht\n",
       "\n",
       "### Abmessungen\n",
       "\n",
       "| Merkmal            | Wert   |\n",
       "|--------------------|--------|\n",
       "| Bohrungsdurchmesser| 850 mm |\n",
       "| Außendurchmesser  | 1 180 mm |\n",
       "| Breite             | 850 mm |\n",
       "\n",
       "### Leistung\n",
       "\n",
       "| Merkmal               | Wert   |\n",
       "|-----------------------|--------|\n",
       "| Dynamische Tragzahl   | 28 100 kN |\n",
       "| Statische Tragzahl    | 73 500 kN |\n",
       "| Referenzdrehzahl      | 300 r/min |\n",
       "| Grenzdrehzahl         | 450 r/min |\n",
       "\n",
       "### Eigenschaften\n",
       "\n",
       "| Merkmal                            | Wert             |\n",
       "|------------------------------------|------------------|\n",
       "| Lagerteil                          | Komplettlager    |\n",
       "| Anzahl der Reihen                  | 4                |\n",
       "| Befestigungsfunktion, Lageraußenring | Kein(e/r)      |\n",
       "| Bohrungstyp                        | Zylindrisch      |\n",
       "| Anzahl der Borde, Außenring        | 5                |\n",
       "| Anzahl der Borde, Innenring        | 0                |\n",
       "| Loser Bord                         | Loser Bord Außenring |\n",
       "| Radiale Lagerluft                  | C4               |\n",
       "| Beschichtung                       | Ohne             |\n",
       "| Dichtung                           | Ohne             |\n",
       "| Schmierstoff                       | Kein(e/r)        |\n",
       "| Nachschmierfunktion                | Für              |\n",
       "\n",
       "\n"
      ],
      "text/plain": [
       "<IPython.core.display.Markdown object>"
      ]
     },
     "metadata": {},
     "output_type": "display_data"
    }
   ],
   "source": [
    "display(Markdown(\"\"\"             \n",
    "## Übersicht\n",
    "\n",
    "### Abmessungen\n",
    "\n",
    "| Merkmal            | Wert   |\n",
    "|--------------------|--------|\n",
    "| Bohrungsdurchmesser| 850 mm |\n",
    "| Außendurchmesser  | 1 180 mm |\n",
    "| Breite             | 850 mm |\n",
    "\n",
    "### Leistung\n",
    "\n",
    "| Merkmal               | Wert   |\n",
    "|-----------------------|--------|\n",
    "| Dynamische Tragzahl   | 28 100 kN |\n",
    "| Statische Tragzahl    | 73 500 kN |\n",
    "| Referenzdrehzahl      | 300 r/min |\n",
    "| Grenzdrehzahl         | 450 r/min |\n",
    "\n",
    "### Eigenschaften\n",
    "\n",
    "| Merkmal                            | Wert             |\n",
    "|------------------------------------|------------------|\n",
    "| Lagerteil                          | Komplettlager    |\n",
    "| Anzahl der Reihen                  | 4                |\n",
    "| Befestigungsfunktion, Lageraußenring | Kein(e/r)      |\n",
    "| Bohrungstyp                        | Zylindrisch      |\n",
    "| Anzahl der Borde, Außenring        | 5                |\n",
    "| Anzahl der Borde, Innenring        | 0                |\n",
    "| Loser Bord                         | Loser Bord Außenring |\n",
    "| Radiale Lagerluft                  | C4               |\n",
    "| Beschichtung                       | Ohne             |\n",
    "| Dichtung                           | Ohne             |\n",
    "| Schmierstoff                       | Kein(e/r)        |\n",
    "| Nachschmierfunktion                | Für              |\n",
    "\n",
    "\n",
    "\"\"\"))"
   ]
  },
  {
   "cell_type": "code",
   "execution_count": 4,
   "metadata": {},
   "outputs": [
    {
     "data": {
      "text/markdown": [
       " \n",
       "## Schmierung der Wälzlager\n",
       "### Die Schmierung soll eine unmittelbare metallische Berührung zwischen Wälzkörpern, Lagerringen und Käfig verhindern und deren Oberflächen vor Verschleiß und Korrosion schützen. Voraussetzung hierfür ist, dass bei allen Betriebszuständen die Funktionsflächen stets ausreichend Schmierstoff erhalten. Die Wirksamkeit der Schmierung beeinflusst wesentlich die Gebrauchsdauer der Wälzlager\n",
       "### Wälzlager können mit Schmierfett, Öl oder Festschmierstoff (Sonderfälle) geschmiert werden.Die Art der Schmierung und des Schmiermittels richtet sich wesentlich nach der Höhe der Beanspruchung der Drehzahl und der Betriebstemperatur des Lagers\n",
       "### Vor dem Entwurf einer Lagerung muss die Schmierungsart entschieden werden, da die Gestaltung der Gehäuse, insbesondere die Schmiermittelzufuhr, von der Art des Schmiermittels, der Lagerabdichtung und den Nachschmierfristen abhängt.\n",
       "### Auswahlkriterium ist zunächst der Drehzahlkennwert  $$ n  \\cdot  d_{m} \\ in  \\ 10^6 \\ \\ \\frac{mm}{min} $$ mit der Betriebsdrehzahl n und dem mittleren Lagerdurchmesser  \n",
       "$$ \n",
       "\\Large \n",
       "d_{m} =\\frac{(D+ d)}{2}=  \\frac{(1180+ 850)}{2}=  1015.0 \\ mm\n",
       "$$ \n",
       "\n",
       "## Drehzahlkennwert:\n",
       "\n",
       "$$ \n",
       "\\Large \n",
       "n \\cdot d_{m} =20 \\ min^-1 \\cdot 1015.0 \\ mm =20300.0 \\ mm \\cdot min^-1 < 10^6\n",
       "$$ \n",
       "\n",
       "\n",
       "\n",
       " "
      ],
      "text/plain": [
       "<IPython.core.display.Markdown object>"
      ]
     },
     "metadata": {},
     "output_type": "display_data"
    }
   ],
   "source": [
    "\n",
    "display(Markdown(f\"\"\" \n",
    "## Schmierung der Wälzlager\n",
    "### Die Schmierung soll eine unmittelbare metallische Berührung zwischen Wälzkörpern, Lagerringen und Käfig verhindern und deren Oberflächen vor Verschleiß und Korrosion schützen. Voraussetzung hierfür ist, dass bei allen Betriebszuständen die Funktionsflächen stets ausreichend Schmierstoff erhalten. Die Wirksamkeit der Schmierung beeinflusst wesentlich die Gebrauchsdauer der Wälzlager\n",
    "### Wälzlager können mit Schmierfett, Öl oder Festschmierstoff (Sonderfälle) geschmiert werden.Die Art der Schmierung und des Schmiermittels richtet sich wesentlich nach der Höhe der Beanspruchung der Drehzahl und der Betriebstemperatur des Lagers\n",
    "### Vor dem Entwurf einer Lagerung muss die Schmierungsart entschieden werden, da die Gestaltung der Gehäuse, insbesondere die Schmiermittelzufuhr, von der Art des Schmiermittels, der Lagerabdichtung und den Nachschmierfristen abhängt.\n",
    "### Auswahlkriterium ist zunächst der Drehzahlkennwert  $$ n  \\cdot  d_{{m}} \\\\ in  \\\\ 10^6 \\\\ \\\\ \\\\frac{{mm}}{{min}} $$ mit der Betriebsdrehzahl n und dem mittleren Lagerdurchmesser  \n",
    "$$ \n",
    "\\Large \n",
    "d_{{m}} =\\\\frac{{(D+ d)}}{{2}}=  \\\\frac{{({D_a_f}+ {D_i_f})}}{{2}}=  {D_mf} \\\\ mm\n",
    "$$ \n",
    "\n",
    "## Drehzahlkennwert:\n",
    "\n",
    "$$ \n",
    "\\Large \n",
    "n \\cdot d_{{m}} ={n} \\\\ min^-1 \\cdot {D_mf} \\\\ mm ={n*D_mf} \\\\ mm \\cdot min^-1 < 10^6\n",
    "$$ \n",
    "\n",
    "\n",
    "\n",
    " \"\"\"))\n"
   ]
  },
  {
   "cell_type": "code",
   "execution_count": 5,
   "metadata": {},
   "outputs": [
    {
     "data": {
      "text/markdown": [
       "\n",
       "##  Fettschmierung\n",
       "### Die Fettschmierung wird bei Drehzahlkennwerten n \n",
       "$$ \n",
       "\\Large \n",
       "d_{m} \\cdot n = 20300.0 \\  < 0;5 \\cdot 10^6 mm/min\n",
       "$$ \n",
       "\n",
       "### bevorzugt. Sie erfordert eine geringe Wartung und schützt meist ausreichend gegen Verschmutzung, so dass einfache und billige Lagerabdichtungen gestaltbar sind.\n",
       "\n",
       "$$\n",
       "\\\\\\\n",
       "\\\\\\\n",
       "\\\\\\\n",
       "$$\n",
       "![Filzringe](Schmierfette.png)\n",
       "$$\n",
       "\\\\\\\n",
       "\\\\\\\n",
       "\\\\\\\n",
       "$$\n",
       "\n",
       "### Zur Schmierung von unserem Wälzlagern wird Lithiumseifenfette angewendet. Die Wahl der Fettsorte erfolgt nach der Gebrauchstemperatur,dem Verhalten gegen Feuchtigkeit\n",
       "#### Lithiumseifenfette: GT (-40) -20 ... +130 (170) C, gegen Wasser bis 90 C beständig\n"
      ],
      "text/plain": [
       "<IPython.core.display.Markdown object>"
      ]
     },
     "metadata": {},
     "output_type": "display_data"
    }
   ],
   "source": [
    "display(Markdown(f\"\"\"\n",
    "##  Fettschmierung\n",
    "### Die Fettschmierung wird bei Drehzahlkennwerten n \n",
    "$$ \n",
    "\\Large \n",
    "d_{{m}} \\cdot n = {D_mf*n} \\\\  < 0;5 \\cdot 10^6 mm/min\n",
    "$$ \n",
    "\n",
    "### bevorzugt. Sie erfordert eine geringe Wartung und schützt meist ausreichend gegen Verschmutzung, so dass einfache und billige Lagerabdichtungen gestaltbar sind.\n",
    "\n",
    "$$\n",
    "\\\\\\\\\\\\\n",
    "\\\\\\\\\\\\\n",
    "\\\\\\\\\\\\\n",
    "$$\n",
    "![Filzringe](Schmierfette.png)\n",
    "$$\n",
    "\\\\\\\\\\\\\n",
    "\\\\\\\\\\\\\n",
    "\\\\\\\\\\\\\n",
    "$$\n",
    "\n",
    "### Zur Schmierung von unserem Wälzlagern wird Lithiumseifenfette angewendet. Die Wahl der Fettsorte erfolgt nach der Gebrauchstemperatur,dem Verhalten gegen Feuchtigkeit\n",
    "#### Lithiumseifenfette: GT (-40) -20 ... +130 (170) C, gegen Wasser bis 90 C beständig\n",
    "\"\"\"))"
   ]
  },
  {
   "cell_type": "code",
   "execution_count": 6,
   "metadata": {},
   "outputs": [
    {
     "data": {
      "text/markdown": [
       "\n",
       "\n",
       "## Lagerabdichtungen\n",
       "### Die Betriebssicherheit und die Gebrauchsdauer von Wälzlagerungen hängen sehr von der Wirksamkeit des Abdichtens gegen das Eindringen von Schmutz und Feuchtigkeit und gegen einen Verlust des Schmiermittels ab. Fremdkörper, die in das Lager eindringen, führen beim berrollen an den Rollkörpern und Laufbahnen zu Eindrückungen und als Folge zu erhöhten Laufgeräuschen und zu einer geminderten Gebrauchsdauer. Schmirgelnde Verunreinigungen dagegen führen zum Verschleiß, wodurch sich das Lagerspiel vergrößert. Dies mindert die Laufgenauigkeit und damit die Funktion des Lagers. Eindringendes Wasser, Dämpfe und ätzende Flüssigkeiten setzen die Wirksamkeit des Schmiermittels herab bzw. heben sie völlig auf und greifen korrodierend die Rollkörper und Laufbahnen an. Eine Abdichtung gegen diese Einflüsse ist deshalb notwendig, wobei die Art der Abdichtung von den äußeren Betriebsbedingungen (Schmutzanfall, Feuchtigkeit, ätzende Medien), der geforderten Lebensdauer und der Funktion sowie der Drehzahl des Lagers abhängig ist.\n",
       "\n",
       "\n",
       "### Für die Abdichtubng : Filzringdichtungen\n",
       "### Filzringe sind einfache Dichtungselemente bei Fettschmierung\n",
       "\n",
       "### Filzringe sind einfache Dichtungselemente, die sich vor allem bei Fettschmierung bewähren . Der Filz bildet nach kurzer Laufzeit eine vorspannungsfrei anliegende Dichtfläche mit sehr guter Dichtwirkung gegen Staub. Die Ringe werden vor dem Einbau mit Öl getränkt.\n",
       "### Betriebstemperaturen bis +100 °C sind möglich. Bei höheren Temperaturen sind Dichtringe aus gewickelten Garnen erforderlich, die aus PTFE-, Graphit- oder Aramid- und Glasfasern bestehen und mit PTFE oder Graphit imprägniert sind.\n",
       "\n",
       "$$\n",
       "\\\\\\\n",
       "\\\\\\\n",
       "\\\\\\\n",
       "\\\\\\\n",
       "\\\\\\\n",
       "\\\\\\\n",
       "\\\\\\\n",
       "\\\\\\\n",
       "\\\\\\\n",
       "\\\\\\\n",
       "$$\n",
       "![Filzringe](Abdichtung_der_Lagerstelle.png)\n",
       "\n",
       "$$\n",
       "\\\\\\\n",
       "\\\\\\\n",
       "\\\\\\\n",
       "\\\\\\\n",
       "\\\\\\\n",
       "\\\\\\\n",
       "\\\\\\\n",
       "\\\\\\\n",
       "\\\\\\\n",
       "\\\\\\\n",
       "$$                 \n",
       "                 \n"
      ],
      "text/plain": [
       "<IPython.core.display.Markdown object>"
      ]
     },
     "metadata": {},
     "output_type": "display_data"
    }
   ],
   "source": [
    "display(Markdown(f\"\"\"\n",
    "\n",
    "## Lagerabdichtungen\n",
    "### Die Betriebssicherheit und die Gebrauchsdauer von Wälzlagerungen hängen sehr von der Wirksamkeit des Abdichtens gegen das Eindringen von Schmutz und Feuchtigkeit und gegen einen Verlust des Schmiermittels ab. Fremdkörper, die in das Lager eindringen, führen beim berrollen an den Rollkörpern und Laufbahnen zu Eindrückungen und als Folge zu erhöhten Laufgeräuschen und zu einer geminderten Gebrauchsdauer. Schmirgelnde Verunreinigungen dagegen führen zum Verschleiß, wodurch sich das Lagerspiel vergrößert. Dies mindert die Laufgenauigkeit und damit die Funktion des Lagers. Eindringendes Wasser, Dämpfe und ätzende Flüssigkeiten setzen die Wirksamkeit des Schmiermittels herab bzw. heben sie völlig auf und greifen korrodierend die Rollkörper und Laufbahnen an. Eine Abdichtung gegen diese Einflüsse ist deshalb notwendig, wobei die Art der Abdichtung von den äußeren Betriebsbedingungen (Schmutzanfall, Feuchtigkeit, ätzende Medien), der geforderten Lebensdauer und der Funktion sowie der Drehzahl des Lagers abhängig ist.\n",
    "\n",
    "\n",
    "### Für die Abdichtubng : Filzringdichtungen\n",
    "### Filzringe sind einfache Dichtungselemente bei Fettschmierung\n",
    "\n",
    "### Filzringe sind einfache Dichtungselemente, die sich vor allem bei Fettschmierung bewähren . Der Filz bildet nach kurzer Laufzeit eine vorspannungsfrei anliegende Dichtfläche mit sehr guter Dichtwirkung gegen Staub. Die Ringe werden vor dem Einbau mit Öl getränkt.\n",
    "### Betriebstemperaturen bis +100 °C sind möglich. Bei höheren Temperaturen sind Dichtringe aus gewickelten Garnen erforderlich, die aus PTFE-, Graphit- oder Aramid- und Glasfasern bestehen und mit PTFE oder Graphit imprägniert sind.\n",
    "\n",
    "$$\n",
    "\\\\\\\\\\\\\n",
    "\\\\\\\\\\\\\n",
    "\\\\\\\\\\\\\n",
    "\\\\\\\\\\\\\n",
    "\\\\\\\\\\\\\n",
    "\\\\\\\\\\\\\n",
    "\\\\\\\\\\\\\n",
    "\\\\\\\\\\\\\n",
    "\\\\\\\\\\\\\n",
    "\\\\\\\\\\\\\n",
    "$$\n",
    "![Filzringe](Abdichtung_der_Lagerstelle.png)\n",
    "\n",
    "$$\n",
    "\\\\\\\\\\\\\n",
    "\\\\\\\\\\\\\n",
    "\\\\\\\\\\\\\n",
    "\\\\\\\\\\\\\n",
    "\\\\\\\\\\\\\n",
    "\\\\\\\\\\\\\n",
    "\\\\\\\\\\\\\n",
    "\\\\\\\\\\\\\n",
    "\\\\\\\\\\\\\n",
    "\\\\\\\\\\\\\n",
    "$$                 \n",
    "                 \n",
    "\"\"\"))"
   ]
  },
  {
   "cell_type": "code",
   "execution_count": 7,
   "metadata": {},
   "outputs": [
    {
     "data": {
      "text/markdown": [
       "\n",
       "                 \n",
       "### Radialfaktor X und Axialfaktor Y  ergeben sich aus TB 14-3a bzw. WLK (Roloff /Matek Maschinenelemente)\n",
       "### $$ F_{a}  = 10 \\ KN $$\n",
       "### $$ F_{r} = 8620 \\ KN $$\n",
       "### Folgt daraus $$ \\frac {F_{a}}{F_{r}} = 0.001 $$\n",
       "### Da das wir ein Zylinderrollenlager haben  ( e = 0.2 ) und $$ \\frac {F_{a}}{F_{r}} = 0.001  < e $$ , wird Radialfaktor X = 1 und Axialfaktor Y = 0 sein\n",
       "$$\n",
       "\\\\\\\n",
       "\\\\\\\n",
       "\\\\\\\n",
       "\\\\\\\n",
       "$$\n"
      ],
      "text/plain": [
       "<IPython.core.display.Markdown object>"
      ]
     },
     "metadata": {},
     "output_type": "display_data"
    }
   ],
   "source": [
    "X=1\n",
    "Y=0\n",
    "P_a =X*Ar + Y* Aa\n",
    "faktor=Nmax/Qmax\n",
    "display(Markdown(f\"\"\"\n",
    "                 \n",
    "### Radialfaktor X und Axialfaktor Y  ergeben sich aus TB 14-3a bzw. WLK (Roloff /Matek Maschinenelemente)\n",
    "### $$ F_{{a}}  = {Nmax} \\\\ KN $$\n",
    "### $$ F_{{r}} = {Qmax} \\\\ KN $$\n",
    "### Folgt daraus $$ \\\\frac {{F_{{a}}}}{{F_{{r}}}} = {faktor:.3f} $$\n",
    "### Da das wir ein Zylinderrollenlager haben  ( e = 0.2 ) und $$ \\\\frac {{F_{{a}}}}{{F_{{r}}}} = {faktor:.3f}  < e $$ , wird Radialfaktor X = {X} und Axialfaktor Y = {Y} sein\n",
    "$$\n",
    "\\\\\\\\\\\\\n",
    "\\\\\\\\\\\\\n",
    "\\\\\\\\\\\\\n",
    "\\\\\\\\\\\\\n",
    "$$\n",
    "\"\"\"))"
   ]
  },
  {
   "cell_type": "code",
   "execution_count": 8,
   "metadata": {},
   "outputs": [
    {
     "data": {
      "text/markdown": [
       "\n",
       "                 \n",
       "### Äußer Durchmesser $$D_{a.f} = 1180 \\ mm $$\n",
       "### Innere Durchmesser $$D_{i.f} = 850 \\ mm $$\n",
       "\n",
       "### $$A_{a} = N_{max} = 10 \\ KN$$\n",
       "### $$A_{r} = Q_{max} = 8620 \\ KN$$\n",
       "\n",
       "\n",
       "### Drehzahl bestimmen:\n",
       "\n",
       "$$\n",
       "\\Large\n",
       "n=20.000 \\ min^-1\n",
       "$$\n",
       "\n",
       "\n",
       "### Die dynamische äquivalente Belastung P ist ein rechnerischer Wert, \n",
       "### der in Größe und Richtung konstante Radiallast oder Axiallast, Hier gibt es nur eine Radiallast\n",
       "$\\large X=1 \\ \\ \\ $   $Y=0$\n",
       "\n",
       "$$\n",
       "\\Large\n",
       "P_{A}= X \\cdot A_{r} + Y \\cdot A_{a} =  1\\cdot 8620 + 0 \\cdot 10 = 8620 \\ KN\n",
       "$$\n"
      ],
      "text/plain": [
       "<IPython.core.display.Markdown object>"
      ]
     },
     "metadata": {},
     "output_type": "display_data"
    }
   ],
   "source": [
    "display(Markdown(f\"\"\"\n",
    "                 \n",
    "### Äußer Durchmesser $$D_{{a.f}} = {D_a_f} \\\\ mm $$\n",
    "### Innere Durchmesser $$D_{{i.f}} = {D_i_f} \\\\ mm $$\n",
    "\n",
    "### $$A_{{a}} = N_{{max}} = {Nmax} \\\\ KN$$\n",
    "### $$A_{{r}} = Q_{{max}} = {Qmax} \\\\ KN$$\n",
    "\n",
    "\n",
    "### Drehzahl bestimmen:\n",
    "\n",
    "$$\n",
    "\\Large\n",
    "n={n:.3f} \\\\ min^-1\n",
    "$$\n",
    "\n",
    "\n",
    "### Die dynamische äquivalente Belastung P ist ein rechnerischer Wert, \n",
    "### der in Größe und Richtung konstante Radiallast oder Axiallast, Hier gibt es nur eine Radiallast\n",
    "$\\large X={X} \\\\ \\\\ \\\\ $   $Y={Y}$\n",
    "\n",
    "$$\n",
    "\\Large\n",
    "P_{{A}}= X \\cdot A_{{r}} + Y \\cdot A_{{a}} =  {X }\\cdot {Ar} + {Y} \\cdot {Aa} = {P_a} \\\\ KN\n",
    "$$\n",
    "\"\"\"))\n"
   ]
  },
  {
   "cell_type": "code",
   "execution_count": 9,
   "metadata": {},
   "outputs": [
    {
     "data": {
      "text/markdown": [
       "\n",
       "# Lebensdauerexponent für Rollenlager\n",
       "                 \n",
       "### $C_{r.f}=28100$ KN dynamische Tragzahlen\n",
       "### $C_{0r.f}=73500$ KN statische Tragzahlen\n",
       "\n",
       "$$\n",
       "\\Large\n",
       "L_{10.h_{d.f}}=\\frac{16666}{n}\\cdot (\\frac{C_{rfl}}{P_{A}})^P = \n",
       "\\frac{16666}{20.000 \\ min^-1}\\cdot (\\frac{28100 \\ KN }{8620 \\ KN})^3.3 = 42802.082 \\ hr\n",
       "$$\n"
      ],
      "text/plain": [
       "<IPython.core.display.Markdown object>"
      ]
     },
     "metadata": {},
     "output_type": "display_data"
    }
   ],
   "source": [
    "C_rf=28100  # KN\n",
    "C0_rf=73500 # KN Statisch\n",
    "L_10h_df=((16666/n)*math.pow(C_rf/P_a , p))\n",
    "display(Markdown(f\"\"\"\n",
    "# Lebensdauerexponent für Rollenlager\n",
    "                 \n",
    "### $C_{{r.f}}={C_rf}$ KN dynamische Tragzahlen\n",
    "### $C_{{0r.f}}={C0_rf}$ KN statische Tragzahlen\n",
    "\n",
    "$$\n",
    "\\Large\n",
    "L_{{10.h_{{d.f}}}}=\\\\frac{{16666}}{{n}}\\cdot (\\\\frac{{C_{{rfl}}}}{{P_{{A}}}})^P = \n",
    "\\\\frac{{16666}}{{{n:.3f} \\\\ min^-1}}\\cdot (\\\\frac{{{C_rf} \\\\ KN }}{{{P_a} \\\\ KN}})^{p:.1f} = {L_10h_df:.3f} \\\\ hr\n",
    "$$\n",
    "\"\"\"))"
   ]
  },
  {
   "cell_type": "code",
   "execution_count": 10,
   "metadata": {},
   "outputs": [
    {
     "data": {
      "text/markdown": [
       "\n",
       "$$\n",
       "\\Large\n",
       "L_{10.h_{s.f}}=\\frac{16666}{n}\\cdot (\\frac{C_{0.r.f}}{P_{A}})^P = \n",
       "\\frac{16666}{20.00 \\ min^-1}\\cdot (\\frac{73500 \\ N }{8620 \\ N})^3.3 = 1055362.421 \\ hr\n",
       "$$\n"
      ],
      "text/plain": [
       "<IPython.core.display.Markdown object>"
      ]
     },
     "metadata": {},
     "output_type": "display_data"
    }
   ],
   "source": [
    "\n",
    "L_10h_sf=((16666/n)*math.pow(C0_rf/P_a , p))\n",
    "display(Markdown(f\"\"\"\n",
    "$$\n",
    "\\Large\n",
    "L_{{10.h_{{s.f}}}}=\\\\frac{{16666}}{{n}}\\cdot (\\\\frac{{C_{{0.r.f}}}}{{P_{{A}}}})^P = \n",
    "\\\\frac{{16666}}{{{n:.2f} \\\\ min^-1}}\\cdot (\\\\frac{{{C0_rf} \\\\ N }}{{{P_a} \\\\ N}})^{p:.1f} = {L_10h_sf:.3f} \\\\ hr\n",
    "$$\n",
    "\"\"\"))"
   ]
  },
  {
   "cell_type": "code",
   "execution_count": 11,
   "metadata": {},
   "outputs": [
    {
     "data": {
      "text/markdown": [
       "\n",
       "\n",
       "## Modifizierter Lebensdauer Berechnung:\n",
       "### Lebensdauerbeiwert für eine Erlebneswahrscheinlichkeit von 97% ,$a_{1}=0.47$, damit 97% Überlebenswharscheinlichekit gewähreistet wird (Tabelle von Lagerkatalog S.XX). Lebensdauerbeiwert für Standard-WälzlagerStahl: Der Lebensdauerbeiwert ist für normale Lagerwerkstoff mit $a_{2} = 1$ zu Wählen\n",
       "### Lebensdauerbeiwert für besondere Betriebsbedingungen : $a_{3}$\n",
       "\n",
       "\n",
       "### Mittlere Durchmesser des Lagers:\n",
       "\n",
       "$$\n",
       "\\Large\n",
       "D_{m.f}=\\frac{D_{a.f} + D_{i.f} }{2} = \\frac{1180 \\ mm + 850 \\ mm}{2} = 1015.0 \\ mm\n",
       "$$\n",
       "\n"
      ],
      "text/plain": [
       "<IPython.core.display.Markdown object>"
      ]
     },
     "metadata": {},
     "output_type": "display_data"
    }
   ],
   "source": [
    "a_1=0.47\n",
    "a_2=1\n",
    "D_mf=(D_a_f+D_i_f)/2\n",
    "display(Markdown(f\"\"\"\n",
    "\n",
    "## Modifizierter Lebensdauer Berechnung:\n",
    "### Lebensdauerbeiwert für eine Erlebneswahrscheinlichkeit von 97% ,$a_{{1}}={a_1}$, damit 97% Überlebenswharscheinlichekit gewähreistet wird (Tabelle von Lagerkatalog S.XX). Lebensdauerbeiwert für Standard-WälzlagerStahl: Der Lebensdauerbeiwert ist für normale Lagerwerkstoff mit $a_{{2}} = {a_2}$ zu Wählen\n",
    "### Lebensdauerbeiwert für besondere Betriebsbedingungen : $a_{{3}}$\n",
    "\n",
    "\n",
    "### Mittlere Durchmesser des Lagers:\n",
    "\n",
    "$$\n",
    "\\Large\n",
    "D_{{m.f}}=\\\\frac{{D_{{a.f}} + D_{{i.f}} }}{{2}} = \\\\frac{{{D_a_f} \\\\ mm + {D_i_f} \\\\ mm}}{{2}} = {D_mf} \\\\ mm\n",
    "$$\n",
    "\n",
    "\"\"\"))"
   ]
  },
  {
   "cell_type": "code",
   "execution_count": 13,
   "metadata": {},
   "outputs": [
    {
     "data": {
      "text/markdown": [
       "\n",
       "## Bezugsviskosität\n",
       "\n",
       "### Bezugsviskosität $v_{1.f}$ bei $n=20.000 \\ \\frac{1}{min}$ wird aus dem Diagramm (Skript ME II S.32 ) abgelesen:\n",
       "\n",
       "$$\n",
       "\\Large\n",
       "v_{1.f} = 190 \\ \\frac{mm^2}{s}\n",
       "$$\n",
       "\n",
       "### Und die Betriebsviskosität bei Betriebstemperatur 50 C beträgt:\n",
       "$$\n",
       "\\Large\n",
       "v_{f} = 110 \\ \\frac{mm^2}{s}\n",
       "$$\n",
       "\n",
       "### Die Viskositätsverhaltnis ist:\n",
       "\n",
       "$$\n",
       "\\Large\n",
       "k= \\frac{v_{f}}{v_{1.f}} = \\frac{110}{190} = 0.579\n",
       "$$\n",
       "\n",
       "### Mir der Annahme von hochste Sauberkeit wird a3-Lebensdauer von dem Diagramm im Lagerkatalog abgelesen\n",
       "\n",
       "$$\n",
       "\\Large\n",
       "L_{3m.s.f} = a_{1} \\cdot a_{2} \\cdot a_{3.1} \\cdot L_{10h.s.l}\n",
       "= 0.47 \\cdot 1 \\cdot 2 \\cdot 1055362.421 = 992040.676 \\ hr\n",
       "$$\n",
       "$$\n",
       "\\Large\n",
       "L_{3m.d.f} = a_{1} \\cdot a_{2} \\cdot a_{3.1} \\cdot L_{10h.d.f}\n",
       "= 0.47 \\cdot 1 \\cdot 2 \\cdot 42802.082 = 40233.957 \\ hr\n",
       "$$\n",
       "\n",
       "\n"
      ],
      "text/plain": [
       "<IPython.core.display.Markdown object>"
      ]
     },
     "metadata": {},
     "output_type": "display_data"
    }
   ],
   "source": [
    "v_1f=190 # mm*mm/s\n",
    "v_f=110 \n",
    "k=v_f/v_1f\n",
    "a_31=2\n",
    "L_3m_s_f=a_1*a_2*a_31*L_10h_sf\n",
    "L_3m_d_f=a_1*a_2*a_31*L_10h_df\n",
    "display(Markdown(f\"\"\"\n",
    "## Bezugsviskosität\n",
    "\n",
    "### Bezugsviskosität $v_{{1.f}}$ bei $n={n:.3f} \\\\ \\\\frac{{1}}{{min}}$ wird aus dem Diagramm (Skript ME II S.32 ) abgelesen:\n",
    "\n",
    "$$\n",
    "\\Large\n",
    "v_{{1.f}} = {v_1f} \\\\ \\\\frac{{mm^2}}{{s}}\n",
    "$$\n",
    "\n",
    "### Und die Betriebsviskosität bei Betriebstemperatur {50} C beträgt:\n",
    "$$\n",
    "\\Large\n",
    "v_{{f}} = {v_f} \\\\ \\\\frac{{mm^2}}{{s}}\n",
    "$$\n",
    "\n",
    "### Die Viskositätsverhaltnis ist:\n",
    "\n",
    "$$\n",
    "\\Large\n",
    "k= \\\\frac{{v_{{f}}}}{{v_{{1.f}}}} = \\\\frac{{{v_f}}}{{{v_1f}}} = {k:.3f}\n",
    "$$\n",
    "\n",
    "### Mir der Annahme von hochste Sauberkeit wird a3-Lebensdauer von dem Diagramm im Lagerkatalog abgelesen\n",
    "\n",
    "$$\n",
    "\\Large\n",
    "L_{{3m.s.f}} = a_{{1}} \\cdot a_{{2}} \\cdot a_{{3.1}} \\cdot L_{{10h.s.l}}\n",
    "= {a_1} \\cdot {a_2} \\cdot {a_31} \\cdot {L_10h_sf:.3f} = {L_3m_s_f:.3f} \\\\ hr\n",
    "$$\n",
    "$$\n",
    "\\Large\n",
    "L_{{3m.d.f}} = a_{{1}} \\cdot a_{{2}} \\cdot a_{{3.1}} \\cdot L_{{10h.d.f}}\n",
    "= {a_1} \\cdot {a_2} \\cdot {a_31} \\cdot {L_10h_df:.3f} = {L_3m_d_f:.3f} \\\\ hr\n",
    "$$\n",
    "\n",
    "\n",
    "\"\"\"))"
   ]
  }
 ],
 "metadata": {
  "kernelspec": {
   "display_name": "base",
   "language": "python",
   "name": "python3"
  },
  "language_info": {
   "codemirror_mode": {
    "name": "ipython",
    "version": 3
   },
   "file_extension": ".py",
   "mimetype": "text/x-python",
   "name": "python",
   "nbconvert_exporter": "python",
   "pygments_lexer": "ipython3",
   "version": "3.9.12"
  }
 },
 "nbformat": 4,
 "nbformat_minor": 2
}
