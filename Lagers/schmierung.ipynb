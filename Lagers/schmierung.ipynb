{
 "cells": [
  {
   "cell_type": "code",
   "execution_count": 16,
   "metadata": {},
   "outputs": [],
   "source": [
    "from IPython.display import display, Markdown , HTML\n",
    "import math\n",
    "import numpy\n",
    "n=20\n",
    "D_a_f=580\n",
    "D_i_f=340\n",
    "D_a_l=580\n",
    "D_i_l=340\n",
    "dml=(D_i_l+D_a_l)/2\n",
    "dmf=(D_i_f+D_a_f)/2"
   ]
  },
  {
   "cell_type": "code",
   "execution_count": 17,
   "metadata": {},
   "outputs": [
    {
     "data": {
      "text/markdown": [
       " \n",
       "## Schmierung der Wälzlager\n",
       "### Auswahlkriterium ist zunächst der Drehzahlkennwert  $$ n  \\cdot  d_{m} \\ in  \\ 10^6 \\ \\ \\frac{mm}{min} $$ mit der Betriebsdrehzahl n und dem mittleren Lagerdurchmesser  \n",
       "### (Aus Roloff /Matek Maschinenelemente)\n",
       "$$ \n",
       "\\Large\n",
       "\\text{für Festlager } \n",
       "d_{m} =\\frac{(D+ d)}{2}=  \\frac{(580+ 340)}{2}=  460.0 \\ mm\n",
       "$$ \n",
       "$$ \n",
       "\\Large\n",
       "\\text{für Loslager } \n",
       "d_{m} =\\frac{(D+ d)}{2}=  \\frac{(580+ 340)}{2}=  460.0 \\ mm\n",
       "$$ \n",
       "\n",
       "## Drehzahlkennwert:\n",
       "\n",
       "$$ \n",
       "\\Large\n",
       "\\text{für Festlager} \n",
       "n \\cdot d_{m} =20 \\ min^-1 \\cdot 460.0 \\ mm =9200.0 \\ mm \\cdot min^-1 < 10^6\n",
       "$$ \n",
       "$$ \n",
       "\\Large\n",
       "\\text{für Loslager} \n",
       "n \\cdot d_{m} =20 \\ min^-1 \\cdot 460.0 \\ mm =9200.0 \\ mm \\cdot min^-1 < 10^6\n",
       "$$ \n",
       "\n",
       "\n",
       "\n",
       " "
      ],
      "text/plain": [
       "<IPython.core.display.Markdown object>"
      ]
     },
     "metadata": {},
     "output_type": "display_data"
    }
   ],
   "source": [
    "\n",
    "display(Markdown(f\"\"\" \n",
    "## Schmierung der Wälzlager\n",
    "### Auswahlkriterium ist zunächst der Drehzahlkennwert  $$ n  \\cdot  d_{{m}} \\\\ in  \\\\ 10^6 \\\\ \\\\ \\\\frac{{mm}}{{min}} $$ mit der Betriebsdrehzahl n und dem mittleren Lagerdurchmesser  \n",
    "### (Aus Roloff /Matek Maschinenelemente)\n",
    "$$ \n",
    "\\Large\n",
    "\\\\text{{für Festlager }} \n",
    "d_{{m}} =\\\\frac{{(D+ d)}}{{2}}=  \\\\frac{{({D_a_f}+ {D_i_f})}}{{2}}=  {dmf} \\\\ mm\n",
    "$$ \n",
    "$$ \n",
    "\\Large\n",
    "\\\\text{{für Loslager }} \n",
    "d_{{m}} =\\\\frac{{(D+ d)}}{{2}}=  \\\\frac{{({D_a_l}+ {D_i_l})}}{{2}}=  {dml} \\\\ mm\n",
    "$$ \n",
    "\n",
    "## Drehzahlkennwert:\n",
    "\n",
    "$$ \n",
    "\\Large\n",
    "\\\\text{{für Festlager}} \n",
    "n \\cdot d_{{m}} ={n} \\\\ min^-1 \\cdot {dmf} \\\\ mm ={n*dmf} \\\\ mm \\cdot min^-1 < 10^6\n",
    "$$ \n",
    "$$ \n",
    "\\Large\n",
    "\\\\text{{für Loslager}} \n",
    "n \\cdot d_{{m}} ={n} \\\\ min^-1 \\cdot {dml} \\\\ mm ={n*dml} \\\\ mm \\cdot min^-1 < 10^6\n",
    "$$ \n",
    "\n",
    "\n",
    "\n",
    " \"\"\"))\n"
   ]
  },
  {
   "cell_type": "code",
   "execution_count": 18,
   "metadata": {},
   "outputs": [
    {
     "data": {
      "text/markdown": [
       "\n",
       "##  Fettschmierung\n",
       "### Die Fettschmierung wird bei Drehzahlkennwerten n \n",
       "$$ \n",
       "\\Large \n",
       "\\text{Festlager} \\\n",
       "d_{m} \\cdot n = 9200.0 \\  < 0;5 \\cdot 10^6 mm/min\n",
       "$$\n",
       "$$\n",
       "\\Large\n",
       "\\text{Loslager} \\\n",
       "d_{m} \\cdot n = 9200.0 \\  < 0;5 \\cdot 10^6 mm/min\n",
       "$$ \n",
       "\n",
       "### bevorzugt. Sie erfordert eine geringe Wartung und schützt meist ausreichend gegen Verschmutzung, so dass einfache und billige Lagerabdichtungen gestaltbar sind.\n",
       "\n",
       "$$\n",
       "\\\\\\\n",
       "\\\\\\\n",
       "\\\\\\\n",
       "$$\n",
       "![Filzringe](Schmierfette.png)\n",
       "$$\n",
       "Quelle: Roloff /Matek Maschinenelemente)\n",
       "\\\\\\\n",
       "\\\\\\\n",
       "\\\\\\\n",
       "$$\n",
       "\n",
       "### Zur Schmierung von unserem Wälzlagern wird Lithiumseifenfette angewendet. Die Wahl der Fettsorte erfolgt nach der Gebrauchstemperatur,dem Verhalten gegen Feuchtigkeit\n",
       "#### Lithiumseifenfette: GT (-40) -20 ... +130 (170) C, gegen Wasser bis 90 C beständig\n"
      ],
      "text/plain": [
       "<IPython.core.display.Markdown object>"
      ]
     },
     "metadata": {},
     "output_type": "display_data"
    }
   ],
   "source": [
    "display(Markdown(f\"\"\"\n",
    "##  Fettschmierung\n",
    "### Die Fettschmierung wird bei Drehzahlkennwerten n \n",
    "$$ \n",
    "\\Large \n",
    "\\\\text{{Festlager}} \\\\\n",
    "d_{{m}} \\cdot n = {dmf*n} \\\\  < 0;5 \\cdot 10^6 mm/min\n",
    "$$\n",
    "$$\n",
    "\\Large\n",
    "\\\\text{{Loslager}} \\\\\n",
    "d_{{m}} \\cdot n = {dml*n} \\\\  < 0;5 \\cdot 10^6 mm/min\n",
    "$$ \n",
    "\n",
    "### bevorzugt. Sie erfordert eine geringe Wartung und schützt meist ausreichend gegen Verschmutzung, so dass einfache und billige Lagerabdichtungen gestaltbar sind.\n",
    "\n",
    "$$\n",
    "\\\\\\\\\\\\\n",
    "\\\\\\\\\\\\\n",
    "\\\\\\\\\\\\\n",
    "$$\n",
    "![Filzringe](Schmierfette.png)\n",
    "$$\n",
    "Quelle: Roloff /Matek Maschinenelemente)\n",
    "\\\\\\\\\\\\\n",
    "\\\\\\\\\\\\\n",
    "\\\\\\\\\\\\\n",
    "$$\n",
    "\n",
    "### Zur Schmierung von unserem Wälzlagern wird Lithiumseifenfette angewendet. Die Wahl der Fettsorte erfolgt nach der Gebrauchstemperatur,dem Verhalten gegen Feuchtigkeit\n",
    "#### Lithiumseifenfette: GT (-40) -20 ... +130 (170) C, gegen Wasser bis 90 C beständig\n",
    "\"\"\"))"
   ]
  }
 ],
 "metadata": {
  "kernelspec": {
   "display_name": "base",
   "language": "python",
   "name": "python3"
  },
  "language_info": {
   "codemirror_mode": {
    "name": "ipython",
    "version": 3
   },
   "file_extension": ".py",
   "mimetype": "text/x-python",
   "name": "python",
   "nbconvert_exporter": "python",
   "pygments_lexer": "ipython3",
   "version": "3.9.12"
  }
 },
 "nbformat": 4,
 "nbformat_minor": 2
}
