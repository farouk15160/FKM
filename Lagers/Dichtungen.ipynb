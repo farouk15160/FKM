{
 "cells": [
  {
   "cell_type": "code",
   "execution_count": 2,
   "metadata": {},
   "outputs": [],
   "source": [
    "from IPython.display import display, Markdown , HTML\n",
    "import math\n",
    "import numpy\n"
   ]
  },
  {
   "cell_type": "code",
   "execution_count": 3,
   "metadata": {},
   "outputs": [
    {
     "data": {
      "text/markdown": [
       "\n",
       "\n",
       "## Lagerabdichtungen\n",
       "### Betriebssicherheit und Gebrauchsdauer von Wälzlagern hängen stark von der Wirksamkeit der Abdichtungen gegen Schmutz, Feuchtigkeit und Schmiermittelverlust ab. Eindringende Fremdkörper verursachen bei der Überrollung durch die Rollkörper und Laufbahnen Eindrücke, was zu erhöhten Laufgeräuschen und einer verkürzten Lebensdauer führt. Schmirgelnde Verunreinigungen bewirken Verschleiß und vergrößern das Lagerspiel, was die Laufgenauigkeit und Funktion des Lagers beeinträchtigt. Eindringendes Wasser, Dämpfe und ätzende Flüssigkeiten können die Wirksamkeit des Schmiermittels mindern oder völlig aufheben und führen zu Korrosion an Rollkörpern und Laufbahnen. Daher ist eine Abdichtung gegen diese Einflüsse unerlässlich. Die Art der Abdichtung richtet sich nach den äußeren Betriebsbedingungen (Schmutzanfall, Feuchtigkeit, ätzende Medien), der geforderten Lebensdauer, der Funktion und der Drehzahl des Lagers.\n",
       "\n",
       "\n",
       "### Für die Abdichtubng : Filzringdichtungen\n",
       "### Filzringe sind einfache Dichtungselemente bei Fettschmierung\n",
       "\n",
       "### Filzringe sind einfache Dichtungselemente, die sich besonders bei Fettschmierung bewähren. Nach kurzer Laufzeit bildet der Filz eine spannungsfreie Dichtfläche, die hervorragend gegen Staub abdichtet. Vor dem Einbau werden die Ringe mit Öl getränkt. Betriebstemperaturen bis +100 °C sind möglich. Bei höheren Temperaturen werden Dichtringe aus gewickelten Garnen benötigt, die aus PTFE-, Graphit- oder Aramid- und Glasfasern bestehen und mit PTFE oder Graphit imprägniert sind.\n",
       "\n",
       "$$\n",
       "\\\\\\\n",
       "\\\\\\\n",
       "\\\\\\\n",
       "\\\\\\\n",
       "\\\\\\\n",
       "\\\\\\\n",
       "\\\\\\\n",
       "\\\\\\\n",
       "\\\\\\\n",
       "\\\\\\\n",
       "$$\n",
       "![Filzringe](Abdichtung_der_Lagerstelle.png)\n",
       "$$\n",
       "\n",
       "Quelle:Roloff/MatekMaschinenelemente\n",
       "            \n"
      ],
      "text/plain": [
       "<IPython.core.display.Markdown object>"
      ]
     },
     "metadata": {},
     "output_type": "display_data"
    }
   ],
   "source": [
    "display(Markdown(f\"\"\"\n",
    "\n",
    "## Lagerabdichtungen\n",
    "### Betriebssicherheit und Gebrauchsdauer von Wälzlagern hängen stark von der Wirksamkeit der Abdichtungen gegen Schmutz, Feuchtigkeit und Schmiermittelverlust ab. Eindringende Fremdkörper verursachen bei der Überrollung durch die Rollkörper und Laufbahnen Eindrücke, was zu erhöhten Laufgeräuschen und einer verkürzten Lebensdauer führt. Schmirgelnde Verunreinigungen bewirken Verschleiß und vergrößern das Lagerspiel, was die Laufgenauigkeit und Funktion des Lagers beeinträchtigt. Eindringendes Wasser, Dämpfe und ätzende Flüssigkeiten können die Wirksamkeit des Schmiermittels mindern oder völlig aufheben und führen zu Korrosion an Rollkörpern und Laufbahnen. Daher ist eine Abdichtung gegen diese Einflüsse unerlässlich. Die Art der Abdichtung richtet sich nach den äußeren Betriebsbedingungen (Schmutzanfall, Feuchtigkeit, ätzende Medien), der geforderten Lebensdauer, der Funktion und der Drehzahl des Lagers.\n",
    "\n",
    "\n",
    "### Für die Abdichtubng : Filzringdichtungen\n",
    "### Filzringe sind einfache Dichtungselemente bei Fettschmierung\n",
    "\n",
    "### Filzringe sind einfache Dichtungselemente, die sich besonders bei Fettschmierung bewähren. Nach kurzer Laufzeit bildet der Filz eine spannungsfreie Dichtfläche, die hervorragend gegen Staub abdichtet. Vor dem Einbau werden die Ringe mit Öl getränkt. Betriebstemperaturen bis +100 °C sind möglich. Bei höheren Temperaturen werden Dichtringe aus gewickelten Garnen benötigt, die aus PTFE-, Graphit- oder Aramid- und Glasfasern bestehen und mit PTFE oder Graphit imprägniert sind.\n",
    "\n",
    "$$\n",
    "\\\\\\\\\\\\\n",
    "\\\\\\\\\\\\\n",
    "\\\\\\\\\\\\\n",
    "\\\\\\\\\\\\\n",
    "\\\\\\\\\\\\\n",
    "\\\\\\\\\\\\\n",
    "\\\\\\\\\\\\\n",
    "\\\\\\\\\\\\\n",
    "\\\\\\\\\\\\\n",
    "\\\\\\\\\\\\\n",
    "$$\n",
    "![Filzringe](Abdichtung_der_Lagerstelle.png)\n",
    "$$\n",
    "\n",
    "Quelle:Roloff/MatekMaschinenelemente\n",
    "            \n",
    "\"\"\"))"
   ]
  }
 ],
 "metadata": {
  "kernelspec": {
   "display_name": "base",
   "language": "python",
   "name": "python3"
  },
  "language_info": {
   "codemirror_mode": {
    "name": "ipython",
    "version": 3
   },
   "file_extension": ".py",
   "mimetype": "text/x-python",
   "name": "python",
   "nbconvert_exporter": "python",
   "pygments_lexer": "ipython3",
   "version": "3.9.12"
  }
 },
 "nbformat": 4,
 "nbformat_minor": 2
}
