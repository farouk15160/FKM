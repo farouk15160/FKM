{
 "cells": [
  {
   "cell_type": "code",
   "execution_count": 53,
   "metadata": {},
   "outputs": [],
   "source": [
    "from IPython.display import display, Markdown , HTML\n",
    "import math\n",
    "import numpy\n"
   ]
  },
  {
   "cell_type": "code",
   "execution_count": 54,
   "metadata": {},
   "outputs": [
    {
     "data": {
      "text/markdown": [
       "\n",
       "# Auswahl der Loslager\n",
       "\n",
       "## Der Loslager wird hier als  Einreihiges vollrolliges Zylinderrollenlager, (Kurzzeichen NCF 2988 V) ausgewählt.\n",
       "$$\n",
       "\\\\\\\n",
       "\\\\\\\n",
       "\\\\\\\n",
       "\\\\\\\n",
       "$$\n",
       "\n"
      ],
      "text/plain": [
       "<IPython.core.display.Markdown object>"
      ]
     },
     "metadata": {},
     "output_type": "display_data"
    },
    {
     "data": {
      "text/markdown": [
       "![Filzringe](Loslager.png)"
      ],
      "text/plain": [
       "<IPython.core.display.Markdown object>"
      ]
     },
     "metadata": {},
     "output_type": "display_data"
    },
    {
     "data": {
      "text/markdown": [
       "\n",
       "\n",
       "$$\n",
       "\\\\\\\n",
       "\\\\\\\n",
       "\\\\\\\n",
       "\\\\\\\n",
       "$$\n",
       "\n",
       "\n",
       "\n",
       "### Einreihige vollrollige Zylinderrollenlager sind für die Aufnahme sehr hohe Radiallasten bei mittleren Drehzahlen vorgesehen. Die Lager enthalten die höchstmögliche Anzahl von Rollen, da sie keinen Käfig haben. Lager der Bauform NCF haben zwei feste Borde am Innenring und einen Bord am Außenring. Diese Lager nehmen axiale Verschiebungen in einer Richtung auf. Ein Sicherungsring am Außenring hält das Lager zusammen. Der Sicherungsring darf im Betrieb nicht axial belastet werden.\n",
       "### -Sehr hohe radiale Tragfähigkeit\n",
       "### -Hohe radiale Steifigkeit\n",
       "### -Lange Gebrauchsdauer\n",
       "### -Führen die Welle axial in einer Richtung\n",
       "\n",
       "$$\n",
       "\\\\\\\n",
       "\\\\\\\n",
       "\\\\\\\n",
       "\\\\\\\n",
       "\\\\\\\n",
       "$$\n",
       "                 \n"
      ],
      "text/plain": [
       "<IPython.core.display.Markdown object>"
      ]
     },
     "metadata": {},
     "output_type": "display_data"
    }
   ],
   "source": [
    "d_scheibe = 250 # mm\n",
    "v_seil=20000 # mm/min\n",
    "# n=v_seil/(d_scheibe * math.pi)\n",
    "n=20\n",
    "Nmax=10\n",
    "Qmax=616 #KN\n",
    "D_a_l=600\n",
    "D_i_l=440\n",
    "D_ml=(D_a_l+D_i_l)/2\n",
    "Aa=Nmax\n",
    "Ar=Qmax # KN\n",
    "\n",
    "p=10/3\n",
    "display(Markdown(f\"\"\"\n",
    "# Auswahl der Loslager\n",
    "\n",
    "## Der Loslager wird hier als  Einreihiges vollrolliges Zylinderrollenlager, (Kurzzeichen NCF 2988 V) ausgewählt.\n",
    "$$\n",
    "\\\\\\\\\\\\\n",
    "\\\\\\\\\\\\\n",
    "\\\\\\\\\\\\\n",
    "\\\\\\\\\\\\\n",
    "$$\n",
    "\n",
    "\"\"\"))\n",
    "display(Markdown(\"![Filzringe](Loslager.png)\"))\n",
    "\n",
    "\n",
    "display(Markdown(f\"\"\"\n",
    "\n",
    "$$\n",
    "\\\\\\\\\\\\\n",
    "\\\\\\\\\\\\\n",
    "\\\\\\\\\\\\\n",
    "\\\\\\\\\\\\\n",
    "$$\n",
    "\n",
    "\n",
    "\n",
    "### Einreihige vollrollige Zylinderrollenlager sind für die Aufnahme sehr hohe Radiallasten bei mittleren Drehzahlen vorgesehen. Die Lager enthalten die höchstmögliche Anzahl von Rollen, da sie keinen Käfig haben. Lager der Bauform NCF haben zwei feste Borde am Innenring und einen Bord am Außenring. Diese Lager nehmen axiale Verschiebungen in einer Richtung auf. Ein Sicherungsring am Außenring hält das Lager zusammen. Der Sicherungsring darf im Betrieb nicht axial belastet werden.\n",
    "### -Sehr hohe radiale Tragfähigkeit\n",
    "### -Hohe radiale Steifigkeit\n",
    "### -Lange Gebrauchsdauer\n",
    "### -Führen die Welle axial in einer Richtung\n",
    "\n",
    "$$\n",
    "\\\\\\\\\\\\\n",
    "\\\\\\\\\\\\\n",
    "\\\\\\\\\\\\\n",
    "\\\\\\\\\\\\\n",
    "\\\\\\\\\\\\\n",
    "$$\n",
    "                 \n",
    "\"\"\"))\n"
   ]
  },
  {
   "cell_type": "code",
   "execution_count": null,
   "metadata": {},
   "outputs": [],
   "source": []
  },
  {
   "cell_type": "code",
   "execution_count": 55,
   "metadata": {},
   "outputs": [
    {
     "data": {
      "text/markdown": [
       "             \n",
       "# Übersicht\n",
       "## Abmessungen\n",
       "\n",
       "|                     |                      |\n",
       "|---------------------|----------------------|\n",
       "| Bohrungsdurchmesser| 440 mm               |\n",
       "| Außendurchmesser   | 600 mm               |\n",
       "| Breite              | 95 mm                |\n",
       "\n",
       "## Leistung\n",
       "\n",
       "|                     |                      |\n",
       "|---------------------|----------------------|\n",
       "| Dynamische Tragzahl | 2 010 kN             |\n",
       "| Statische Tragzahl  | 4 400 kN             |\n",
       "| Referenzdrehzahl    | 430 r/min            |\n",
       "| Grenzdrehzahl       | 530 r/min            |\n",
       "\n",
       "## Eigenschaften\n",
       "\n",
       "|                              |                      |\n",
       "|------------------------------|----------------------|\n",
       "| Lagerteil                    | Komplettlager        |\n",
       "| Axiale Verschiebbarkeit      | In einer Richtung    |\n",
       "| Anzahl der Reihen            | 1                    |\n",
       "| Befestigungsfunktion         | Kein(e/r)            |\n",
       "| Bohrungstyp                  | Zylindrisch          |\n",
       "| Käfig                        | Ohne                 |\n",
       "| Bauform                      | Selbsthaltend        |\n",
       "| Anzahl der Borde, Außenring  | 1                    |\n",
       "| Anzahl der Borde, Innenring  | 2                    |\n",
       "| Loser Bord                   | Kein(e/r)            |\n",
       "| Radiale Lagerluft            | CN                   |\n",
       "| Toleranzklasse               | Normal               |\n",
       "| Beschichtung                 | Ohne                 |\n",
       "| Dichtung                     | Ohne                 |\n",
       "| Schmierstoff                 | Kein(e/r)            |\n",
       "| Nachschmierfunktion          | Ohne                 |\n",
       "\n",
       "## Logistik\n",
       "\n",
       "|                     |                      |\n",
       "|---------------------|----------------------|\n",
       "| Nettogewicht Produkt| 80.3 kg              |\n",
       "| eClass-Code         | 23-05-09-01          |\n",
       "| UNSPSC-Code         | 31171505             |\n",
       "\n",
       "\n"
      ],
      "text/plain": [
       "<IPython.core.display.Markdown object>"
      ]
     },
     "metadata": {},
     "output_type": "display_data"
    }
   ],
   "source": [
    "display(Markdown(\"\"\"             \n",
    "# Übersicht\n",
    "## Abmessungen\n",
    "\n",
    "|                     |                      |\n",
    "|---------------------|----------------------|\n",
    "| Bohrungsdurchmesser| 440 mm               |\n",
    "| Außendurchmesser   | 600 mm               |\n",
    "| Breite              | 95 mm                |\n",
    "\n",
    "## Leistung\n",
    "\n",
    "|                     |                      |\n",
    "|---------------------|----------------------|\n",
    "| Dynamische Tragzahl | 2 010 kN             |\n",
    "| Statische Tragzahl  | 4 400 kN             |\n",
    "| Referenzdrehzahl    | 430 r/min            |\n",
    "| Grenzdrehzahl       | 530 r/min            |\n",
    "\n",
    "## Eigenschaften\n",
    "\n",
    "|                              |                      |\n",
    "|------------------------------|----------------------|\n",
    "| Lagerteil                    | Komplettlager        |\n",
    "| Axiale Verschiebbarkeit      | In einer Richtung    |\n",
    "| Anzahl der Reihen            | 1                    |\n",
    "| Befestigungsfunktion         | Kein(e/r)            |\n",
    "| Bohrungstyp                  | Zylindrisch          |\n",
    "| Käfig                        | Ohne                 |\n",
    "| Bauform                      | Selbsthaltend        |\n",
    "| Anzahl der Borde, Außenring  | 1                    |\n",
    "| Anzahl der Borde, Innenring  | 2                    |\n",
    "| Loser Bord                   | Kein(e/r)            |\n",
    "| Radiale Lagerluft            | CN                   |\n",
    "| Toleranzklasse               | Normal               |\n",
    "| Beschichtung                 | Ohne                 |\n",
    "| Dichtung                     | Ohne                 |\n",
    "| Schmierstoff                 | Kein(e/r)            |\n",
    "| Nachschmierfunktion          | Ohne                 |\n",
    "\n",
    "## Logistik\n",
    "\n",
    "|                     |                      |\n",
    "|---------------------|----------------------|\n",
    "| Nettogewicht Produkt| 80.3 kg              |\n",
    "| eClass-Code         | 23-05-09-01          |\n",
    "| UNSPSC-Code         | 31171505             |\n",
    "\n",
    "\n",
    "\"\"\"))"
   ]
  },
  {
   "cell_type": "code",
   "execution_count": 56,
   "metadata": {},
   "outputs": [
    {
     "data": {
      "text/markdown": [
       " \n",
       "## Schmierung der Wälzlager\n",
       "### Die Schmierung soll eine unmittelbare metallische Berührung zwischen Wälzkörpern, Lagerringen und Käfig verhindern und deren Oberflächen vor Verschleiß und Korrosion schützen. Voraussetzung hierfür ist, dass bei allen Betriebszuständen die Funktionsflächen stets ausreichend Schmierstoff erhalten. Die Wirksamkeit der Schmierung beeinflusst wesentlich die Gebrauchsdauer der Wälzlager\n",
       "### Wälzlager können mit Schmierfett, Öl oder Festschmierstoff (Sonderfälle) geschmiert werden.Die Art der Schmierung und des Schmiermittels richtet sich wesentlich nach der Höhe der Beanspruchung der Drehzahl und der Betriebstemperatur des Lagers\n",
       "### Vor dem Entwurf einer Lagerung muss die Schmierungsart entschieden werden, da die Gestaltung der Gehäuse, insbesondere die Schmiermittelzufuhr, von der Art des Schmiermittels, der Lagerabdichtung und den Nachschmierfristen abhängt.\n",
       "### Auswahlkriterium ist zunächst der Drehzahlkennwert  $$ n  \\cdot  d_{m} \\ in  \\ 10^6 \\ \\ \\frac{mm}{min} $$ mit der Betriebsdrehzahl n und dem mittleren Lagerdurchmesser  \n",
       "$$ \n",
       "\\Large \n",
       "d_{m} =\\frac{(D+ d)}{2}=  \\frac{(600+ 440)}{2}=  520.0 \\ mm\n",
       "$$ \n",
       "\n",
       "## Drehzahlkennwert:\n",
       "\n",
       "$$ \n",
       "\\Large \n",
       "n \\cdot d_{m} =20 \\ min^-1 \\cdot 520.0 \\ mm =10400.0 \\ mm \\cdot min^-1 < 10^6\n",
       "$$ \n",
       "\n",
       "\n",
       "\n",
       " "
      ],
      "text/plain": [
       "<IPython.core.display.Markdown object>"
      ]
     },
     "metadata": {},
     "output_type": "display_data"
    }
   ],
   "source": [
    "\n",
    "display(Markdown(f\"\"\" \n",
    "## Schmierung der Wälzlager\n",
    "### Die Schmierung soll eine unmittelbare metallische Berührung zwischen Wälzkörpern, Lagerringen und Käfig verhindern und deren Oberflächen vor Verschleiß und Korrosion schützen. Voraussetzung hierfür ist, dass bei allen Betriebszuständen die Funktionsflächen stets ausreichend Schmierstoff erhalten. Die Wirksamkeit der Schmierung beeinflusst wesentlich die Gebrauchsdauer der Wälzlager\n",
    "### Wälzlager können mit Schmierfett, Öl oder Festschmierstoff (Sonderfälle) geschmiert werden.Die Art der Schmierung und des Schmiermittels richtet sich wesentlich nach der Höhe der Beanspruchung der Drehzahl und der Betriebstemperatur des Lagers\n",
    "### Vor dem Entwurf einer Lagerung muss die Schmierungsart entschieden werden, da die Gestaltung der Gehäuse, insbesondere die Schmiermittelzufuhr, von der Art des Schmiermittels, der Lagerabdichtung und den Nachschmierfristen abhängt.\n",
    "### Auswahlkriterium ist zunächst der Drehzahlkennwert  $$ n  \\cdot  d_{{m}} \\\\ in  \\\\ 10^6 \\\\ \\\\ \\\\frac{{mm}}{{min}} $$ mit der Betriebsdrehzahl n und dem mittleren Lagerdurchmesser  \n",
    "$$ \n",
    "\\Large \n",
    "d_{{m}} =\\\\frac{{(D+ d)}}{{2}}=  \\\\frac{{({D_a_l}+ {D_i_l})}}{{2}}=  {D_ml} \\\\ mm\n",
    "$$ \n",
    "\n",
    "## Drehzahlkennwert:\n",
    "\n",
    "$$ \n",
    "\\Large \n",
    "n \\cdot d_{{m}} ={n} \\\\ min^-1 \\cdot {D_ml} \\\\ mm ={n*D_ml} \\\\ mm \\cdot min^-1 < 10^6\n",
    "$$ \n",
    "\n",
    "\n",
    "\n",
    " \"\"\"))\n"
   ]
  },
  {
   "cell_type": "code",
   "execution_count": 57,
   "metadata": {},
   "outputs": [
    {
     "data": {
      "text/markdown": [
       "\n",
       "##  Fettschmierung\n",
       "### Die Fettschmierung wird bei Drehzahlkennwerten n \n",
       "$$ \n",
       "\\Large \n",
       "d_{m} \\cdot n = 10400.0 \\  < 0;5 \\cdot 10^6 mm/min\n",
       "$$ \n",
       "\n",
       "### bevorzugt. Sie erfordert eine geringe Wartung und schützt meist ausreichend gegen Verschmutzung, so dass einfache und billige Lagerabdichtungen gestaltbar sind.\n",
       "\n",
       "$$\n",
       "\\\\\\\n",
       "\\\\\\\n",
       "\\\\\\\n",
       "$$\n",
       "![Filzringe](Schmierfette.png)\n",
       "$$\n",
       "\\\\\\\n",
       "\\\\\\\n",
       "\\\\\\\n",
       "$$\n",
       "\n",
       "### Zur Schmierung von unserem Wälzlagern wird Lithiumseifenfette angewendet. Die Wahl der Fettsorte erfolgt nach der Gebrauchstemperatur,dem Verhalten gegen Feuchtigkeit\n",
       "#### Lithiumseifenfette: GT (-40) -20 ... +130 (170) C, gegen Wasser bis 90 C beständig\n"
      ],
      "text/plain": [
       "<IPython.core.display.Markdown object>"
      ]
     },
     "metadata": {},
     "output_type": "display_data"
    }
   ],
   "source": [
    "display(Markdown(f\"\"\"\n",
    "##  Fettschmierung\n",
    "### Die Fettschmierung wird bei Drehzahlkennwerten n \n",
    "$$ \n",
    "\\Large \n",
    "d_{{m}} \\cdot n = {D_ml*n} \\\\  < 0;5 \\cdot 10^6 mm/min\n",
    "$$ \n",
    "\n",
    "### bevorzugt. Sie erfordert eine geringe Wartung und schützt meist ausreichend gegen Verschmutzung, so dass einfache und billige Lagerabdichtungen gestaltbar sind.\n",
    "\n",
    "$$\n",
    "\\\\\\\\\\\\\n",
    "\\\\\\\\\\\\\n",
    "\\\\\\\\\\\\\n",
    "$$\n",
    "![Filzringe](Schmierfette.png)\n",
    "$$\n",
    "\\\\\\\\\\\\\n",
    "\\\\\\\\\\\\\n",
    "\\\\\\\\\\\\\n",
    "$$\n",
    "\n",
    "### Zur Schmierung von unserem Wälzlagern wird Lithiumseifenfette angewendet. Die Wahl der Fettsorte erfolgt nach der Gebrauchstemperatur,dem Verhalten gegen Feuchtigkeit\n",
    "#### Lithiumseifenfette: GT (-40) -20 ... +130 (170) C, gegen Wasser bis 90 C beständig\n",
    "\"\"\"))"
   ]
  },
  {
   "cell_type": "code",
   "execution_count": 58,
   "metadata": {},
   "outputs": [],
   "source": [
    "# display(Markdown(f\"\"\"\n",
    "\n",
    "# ## Lagerabdichtungen\n",
    "# ### Die Betriebssicherheit und die Gebrauchsdauer von Wälzlagerungen hängen sehr von der Wirksamkeit des Abdichtens gegen das Eindringen von Schmutz und Feuchtigkeit und gegen einen Verlust des Schmiermittels ab. Fremdkörper, die in das Lager eindringen, führen beim berrollen an den Rollkörpern und Laufbahnen zu Eindrückungen und als Folge zu erhöhten Laufgeräuschen und zu einer geminderten Gebrauchsdauer. Schmirgelnde Verunreinigungen dagegen führen zum Verschleiß, wodurch sich das Lagerspiel vergrößert. Dies mindert die Laufgenauigkeit und damit die Funktion des Lagers. Eindringendes Wasser, Dämpfe und ätzende Flüssigkeiten setzen die Wirksamkeit des Schmiermittels herab bzw. heben sie völlig auf und greifen korrodierend die Rollkörper und Laufbahnen an. Eine Abdichtung gegen diese Einflüsse ist deshalb notwendig, wobei die Art der Abdichtung von den äußeren Betriebsbedingungen (Schmutzanfall, Feuchtigkeit, ätzende Medien), der geforderten Lebensdauer und der Funktion sowie der Drehzahl des Lagers abhängig ist.\n",
    "\n",
    "\n",
    "# ### Für die Abdichtubng : Filzringdichtungen\n",
    "# ### Filzringe sind einfache Dichtungselemente bei Fettschmierung\n",
    "\n",
    "# ### Filzringe sind einfache Dichtungselemente, die sich vor allem bei Fettschmierung bewähren . Der Filz bildet nach kurzer Laufzeit eine vorspannungsfrei anliegende Dichtfläche mit sehr guter Dichtwirkung gegen Staub. Die Ringe werden vor dem Einbau mit Öl getränkt.\n",
    "# ### Betriebstemperaturen bis +100 °C sind möglich. Bei höheren Temperaturen sind Dichtringe aus gewickelten Garnen erforderlich, die aus PTFE-, Graphit- oder Aramid- und Glasfasern bestehen und mit PTFE oder Graphit imprägniert sind.\n",
    "\n",
    "# $$\n",
    "# \\\\\\\\\\\\\n",
    "# \\\\\\\\\\\\\n",
    "# \\\\\\\\\\\\\n",
    "# \\\\\\\\\\\\\n",
    "# \\\\\\\\\\\\\n",
    "# \\\\\\\\\\\\\n",
    "# \\\\\\\\\\\\\n",
    "# \\\\\\\\\\\\\n",
    "# \\\\\\\\\\\\\n",
    "# \\\\\\\\\\\\\n",
    "# $$\n",
    "# ![Filzringe](Abdichtung_der_Lagerstelle.png)\n",
    "\n",
    "# $$\n",
    "# \\\\\\\\\\\\\n",
    "# \\\\\\\\\\\\\n",
    "# \\\\\\\\\\\\\n",
    "# \\\\\\\\\\\\\n",
    "# \\\\\\\\\\\\\n",
    "# \\\\\\\\\\\\\n",
    "# \\\\\\\\\\\\\n",
    "# \\\\\\\\\\\\\n",
    "# \\\\\\\\\\\\\n",
    "# \\\\\\\\\\\\\n",
    "# $$                 \n",
    "                 \n",
    "# \"\"\"))"
   ]
  },
  {
   "cell_type": "code",
   "execution_count": 59,
   "metadata": {},
   "outputs": [
    {
     "data": {
      "text/markdown": [
       "\n",
       "$$\n",
       "\\\\\\\n",
       "\\\\\\\n",
       "\\\\\\\n",
       "\\\\\\\n",
       "\\\\\\\n",
       "\\\\\\\n",
       "$$\n",
       "![Filzringe](Tabelle.png)\n",
       "$$\n",
       "\\\\\\\n",
       "\\\\\\\n",
       "\\\\\\\n",
       "\\\\\\\n",
       "\\\\\\\n",
       "\\\\\\\n",
       "$$\n",
       "\n",
       "### Radialfaktor X und Axialfaktor Y  ergeben sich aus TB 14-3a bzw. WLK (Roloff /Matek Maschinenelemente)\n",
       "### $$ F_{a}  = 10 \\ KN $$\n",
       "### $$ F_{r} = 616 \\ KN $$\n",
       "### Folgt daraus $$ \\frac {F_{a}}{F_{r}} = 0.016 $$\n",
       "### Da das wir ein Zylinderrollenlager haben  ( e = 0.2 ) und $$ \\frac {F_{a}}{F_{r}} = 0.016  < e $$ , wird Radialfaktor X = 1 und Axialfaktor Y = 0 sein\n",
       "$$\n",
       "\\\\\\\n",
       "\\\\\\\n",
       "\\\\\\\n",
       "\\\\\\\n",
       "$$\n"
      ],
      "text/plain": [
       "<IPython.core.display.Markdown object>"
      ]
     },
     "metadata": {},
     "output_type": "display_data"
    }
   ],
   "source": [
    "X=1\n",
    "Y=0\n",
    "P_a =X*Ar + Y* Aa\n",
    "faktor=Nmax/Qmax\n",
    "display(Markdown(f\"\"\"\n",
    "$$\n",
    "\\\\\\\\\\\\\n",
    "\\\\\\\\\\\\\n",
    "\\\\\\\\\\\\\n",
    "\\\\\\\\\\\\\n",
    "\\\\\\\\\\\\\n",
    "\\\\\\\\\\\\\n",
    "$$\n",
    "![Filzringe](Tabelle.png)\n",
    "$$\n",
    "\\\\\\\\\\\\\n",
    "\\\\\\\\\\\\\n",
    "\\\\\\\\\\\\\n",
    "\\\\\\\\\\\\\n",
    "\\\\\\\\\\\\\n",
    "\\\\\\\\\\\\\n",
    "$$\n",
    "\n",
    "### Radialfaktor X und Axialfaktor Y  ergeben sich aus TB 14-3a bzw. WLK (Roloff /Matek Maschinenelemente)\n",
    "### $$ F_{{a}}  = {Nmax} \\\\ KN $$\n",
    "### $$ F_{{r}} = {Qmax} \\\\ KN $$\n",
    "### Folgt daraus $$ \\\\frac {{F_{{a}}}}{{F_{{r}}}} = {faktor:.3f} $$\n",
    "### Da das wir ein Zylinderrollenlager haben  ( e = 0.2 ) und $$ \\\\frac {{F_{{a}}}}{{F_{{r}}}} = {faktor:.3f}  < e $$ , wird Radialfaktor X = {X} und Axialfaktor Y = {Y} sein\n",
    "$$\n",
    "\\\\\\\\\\\\\n",
    "\\\\\\\\\\\\\n",
    "\\\\\\\\\\\\\n",
    "\\\\\\\\\\\\\n",
    "$$\n",
    "\"\"\"))"
   ]
  },
  {
   "cell_type": "code",
   "execution_count": 60,
   "metadata": {},
   "outputs": [
    {
     "data": {
      "text/markdown": [
       "\n",
       "                 \n",
       "### Äußer Durchmesser $$D_{a.l} = 600 \\ mm $$\n",
       "### Innere Durchmesser $$D_{i.l} = 440 \\ mm $$\n",
       "\n",
       "### $$A_{a} = N_{max} = 10 \\ KN$$\n",
       "### $$A_{r} = Q_{max} = 616 \\ KN$$\n",
       "\n",
       "\n",
       "### Drehzahl bestimmen:\n",
       "\n",
       "$$\n",
       "\\Large\n",
       "n=20.000 \\ min^-1\n",
       "$$\n",
       "\n",
       "\n",
       "### Die dynamische äquivalente Belastung P ist ein rechnerischer Wert, \n",
       "### der in Größe und Richtung konstante Radiallast oder Axiallast, Hier gibt es nur eine Radiallast\n",
       "$\\large X=1 \\ \\ \\ $   $Y=0$\n",
       "\n",
       "$$\n",
       "\\Large\n",
       "P_{A}= X \\cdot A_{r} + Y \\cdot A_{a} =  1\\cdot 616 + 0 \\cdot 10 = 616 \\ KN\n",
       "$$\n"
      ],
      "text/plain": [
       "<IPython.core.display.Markdown object>"
      ]
     },
     "metadata": {},
     "output_type": "display_data"
    }
   ],
   "source": [
    "display(Markdown(f\"\"\"\n",
    "                 \n",
    "### Äußer Durchmesser $$D_{{a.l}} = {D_a_l} \\\\ mm $$\n",
    "### Innere Durchmesser $$D_{{i.l}} = {D_i_l} \\\\ mm $$\n",
    "\n",
    "### $$A_{{a}} = N_{{max}} = {Nmax} \\\\ KN$$\n",
    "### $$A_{{r}} = Q_{{max}} = {Qmax} \\\\ KN$$\n",
    "\n",
    "\n",
    "### Drehzahl bestimmen:\n",
    "\n",
    "$$\n",
    "\\Large\n",
    "n={n:.3f} \\\\ min^-1\n",
    "$$\n",
    "\n",
    "\n",
    "### Die dynamische äquivalente Belastung P ist ein rechnerischer Wert, \n",
    "### der in Größe und Richtung konstante Radiallast oder Axiallast, Hier gibt es nur eine Radiallast\n",
    "$\\large X={X} \\\\ \\\\ \\\\ $   $Y={Y}$\n",
    "\n",
    "$$\n",
    "\\Large\n",
    "P_{{A}}= X \\cdot A_{{r}} + Y \\cdot A_{{a}} =  {X }\\cdot {Ar} + {Y} \\cdot {Aa} = {P_a} \\\\ KN\n",
    "$$\n",
    "\"\"\"))\n"
   ]
  },
  {
   "cell_type": "code",
   "execution_count": 61,
   "metadata": {},
   "outputs": [
    {
     "data": {
      "text/markdown": [
       "\n",
       "# Lebensdauerexponent für Rollenlager\n",
       "                 \n",
       "### $C_{r.l}=2010$ KN dynamische Tragzahlen\n",
       "### $C_{0r.l}=4400$ KN statische Tragzahlen\n",
       "\n",
       "$$\n",
       "\\Large\n",
       "L_{10.h_{d.l}}=\\frac{16666}{n}\\cdot (\\frac{C_{rfl}}{P_{A}})^P = \n",
       "\\frac{16666}{20.000 \\ min^-1}\\cdot (\\frac{2010 \\ KN }{616 \\ KN})^3.3 = 42939.060 \\ hr\n",
       "$$\n"
      ],
      "text/plain": [
       "<IPython.core.display.Markdown object>"
      ]
     },
     "metadata": {},
     "output_type": "display_data"
    }
   ],
   "source": [
    "C_rl=2010 # KN\n",
    "C0_rl=4400 # KN Statisch\n",
    "L_10h_dl=((16666/n)*math.pow(C_rl/P_a , p))\n",
    "display(Markdown(f\"\"\"\n",
    "# Lebensdauerexponent für Rollenlager\n",
    "                 \n",
    "### $C_{{r.l}}={C_rl}$ KN dynamische Tragzahlen\n",
    "### $C_{{0r.l}}={C0_rl}$ KN statische Tragzahlen\n",
    "\n",
    "$$\n",
    "\\Large\n",
    "L_{{10.h_{{d.l}}}}=\\\\frac{{16666}}{{n}}\\cdot (\\\\frac{{C_{{rfl}}}}{{P_{{A}}}})^P = \n",
    "\\\\frac{{16666}}{{{n:.3f} \\\\ min^-1}}\\cdot (\\\\frac{{{C_rl} \\\\ KN }}{{{P_a} \\\\ KN}})^{p:.1f} = {L_10h_dl:.3f} \\\\ hr\n",
    "$$\n",
    "\"\"\"))"
   ]
  },
  {
   "cell_type": "code",
   "execution_count": 62,
   "metadata": {},
   "outputs": [
    {
     "data": {
      "text/markdown": [
       "\n",
       "$$\n",
       "\\Large\n",
       "L_{10.h_{s.l}}=\\frac{16666}{n}\\cdot (\\frac{C_{0.r.l}}{P_{A}})^P = \n",
       "\\frac{16666}{20.00 \\ min^-1}\\cdot (\\frac{4400 \\ N }{616 \\ N})^3.3 = 584845.648 \\ hr\n",
       "$$\n"
      ],
      "text/plain": [
       "<IPython.core.display.Markdown object>"
      ]
     },
     "metadata": {},
     "output_type": "display_data"
    }
   ],
   "source": [
    "\n",
    "L_10h_sl=((16666/n)*math.pow(C0_rl/P_a , p))\n",
    "display(Markdown(f\"\"\"\n",
    "$$\n",
    "\\Large\n",
    "L_{{10.h_{{s.l}}}}=\\\\frac{{16666}}{{n}}\\cdot (\\\\frac{{C_{{0.r.l}}}}{{P_{{A}}}})^P = \n",
    "\\\\frac{{16666}}{{{n:.2f} \\\\ min^-1}}\\cdot (\\\\frac{{{C0_rl} \\\\ N }}{{{P_a} \\\\ N}})^{p:.1f} = {L_10h_sl:.3f} \\\\ hr\n",
    "$$\n",
    "\"\"\"))"
   ]
  },
  {
   "cell_type": "code",
   "execution_count": 63,
   "metadata": {},
   "outputs": [
    {
     "data": {
      "text/markdown": [
       "\n",
       "\n",
       "## Modifizierter Lebensdauer Berechnung:\n",
       "### Lebensdauerbeiwert für eine Erlebneswahrscheinlichkeit von 97% ,$a_{1}=0.47$, damit 97% Überlebenswharscheinlichekit gewähreistet wird (Tabelle von Lagerkatalog S.XX). Lebensdauerbeiwert für Standard-WälzlagerStahl: Der Lebensdauerbeiwert ist für normale Lagerwerkstoff mit $a_{2} = 1$ zu Wählen\n",
       "### Lebensdauerbeiwert für besondere Betriebsbedingungen : $a_{3}$\n",
       "\n",
       "\n",
       "### Mittlere Durchmesser des Lagers:\n",
       "\n",
       "$$\n",
       "\\Large\n",
       "D_{m.l}=\\frac{D_{a.l} + D_{i.l} }{2} = \\frac{600 \\ mm + 440 \\ mm}{2} = 520.0 \\ mm\n",
       "$$\n",
       "\n"
      ],
      "text/plain": [
       "<IPython.core.display.Markdown object>"
      ]
     },
     "metadata": {},
     "output_type": "display_data"
    }
   ],
   "source": [
    "a_1=0.47\n",
    "a_2=1\n",
    "D_ml=(D_a_l+D_i_l)/2\n",
    "display(Markdown(f\"\"\"\n",
    "\n",
    "## Modifizierter Lebensdauer Berechnung:\n",
    "### Lebensdauerbeiwert für eine Erlebneswahrscheinlichkeit von 97% ,$a_{{1}}={a_1}$, damit 97% Überlebenswharscheinlichekit gewähreistet wird (Tabelle von Lagerkatalog S.XX). Lebensdauerbeiwert für Standard-WälzlagerStahl: Der Lebensdauerbeiwert ist für normale Lagerwerkstoff mit $a_{{2}} = {a_2}$ zu Wählen\n",
    "### Lebensdauerbeiwert für besondere Betriebsbedingungen : $a_{{3}}$\n",
    "\n",
    "\n",
    "### Mittlere Durchmesser des Lagers:\n",
    "\n",
    "$$\n",
    "\\Large\n",
    "D_{{m.l}}=\\\\frac{{D_{{a.l}} + D_{{i.l}} }}{{2}} = \\\\frac{{{D_a_l} \\\\ mm + {D_i_l} \\\\ mm}}{{2}} = {D_ml} \\\\ mm\n",
    "$$\n",
    "\n",
    "\"\"\"))"
   ]
  },
  {
   "cell_type": "code",
   "execution_count": 64,
   "metadata": {},
   "outputs": [
    {
     "data": {
      "text/markdown": [
       "\n",
       "## Bezugsviskosität\n",
       "\n",
       "### Bezugsviskosität $v_{1.l}$ bei $n=20.000 \\ \\frac{1}{min}$ wird aus dem Diagramm (Skript ME II S.32 ) abgelesen:\n",
       "\n",
       "$$\n",
       "\\Large\n",
       "v_{1.l} = 190 \\ \\frac{mm^2}{s}\n",
       "$$\n",
       "\n",
       "### Und die Betriebsviskosität bei Betriebstemperatur 50 C beträgt:\n",
       "$$\n",
       "\\Large\n",
       "v_{l} = 110 \\ \\frac{mm^2}{s}\n",
       "$$\n",
       "\n",
       "### Die Viskositätsverhaltnis ist:\n",
       "\n",
       "$$\n",
       "\\Large\n",
       "k= \\frac{v_{l}}{v_{1.l}} = \\frac{110}{190} = 0.579\n",
       "$$\n",
       "\n",
       "### Mir der Annahme von hochste Sauberkeit wird a3-Lebensdauer von dem Diagramm im Lagerkatalog abgelesen\n",
       "\n",
       "$$\n",
       "\\Large\n",
       "L_{3m.s.l} = a_{1} \\cdot a_{2} \\cdot a_{3.1} \\cdot L_{10h.s.l}\n",
       "= 0.47 \\cdot 1 \\cdot 2 \\cdot 584845.648 = 549754.910 \\ hr\n",
       "$$\n",
       "$$\n",
       "\\Large\n",
       "L_{3m.d.l} = a_{1} \\cdot a_{2} \\cdot a_{3.1} \\cdot L_{10h.d.l}\n",
       "= 0.47 \\cdot 1 \\cdot 2 \\cdot 42939.060 = 40362.716 \\ hr\n",
       "$$\n",
       "\n",
       "\n"
      ],
      "text/plain": [
       "<IPython.core.display.Markdown object>"
      ]
     },
     "metadata": {},
     "output_type": "display_data"
    }
   ],
   "source": [
    "v_1l=190 # mm*mm/s\n",
    "v_l=110 \n",
    "k=v_l/v_1l\n",
    "a_31=2\n",
    "L_3m_s_l=a_1*a_2*a_31*L_10h_sl\n",
    "L_3m_d_l=a_1*a_2*a_31*L_10h_dl\n",
    "display(Markdown(f\"\"\"\n",
    "## Bezugsviskosität\n",
    "\n",
    "### Bezugsviskosität $v_{{1.l}}$ bei $n={n:.3f} \\\\ \\\\frac{{1}}{{min}}$ wird aus dem Diagramm (Skript ME II S.32 ) abgelesen:\n",
    "\n",
    "$$\n",
    "\\Large\n",
    "v_{{1.l}} = {v_1l} \\\\ \\\\frac{{mm^2}}{{s}}\n",
    "$$\n",
    "\n",
    "### Und die Betriebsviskosität bei Betriebstemperatur {50} C beträgt:\n",
    "$$\n",
    "\\Large\n",
    "v_{{l}} = {v_l} \\\\ \\\\frac{{mm^2}}{{s}}\n",
    "$$\n",
    "\n",
    "### Die Viskositätsverhaltnis ist:\n",
    "\n",
    "$$\n",
    "\\Large\n",
    "k= \\\\frac{{v_{{l}}}}{{v_{{1.l}}}} = \\\\frac{{{v_l}}}{{{v_1l}}} = {k:.3f}\n",
    "$$\n",
    "\n",
    "### Mir der Annahme von hochste Sauberkeit wird a3-Lebensdauer von dem Diagramm im Lagerkatalog abgelesen\n",
    "\n",
    "$$\n",
    "\\Large\n",
    "L_{{3m.s.l}} = a_{{1}} \\cdot a_{{2}} \\cdot a_{{3.1}} \\cdot L_{{10h.s.l}}\n",
    "= {a_1} \\cdot {a_2} \\cdot {a_31} \\cdot {L_10h_sl:.3f} = {L_3m_s_l:.3f} \\\\ hr\n",
    "$$\n",
    "$$\n",
    "\\Large\n",
    "L_{{3m.d.l}} = a_{{1}} \\cdot a_{{2}} \\cdot a_{{3.1}} \\cdot L_{{10h.d.l}}\n",
    "= {a_1} \\cdot {a_2} \\cdot {a_31} \\cdot {L_10h_dl:.3f} = {L_3m_d_l:.3f} \\\\ hr\n",
    "$$\n",
    "\n",
    "\n",
    "\"\"\"))"
   ]
  }
 ],
 "metadata": {
  "kernelspec": {
   "display_name": "base",
   "language": "python",
   "name": "python3"
  },
  "language_info": {
   "codemirror_mode": {
    "name": "ipython",
    "version": 3
   },
   "file_extension": ".py",
   "mimetype": "text/x-python",
   "name": "python",
   "nbconvert_exporter": "python",
   "pygments_lexer": "ipython3",
   "version": "3.9.12"
  }
 },
 "nbformat": 4,
 "nbformat_minor": 2
}
