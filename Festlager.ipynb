{
 "cells": [
  {
   "cell_type": "code",
   "execution_count": 91,
   "metadata": {},
   "outputs": [],
   "source": [
    "from IPython.display import display, Markdown\n",
    "import math\n",
    "import numpy\n"
   ]
  },
  {
   "cell_type": "code",
   "execution_count": 92,
   "metadata": {},
   "outputs": [
    {
     "data": {
      "text/markdown": [
       "\n",
       "# Auswahl der Loslager\n",
       "\n",
       "### Der Festlager wird hier als Vierreihige Zylinderrollenlager (Kurzzeichen 635043) ausgewählt\n",
       "#### Der lager kommt ohne schmierstoff and Abdichtung.\n",
       "#### für das Schmieren wird Fett-Lebensdauerschmierung benötigt , da Wartung an der Anlage teuer und sehr Aufwändig ist\n",
       "#### für die Abdichtubng : Filzringdichtungen\n",
       "#### Filzringe sind einfache Dichtungselemente bei Fettschmierung\n",
       "\n",
       "#### Filzringe sind einfache Dichtungselemente, die sich vor allem bei Fettschmierung bewähren . Der Filz bildet nach kurzer Laufzeit eine vorspannungsfrei anliegende Dichtfläche mit sehr guter Dichtwirkung gegen Staub. Die Ringe werden vor dem Einbau mit Öl getränkt.\n",
       "#### Betriebstemperaturen bis +100 °C sind möglich. Bei höheren Temperaturen sind Dichtringe aus gewickelten Garnen erforderlich, die aus PTFE-, Graphit- oder Aramid- und Glasfasern bestehen und mit PTFE oder Graphit imprägniert sind.\n",
       "\n"
      ],
      "text/plain": [
       "<IPython.core.display.Markdown object>"
      ]
     },
     "metadata": {},
     "output_type": "display_data"
    },
    {
     "data": {
      "text/markdown": [
       " \n",
       "$$\n",
       "\\\\\\\n",
       "\\\\\\\n",
       "\\\\\\\n",
       "\\\\\\\n",
       "\\\\\\\n",
       "\\\\\\\n",
       "\\\\\\\n",
       "\\\\\\\n",
       "\\\\\\\n",
       "\\\\\\\n",
       "$$\n",
       "![Filzringe](Abdichtung_der_Lagerstelle.png)\n",
       "\n",
       "$$\n",
       "\\\\\\\n",
       "\\\\\\\n",
       "\\\\\\\n",
       "\\\\\\\n",
       "\\\\\\\n",
       "\\\\\\\n",
       "\\\\\\\n",
       "\\\\\\\n",
       "\\\\\\\n",
       "\\\\\\\n",
       "$$\n",
       " "
      ],
      "text/plain": [
       "<IPython.core.display.Markdown object>"
      ]
     },
     "metadata": {},
     "output_type": "display_data"
    },
    {
     "data": {
      "text/markdown": [
       "\n",
       "                 \n",
       "#### Äußer Durchmesser $$D_{a.l} = 650 \\ mm $$\n",
       "#### Innere Durchmesser $$D_{i.l} = 460 \\ mm $$\n",
       "\n",
       "#### $$A_{a} = N_{max} = 10000 \\ N$$\n",
       "#### $$A_{r} = Q_{max} = 1600000 \\ N$$\n",
       "\n",
       "\n",
       "### Drehzahl bestimmen:\n",
       "\n",
       "$$\n",
       "\\Large\n",
       "n=20.000 \\ min^-1\n",
       "$$\n",
       "\n",
       "\n",
       "### Die dynamische äquivalente Belastung P ist ein rechnerischer Wert, \n",
       "### der in Größe und Richtung konstante Radiallast oder Axiallast, Hier gibt es nur eine Radiallast\n",
       "$\\large X=1 \\ \\ \\ $   $Y=1$\n",
       "\n",
       "$$\n",
       "\\Large\n",
       "P_{A}= X \\cdot A_{r} + Y \\cdot A_{a} =  1\\cdot 1600000 + 1 \\cdot 10000 = 1610000 \\ N\n",
       "$$\n"
      ],
      "text/plain": [
       "<IPython.core.display.Markdown object>"
      ]
     },
     "metadata": {},
     "output_type": "display_data"
    }
   ],
   "source": [
    "d_scheibe = 250 # mm\n",
    "v_seil=20000 # mm/min\n",
    "# n=v_seil/(d_scheibe * math.pi)\n",
    "n=20\n",
    "Nmax=10000\n",
    "Qmax=1600000 # N\n",
    "D_a_l=650\n",
    "D_i_l=460\n",
    "X=1\n",
    "Y=1\n",
    "Aa=Nmax\n",
    "Ar=Qmax # KN\n",
    "P_a =X*Ar + Y* Aa\n",
    "p=10/3\n",
    "display(Markdown(f\"\"\"\n",
    "# Auswahl der Loslager\n",
    "\n",
    "### Der Festlager wird hier als Vierreihige Zylinderrollenlager (Kurzzeichen 635043) ausgewählt\n",
    "#### Der lager kommt ohne schmierstoff and Abdichtung.\n",
    "#### für das Schmieren wird Fett-Lebensdauerschmierung benötigt , da Wartung an der Anlage teuer und sehr Aufwändig ist\n",
    "#### für die Abdichtubng : Filzringdichtungen\n",
    "#### Filzringe sind einfache Dichtungselemente bei Fettschmierung\n",
    "\n",
    "#### Filzringe sind einfache Dichtungselemente, die sich vor allem bei Fettschmierung bewähren . Der Filz bildet nach kurzer Laufzeit eine vorspannungsfrei anliegende Dichtfläche mit sehr guter Dichtwirkung gegen Staub. Die Ringe werden vor dem Einbau mit Öl getränkt.\n",
    "#### Betriebstemperaturen bis +100 °C sind möglich. Bei höheren Temperaturen sind Dichtringe aus gewickelten Garnen erforderlich, die aus PTFE-, Graphit- oder Aramid- und Glasfasern bestehen und mit PTFE oder Graphit imprägniert sind.\n",
    "\n",
    "\"\"\"))\n",
    "\n",
    "display(Markdown(\"\"\" \n",
    "$$\n",
    "\\\\\\\\\\\\\n",
    "\\\\\\\\\\\\\n",
    "\\\\\\\\\\\\\n",
    "\\\\\\\\\\\\\n",
    "\\\\\\\\\\\\\n",
    "\\\\\\\\\\\\\n",
    "\\\\\\\\\\\\\n",
    "\\\\\\\\\\\\\n",
    "\\\\\\\\\\\\\n",
    "\\\\\\\\\\\\\n",
    "$$\n",
    "![Filzringe](Abdichtung_der_Lagerstelle.png)\n",
    "\n",
    "$$\n",
    "\\\\\\\\\\\\\n",
    "\\\\\\\\\\\\\n",
    "\\\\\\\\\\\\\n",
    "\\\\\\\\\\\\\n",
    "\\\\\\\\\\\\\n",
    "\\\\\\\\\\\\\n",
    "\\\\\\\\\\\\\n",
    "\\\\\\\\\\\\\n",
    "\\\\\\\\\\\\\n",
    "\\\\\\\\\\\\\n",
    "$$\n",
    " \"\"\"))\n",
    "display(Markdown(f\"\"\"\n",
    "                 \n",
    "#### Äußer Durchmesser $$D_{{a.l}} = {D_a_l} \\\\ mm $$\n",
    "#### Innere Durchmesser $$D_{{i.l}} = {D_i_l} \\\\ mm $$\n",
    "\n",
    "#### $$A_{{a}} = N_{{max}} = {Nmax} \\\\ N$$\n",
    "#### $$A_{{r}} = Q_{{max}} = {Qmax} \\\\ N$$\n",
    "\n",
    "\n",
    "### Drehzahl bestimmen:\n",
    "\n",
    "$$\n",
    "\\Large\n",
    "n={n:.3f} \\\\ min^-1\n",
    "$$\n",
    "\n",
    "\n",
    "### Die dynamische äquivalente Belastung P ist ein rechnerischer Wert, \n",
    "### der in Größe und Richtung konstante Radiallast oder Axiallast, Hier gibt es nur eine Radiallast\n",
    "$\\large X={X} \\\\ \\\\ \\\\ $   $Y={Y}$\n",
    "\n",
    "$$\n",
    "\\Large\n",
    "P_{{A}}= X \\cdot A_{{r}} + Y \\cdot A_{{a}} =  {X }\\cdot {Ar} + {Y} \\cdot {Aa} = {P_a} \\\\ N\n",
    "$$\n",
    "\"\"\"))\n",
    "\n",
    "# $$\n",
    "# \\Large\n",
    "# n=\\\\frac{{v_{{seil}}}}{{d_{{scheibe}} \\cdot \\pi }} =\\\\frac{{{v_seil} \\\\ mm /min}}{{{d_scheibe} \\\\ mm \\cdot \\pi }} = {n:.3f} \\\\ min^-1\n",
    "# $$"
   ]
  },
  {
   "cell_type": "code",
   "execution_count": 93,
   "metadata": {},
   "outputs": [
    {
     "data": {
      "text/markdown": [
       "\n",
       "# Lebensdauerexponent für Rollenlager\n",
       "                 \n",
       "### $C_{r.l}=8250000$ N dynamische Tragzahlen\n",
       "### $C_{0r.l}=8250000$ N statische Tragzahlen\n",
       "\n",
       "$$\n",
       "\\Large\n",
       "L_{10.h_{d.l}}=\\frac{16666}{n}\\cdot (\\frac{C_{r.l}}{P_{A}})^P = \n",
       "\\frac{16666}{20.000 \\ min^-1}\\cdot (\\frac{8250000 \\ N }{1610000 \\ N})^3.3 = 3221.640 \\ hr\n",
       "$$\n"
      ],
      "text/plain": [
       "<IPython.core.display.Markdown object>"
      ]
     },
     "metadata": {},
     "output_type": "display_data"
    }
   ],
   "source": [
    "C_rl=8250000 # n\n",
    "C0_rl=18300000 # n\n",
    "L_10h_dl=((16666/n)*math.pow(C_rl/P_a , p))/60\n",
    "display(Markdown(f\"\"\"\n",
    "# Lebensdauerexponent für Rollenlager\n",
    "                 \n",
    "### $C_{{r.l}}={C_rl}$ N dynamische Tragzahlen\n",
    "### $C_{{0r.l}}={C_rl}$ N statische Tragzahlen\n",
    "\n",
    "$$\n",
    "\\Large\n",
    "L_{{10.h_{{d.l}}}}=\\\\frac{{16666}}{{n}}\\cdot (\\\\frac{{C_{{r.l}}}}{{P_{{A}}}})^P = \n",
    "\\\\frac{{16666}}{{{n:.3f} \\\\ min^-1}}\\cdot (\\\\frac{{{C_rl} \\\\ N }}{{{P_a} \\\\ N}})^{p:.1f} = {L_10h_dl:.3f} \\\\ hr\n",
    "$$\n",
    "\"\"\"))"
   ]
  },
  {
   "cell_type": "code",
   "execution_count": 94,
   "metadata": {},
   "outputs": [
    {
     "data": {
      "text/markdown": [
       "\n",
       "$$\n",
       "\\Large\n",
       "L_{10.h_{s.l}}=\\frac{16666}{n}\\cdot (\\frac{C_{0.r.l}}{P_{A}})^P = \n",
       "\\frac{16666}{20.000 \\ min^-1}\\cdot (\\frac{18300000 \\ N }{1610000 \\ N})^3.3 = 45856.494 \\ hr\n",
       "$$\n"
      ],
      "text/plain": [
       "<IPython.core.display.Markdown object>"
      ]
     },
     "metadata": {},
     "output_type": "display_data"
    }
   ],
   "source": [
    "\n",
    "L_10h_sl=((16666/n)*math.pow(C0_rl/P_a , p))/60\n",
    "display(Markdown(f\"\"\"\n",
    "$$\n",
    "\\Large\n",
    "L_{{10.h_{{s.l}}}}=\\\\frac{{16666}}{{n}}\\cdot (\\\\frac{{C_{{0.r.l}}}}{{P_{{A}}}})^P = \n",
    "\\\\frac{{16666}}{{{n:.3f} \\\\ min^-1}}\\cdot (\\\\frac{{{C0_rl} \\\\ N }}{{{P_a} \\\\ N}})^{p:.1f} = {L_10h_sl:.3f} \\\\ hr\n",
    "$$\n",
    "\"\"\"))"
   ]
  },
  {
   "cell_type": "code",
   "execution_count": 95,
   "metadata": {},
   "outputs": [
    {
     "data": {
      "text/markdown": [
       "\n",
       "\n",
       "## Modifizierter Lebensdauer Berechnung:\n",
       "### Lebensdauerbeiwert für eine Erlebneswahrscheinlichkeit von 97% ,$a_{1}=0.47$, damit 97% Überlebenswharscheinlichekit gewähreistet wird (Tabelle von Lagerkatalog S.XX). Lebensdauerbeiwert für Standard-WälzlagerStahl: Der Lebensdauerbeiwert ist für normale Lagerwerkstoff mit $a_{2} = 1$ zu Wählen\n",
       "### Lebensdauerbeiwert für besondere Betriebsbedingungen : $a_{3}$\n",
       "\n",
       "\n",
       "### Mittlere Durchmesser des Lagers:\n",
       "\n",
       "$$\n",
       "\\Large\n",
       "D_{m.l}=\\frac{D_{a.l} + D_{i.l} }{2} = \\frac{650 \\ mm + 460 \\ mm}{2} = 555.0 \\ mm\n",
       "$$\n",
       "\n"
      ],
      "text/plain": [
       "<IPython.core.display.Markdown object>"
      ]
     },
     "metadata": {},
     "output_type": "display_data"
    }
   ],
   "source": [
    "a_1=0.47\n",
    "a_2=1\n",
    "D_ml=(D_a_l+D_i_l)/2\n",
    "display(Markdown(f\"\"\"\n",
    "\n",
    "## Modifizierter Lebensdauer Berechnung:\n",
    "### Lebensdauerbeiwert für eine Erlebneswahrscheinlichkeit von 97% ,$a_{{1}}={a_1}$, damit 97% Überlebenswharscheinlichekit gewähreistet wird (Tabelle von Lagerkatalog S.XX). Lebensdauerbeiwert für Standard-WälzlagerStahl: Der Lebensdauerbeiwert ist für normale Lagerwerkstoff mit $a_{{2}} = {a_2}$ zu Wählen\n",
    "### Lebensdauerbeiwert für besondere Betriebsbedingungen : $a_{{3}}$\n",
    "\n",
    "\n",
    "### Mittlere Durchmesser des Lagers:\n",
    "\n",
    "$$\n",
    "\\Large\n",
    "D_{{m.l}}=\\\\frac{{D_{{a.l}} + D_{{i.l}} }}{{2}} = \\\\frac{{{D_a_l} \\\\ mm + {D_i_l} \\\\ mm}}{{2}} = {D_ml} \\\\ mm\n",
    "$$\n",
    "\n",
    "\"\"\"))"
   ]
  },
  {
   "cell_type": "code",
   "execution_count": 96,
   "metadata": {},
   "outputs": [
    {
     "data": {
      "text/markdown": [
       "\n",
       "## Bezugsviskosität\n",
       "\n",
       "### Bezugsviskosität $v_{1.l}$ bei $n=20.000 \\ \\frac{1}{min}$ wird aus dem Diagramm (Skript ME II S.32 ) abgelesen:\n",
       "\n",
       "$$\n",
       "\\Large\n",
       "v_{1.l} = 190 \\ \\frac{mm^2}{s}\n",
       "$$\n",
       "\n",
       "### Und die Betriebsviskosität bei Betriebstemperatur 50 C beträgt:\n",
       "$$\n",
       "\\Large\n",
       "v_{l} = 110 \\ \\frac{mm^2}{s}\n",
       "$$\n",
       "\n",
       "### Die Viskositätsverhaltnis ist:\n",
       "\n",
       "$$\n",
       "\\Large\n",
       "k= \\frac{v_{l}}{v_{1.l}} = \\frac{110}{190} = 0.579\n",
       "$$\n",
       "\n",
       "### Mir der Annahme von hochste Sauberkeit wird a3-Lebensdauer von dem Diagramm im Lagerkatalog abgelesen\n",
       "\n",
       "$$\n",
       "\\Large\n",
       "L_{3m.s.l} = a_{1} \\cdot a_{2} \\cdot a_{3.1} \\cdot L_{10h.s.l}\n",
       "= 0.47 \\cdot 1 \\cdot 2 \\cdot 45856.494 = 43105.104 \\ hr\n",
       "$$\n",
       "$$\n",
       "\\Large\n",
       "L_{3m.d.l} = a_{1} \\cdot a_{2} \\cdot a_{3.1} \\cdot L_{10h.d.l}\n",
       "= 0.47 \\cdot 1 \\cdot 2 \\cdot 3221.640 = 3028.342 \\ hr\n",
       "$$\n",
       "\n",
       "### Hier kann man sehen dass dieses Wert für das Project nicht ausreicht , und andere Lagern mit selbem, Duchmesser  mit hohem dynamisch / statsich Tragzahl gibt es nicht .\n",
       "### Aufgrund von dies brauchen wir einen Lager mit grosseren Duchmesser \n",
       "\n"
      ],
      "text/plain": [
       "<IPython.core.display.Markdown object>"
      ]
     },
     "metadata": {},
     "output_type": "display_data"
    }
   ],
   "source": [
    "v_1l=190 # mm*mm/s\n",
    "v_l=110 \n",
    "k=v_l/v_1l\n",
    "a_31=2\n",
    "L_3m_s_l=a_1*a_2*a_31*L_10h_sl\n",
    "L_3m_d_l=a_1*a_2*a_31*L_10h_dl\n",
    "v_1l_new=4500 * math.pow(n , -0.5)*math.pow(D_ml , -0.5)\n",
    "display(Markdown(f\"\"\"\n",
    "## Bezugsviskosität\n",
    "\n",
    "### Bezugsviskosität $v_{{1.l}}$ bei $n={n:.3f} \\\\ \\\\frac{{1}}{{min}}$ wird aus dem Diagramm (Skript ME II S.32 ) abgelesen:\n",
    "\n",
    "$$\n",
    "\\Large\n",
    "v_{{1.l}} = {v_1l} \\\\ \\\\frac{{mm^2}}{{s}}\n",
    "$$\n",
    "\n",
    "### Und die Betriebsviskosität bei Betriebstemperatur {50} C beträgt:\n",
    "$$\n",
    "\\Large\n",
    "v_{{l}} = {v_l} \\\\ \\\\frac{{mm^2}}{{s}}\n",
    "$$\n",
    "\n",
    "### Die Viskositätsverhaltnis ist:\n",
    "\n",
    "$$\n",
    "\\Large\n",
    "k= \\\\frac{{v_{{l}}}}{{v_{{1.l}}}} = \\\\frac{{{v_l}}}{{{v_1l}}} = {k:.3f}\n",
    "$$\n",
    "\n",
    "### Mir der Annahme von hochste Sauberkeit wird a3-Lebensdauer von dem Diagramm im Lagerkatalog abgelesen\n",
    "\n",
    "$$\n",
    "\\Large\n",
    "L_{{3m.s.l}} = a_{{1}} \\cdot a_{{2}} \\cdot a_{{3.1}} \\cdot L_{{10h.s.l}}\n",
    "= {a_1} \\cdot {a_2} \\cdot {a_31} \\cdot {L_10h_sl:.3f} = {L_3m_s_l:.3f} \\\\ hr\n",
    "$$\n",
    "$$\n",
    "\\Large\n",
    "L_{{3m.d.l}} = a_{{1}} \\cdot a_{{2}} \\cdot a_{{3.1}} \\cdot L_{{10h.d.l}}\n",
    "= {a_1} \\cdot {a_2} \\cdot {a_31} \\cdot {L_10h_dl:.3f} = {L_3m_d_l:.3f} \\\\ hr\n",
    "$$\n",
    "\n",
    "### Hier kann man sehen dass dieses Wert für das Project nicht ausreicht , und andere Lagern mit selbem, Duchmesser  mit hohem dynamisch / statsich Tragzahl gibt es nicht .\n",
    "### Aufgrund von dies brauchen wir einen Lager mit grosseren Duchmesser \n",
    "\n",
    "\"\"\"))"
   ]
  }
 ],
 "metadata": {
  "kernelspec": {
   "display_name": "base",
   "language": "python",
   "name": "python3"
  },
  "language_info": {
   "codemirror_mode": {
    "name": "ipython",
    "version": 3
   },
   "file_extension": ".py",
   "mimetype": "text/x-python",
   "name": "python",
   "nbconvert_exporter": "python",
   "pygments_lexer": "ipython3",
   "version": "3.9.12"
  }
 },
 "nbformat": 4,
 "nbformat_minor": 2
}
