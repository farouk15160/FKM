{
 "cells": [
  {
   "cell_type": "code",
   "execution_count": 1,
   "metadata": {},
   "outputs": [],
   "source": [
    "from IPython.display import display, Markdown\n"
   ]
  },
  {
   "cell_type": "code",
   "execution_count": 4,
   "metadata": {},
   "outputs": [
    {
     "data": {
      "text/markdown": [
       "\n",
       "\n",
       "# Oberflächenbeschaffenheit                 \n",
       "\n",
       "$$\n",
       "\\\\\\\n",
       "\\\\\\\n",
       "\\\\\\\n",
       "\\\\\\\n",
       "\\\\\\\n",
       "\\\\\\\n",
       "\\\\\\\n",
       "\\\\\\\n",
       "$$\n",
       "\n",
       "![Filzringe](TB.png)\n",
       "                 \n",
       "                 \n"
      ],
      "text/plain": [
       "<IPython.core.display.Markdown object>"
      ]
     },
     "metadata": {},
     "output_type": "display_data"
    }
   ],
   "source": [
    "display(Markdown(f\"\"\"\n",
    "\n",
    "# Oberflächenbeschaffenheit                 \n",
    "\n",
    "$$\n",
    "\\\\\\\\\\\\\n",
    "\\\\\\\\\\\\\n",
    "\\\\\\\\\\\\\n",
    "\\\\\\\\\\\\\n",
    "\\\\\\\\\\\\\n",
    "\\\\\\\\\\\\\n",
    "\\\\\\\\\\\\\n",
    "\\\\\\\\\\\\\n",
    "$$\n",
    "\n",
    "![Filzringe](TB.png)\n",
    "                 \n",
    "                 \n",
    "\"\"\"))"
   ]
  },
  {
   "cell_type": "code",
   "execution_count": 5,
   "metadata": {},
   "outputs": [
    {
     "data": {
      "text/markdown": [
       "\n",
       "                 \n",
       "Der Rauheitsfaktor einer Welle, auch als Rauheitswert oder Rauigkeit bezeichnet, hängt stark von der Anwendung und den spezifischen Anforderungen an die Welle ab. Allgemein wird der Rauheitswert durch den Parameter \\( R_a \\) beschrieben, der die mittlere Rauheit der Oberfläche angibt. \n",
       "\n",
       "Hier sind einige typische Werte für den Rauheitsfaktor \\( R_a \\) in verschiedenen Anwendungen:\n",
       "\n",
       "1. *Gleitlagerwellen:* \\( R_a \\) von 0,2 bis 0,8 µm.\n",
       "2. *Kugellagerwellen:* \\( R_a \\) von 0,1 bis 0,4 µm.\n",
       "3. *Hydraulikkomponenten:* \\( R_a \\) von 0,2 bis 0,4 µm.\n",
       "4. *Allgemeine Maschinenelemente:* \\( R_a \\) von 1,6 bis 3,2 µm.\n",
       "\n",
       "Diese Werte sind jedoch nur Richtwerte. Die genaue Rauigkeit muss in den technischen Zeichnungen und Spezifikationen der jeweiligen Welle festgelegt werden, abhängig von der Funktion der Welle und den Betriebsbedingungen.\n",
       "\n",
       "Wenn du spezifische Anforderungen oder Anwendungen hast, kann ich dir genauere Informationen geben. Für eine detaillierte Auslegung sollte auch die Verwendung von Normen wie DIN ISO 1302 (Geometrische Produktspezifikation (GPS) - Angabe von Oberflächenbeschaffenheit) in Betracht gezogen werden.                 \n"
      ],
      "text/plain": [
       "<IPython.core.display.Markdown object>"
      ]
     },
     "metadata": {},
     "output_type": "display_data"
    }
   ],
   "source": [
    "display(Markdown(f\"\"\"\n",
    "                 \n",
    "Der Rauheitsfaktor einer Welle, auch als Rauheitswert oder Rauigkeit bezeichnet, hängt stark von der Anwendung und den spezifischen Anforderungen an die Welle ab. Allgemein wird der Rauheitswert durch den Parameter \\( R_a \\) beschrieben, der die mittlere Rauheit der Oberfläche angibt. \n",
    "\n",
    "Hier sind einige typische Werte für den Rauheitsfaktor \\( R_a \\) in verschiedenen Anwendungen:\n",
    "\n",
    "1. *Gleitlagerwellen:* \\( R_a \\) von 0,2 bis 0,8 µm.\n",
    "2. *Kugellagerwellen:* \\( R_a \\) von 0,1 bis 0,4 µm.\n",
    "3. *Hydraulikkomponenten:* \\( R_a \\) von 0,2 bis 0,4 µm.\n",
    "4. *Allgemeine Maschinenelemente:* \\( R_a \\) von 1,6 bis 3,2 µm.\n",
    "\n",
    "Diese Werte sind jedoch nur Richtwerte. Die genaue Rauigkeit muss in den technischen Zeichnungen und Spezifikationen der jeweiligen Welle festgelegt werden, abhängig von der Funktion der Welle und den Betriebsbedingungen.\n",
    "\n",
    "Wenn du spezifische Anforderungen oder Anwendungen hast, kann ich dir genauere Informationen geben. Für eine detaillierte Auslegung sollte auch die Verwendung von Normen wie DIN ISO 1302 (Geometrische Produktspezifikation (GPS) - Angabe von Oberflächenbeschaffenheit) in Betracht gezogen werden.                 \n",
    "\"\"\"))"
   ]
  }
 ],
 "metadata": {
  "kernelspec": {
   "display_name": "base",
   "language": "python",
   "name": "python3"
  },
  "language_info": {
   "codemirror_mode": {
    "name": "ipython",
    "version": 3
   },
   "file_extension": ".py",
   "mimetype": "text/x-python",
   "name": "python",
   "nbconvert_exporter": "python",
   "pygments_lexer": "ipython3",
   "version": "3.9.12"
  }
 },
 "nbformat": 4,
 "nbformat_minor": 2
}
