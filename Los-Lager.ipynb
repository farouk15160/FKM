{
 "cells": [
  {
   "cell_type": "code",
   "execution_count": 35,
   "metadata": {},
   "outputs": [],
   "source": [
    "from IPython.display import display, Markdown\n",
    "import math\n",
    "import numpy\n"
   ]
  },
  {
   "cell_type": "code",
   "execution_count": 36,
   "metadata": {},
   "outputs": [
    {
     "data": {
      "text/markdown": [
       "\n",
       "# Auswahl der Loslager\n",
       "\n",
       "### Die Loslager wird hier als Kugelager (Kurzzeichen N209-E-TVP2) ausgewählt\n",
       "#### Äußer Durchmesser $ D_{a.l} = 145 \\ mm $\n",
       "#### Innere Durchmesser $ D_{i.l} = 65 \\ mm $\n",
       "\n",
       "#### $ A_{a} = N_{max} = 0 \\ KN $\n",
       "#### $ A_{r} = Q_{max} = 0 \\ KN $\n",
       "\n",
       "\n",
       "### Drehzahl bestimmen:\n",
       "\n",
       "$$\n",
       "\\large\n",
       "n=\\frac{v_{seil}}{d_{scheibe} \\cdot \\pi } =\\frac{1 \\ m /min}{2 \\ mm \\cdot \\pi } = 0.159 \\ min^-1\n",
       "$$\n",
       "\n",
       "\n",
       "### Die dynamische äquivalente Belastung P ist ein rechnerischer Wert, \n",
       "### der in Größe und Richtung konstante Radiallast oder Axiallast, Hier gibt es nur eine Radiallast\n",
       "$\\large X=0 \\ \\ \\ $   $ Y=1 $\n",
       "\n",
       "$$\n",
       "\\large\n",
       "P_{A}= X \\cdot A_{r} + Y \\cdot A_{a} =  0\\cdot 1370 + 1 \\cdot 1\n",
       "$$\n",
       "\n"
      ],
      "text/plain": [
       "<IPython.core.display.Markdown object>"
      ]
     },
     "metadata": {},
     "output_type": "display_data"
    }
   ],
   "source": [
    "d_scheibe = 2 # mm\n",
    "v_seil=1 # m/min\n",
    "Nmax=0\n",
    "Qmax=0\n",
    "n=v_seil/(d_scheibe * math.pi)\n",
    "D_a_l=145\n",
    "D_i_l=65\n",
    "X=0\n",
    "Y=1\n",
    "Aa=1\n",
    "Ar=1370 # KN\n",
    "P_a =X*Ar + Y* Aa\n",
    "p=10/3\n",
    "display(Markdown(f\"\"\"\n",
    "# Auswahl der Loslager\n",
    "\n",
    "### Die Loslager wird hier als Kugelager (Kurzzeichen N209-E-TVP2) ausgewählt\n",
    "#### Äußer Durchmesser $ D_{{a.l}} = {D_a_l} \\\\ mm $\n",
    "#### Innere Durchmesser $ D_{{i.l}} = {D_i_l} \\\\ mm $\n",
    "\n",
    "#### $ A_{{a}} = N_{{max}} = {Nmax} \\\\ KN $\n",
    "#### $ A_{{r}} = Q_{{max}} = {Qmax} \\\\ KN $\n",
    "\n",
    "\n",
    "### Drehzahl bestimmen:\n",
    "\n",
    "$$\n",
    "\\large\n",
    "n=\\\\frac{{v_{{seil}}}}{{d_{{scheibe}} \\cdot \\pi }} =\\\\frac{{{v_seil} \\\\ m /min}}{{{d_scheibe} \\\\ mm \\cdot \\pi }} = {n:.3f} \\\\ min^-1\n",
    "$$\n",
    "\n",
    "\n",
    "### Die dynamische äquivalente Belastung P ist ein rechnerischer Wert, \n",
    "### der in Größe und Richtung konstante Radiallast oder Axiallast, Hier gibt es nur eine Radiallast\n",
    "$\\large X={X} \\\\ \\\\ \\\\ $   $ Y={Y} $\n",
    "\n",
    "$$\n",
    "\\large\n",
    "P_{{A}}= X \\cdot A_{{r}} + Y \\cdot A_{{a}} =  {X }\\cdot {Ar} + {Y} \\cdot {Aa}\n",
    "$$\n",
    "\n",
    "\"\"\"))"
   ]
  },
  {
   "cell_type": "code",
   "execution_count": 37,
   "metadata": {},
   "outputs": [
    {
     "data": {
      "text/markdown": [
       "\n",
       "# Lebensdauerexponent für Rollenlager\n",
       "                 \n"
      ],
      "text/plain": [
       "<IPython.core.display.Markdown object>"
      ]
     },
     "metadata": {},
     "output_type": "display_data"
    }
   ],
   "source": [
    "display(Markdown(f\"\"\"\n",
    "# Lebensdauerexponent für Rollenlager\n",
    "                 \n",
    "\"\"\"))"
   ]
  }
 ],
 "metadata": {
  "kernelspec": {
   "display_name": "base",
   "language": "python",
   "name": "python3"
  },
  "language_info": {
   "codemirror_mode": {
    "name": "ipython",
    "version": 3
   },
   "file_extension": ".py",
   "mimetype": "text/x-python",
   "name": "python",
   "nbconvert_exporter": "python",
   "pygments_lexer": "ipython3",
   "version": "3.9.12"
  }
 },
 "nbformat": 4,
 "nbformat_minor": 2
}
