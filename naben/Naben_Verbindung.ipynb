{
 "cells": [
  {
   "cell_type": "code",
   "execution_count": 340,
   "metadata": {},
   "outputs": [],
   "source": [
    "from IPython.display import display, Markdown"
   ]
  },
  {
   "cell_type": "code",
   "execution_count": 341,
   "metadata": {},
   "outputs": [
    {
     "data": {
      "text/markdown": [
       "\n",
       "# Pass- und Scheibenfederverbindungen\n",
       "\n",
       "### Pass- und Scheibenfederverbindungen sind gebräuchliche Formschlussverbindungen für Riemenscheiben, Zahnräder, Kupplungen u. dgl. mit Wellen bei vorwiegend einseitig wirkenden Drehmomenten (Passfederverbindungen mit Einschränkung auch bei wechselnden oder stoßbehafteten Drehmomenten). Sie sind einfach montier- bzw. demontierbar.\n",
       "\n",
       "$$\n",
       "\\\\\\\n",
       "\\\\\\\n",
       "\\\\\\\n",
       "\\\\\\\n",
       "\\\\\\\n",
       "\\\\\\\n",
       "$$\n",
       "\n",
       "![Filzringe](Welle_Tabelle.png)\n",
       "$$\n",
       "\\\\\\\n",
       "\\\\\\\n",
       "\\\\\\\n",
       "\\\\\\\n",
       "\\\\\\\n",
       "\\\\\\\n",
       "$$\n",
       "                 "
      ],
      "text/plain": [
       "<IPython.core.display.Markdown object>"
      ]
     },
     "metadata": {},
     "output_type": "display_data"
    }
   ],
   "source": [
    "display(Markdown(f\"\"\"\n",
    "# Pass- und Scheibenfederverbindungen\n",
    "\n",
    "### Pass- und Scheibenfederverbindungen sind gebräuchliche Formschlussverbindungen für Riemenscheiben, Zahnräder, Kupplungen u. dgl. mit Wellen bei vorwiegend einseitig wirkenden Drehmomenten (Passfederverbindungen mit Einschränkung auch bei wechselnden oder stoßbehafteten Drehmomenten). Sie sind einfach montier- bzw. demontierbar.\n",
    "\n",
    "$$\n",
    "\\\\\\\\\\\\\n",
    "\\\\\\\\\\\\\n",
    "\\\\\\\\\\\\\n",
    "\\\\\\\\\\\\\n",
    "\\\\\\\\\\\\\n",
    "\\\\\\\\\\\\\n",
    "$$\n",
    "\n",
    "![Filzringe](Welle_Tabelle.png)\n",
    "$$\n",
    "\\\\\\\\\\\\\n",
    "\\\\\\\\\\\\\n",
    "\\\\\\\\\\\\\n",
    "\\\\\\\\\\\\\n",
    "\\\\\\\\\\\\\n",
    "\\\\\\\\\\\\\n",
    "$$\n",
    "                 \"\"\"))"
   ]
  },
  {
   "cell_type": "code",
   "execution_count": 342,
   "metadata": {},
   "outputs": [
    {
     "data": {
      "text/markdown": [
       "\n",
       "## Hier kann abgelesen werden ,dass bei höher Belastung die Keilverbindung am besten geeingt ist. \n",
       "\n",
       "# Keilwellenverbindungen  \n",
       "\n",
       "### Keilwellenprofile werden als drehstarre Verbindungen von Welle und Nabe (z. B. bei Antriebswellen von Kraftfahrzeugen) und als längsbewegliche Verbindungen (z. B. Verschieberädergetriebe von Werkzeugmaschinen) überall dort eingesetzt, wo aufgrund der zu übertragenden größeren, wechselnden und stoßartigen Drehmomente der Einsatz von Pass- und Gleitfedern nicht in Betracht kommt.\n",
       "### Im Maschinenbau (einschl. Kfz-Bau) werden Keilwellenprofile nach **DIN ISO 14** (leichte und mittlere Reihe) sowie **DIN 5464** (schwere Reihe) eingesetzt\n",
       "## - Können große Drehmoment übertragen. -Sind axial verschiebbar.\n",
       "$$\n",
       "\\\\\\\n",
       "\\\\\\\n",
       "\\\\\\\n",
       "\\\\\\\n",
       "\\\\\\\n",
       "\\\\\\\n",
       "$$\n",
       "![Filzringe](Spline-shaft.png)\n",
       "$$\n",
       "\\\\\\\n",
       "\\\\\\\n",
       "\\\\\\\n",
       "\\\\\\\n",
       "\\\\\\\n",
       "\\\\\\\n",
       "$$\n",
       "\n"
      ],
      "text/plain": [
       "<IPython.core.display.Markdown object>"
      ]
     },
     "metadata": {},
     "output_type": "display_data"
    }
   ],
   "source": [
    "display(Markdown(f\"\"\"\n",
    "## Hier kann abgelesen werden ,dass bei höher Belastung die Keilverbindung am besten geeingt ist. \n",
    "\n",
    "# Keilwellenverbindungen  \n",
    "\n",
    "### Keilwellenprofile werden als drehstarre Verbindungen von Welle und Nabe (z. B. bei Antriebswellen von Kraftfahrzeugen) und als längsbewegliche Verbindungen (z. B. Verschieberädergetriebe von Werkzeugmaschinen) überall dort eingesetzt, wo aufgrund der zu übertragenden größeren, wechselnden und stoßartigen Drehmomente der Einsatz von Pass- und Gleitfedern nicht in Betracht kommt.\n",
    "### Im Maschinenbau (einschl. Kfz-Bau) werden Keilwellenprofile nach **DIN ISO 14** (leichte und mittlere Reihe) sowie **DIN 5464** (schwere Reihe) eingesetzt\n",
    "## - Können große Drehmoment übertragen. -Sind axial verschiebbar.\n",
    "$$\n",
    "\\\\\\\\\\\\\n",
    "\\\\\\\\\\\\\n",
    "\\\\\\\\\\\\\n",
    "\\\\\\\\\\\\\n",
    "\\\\\\\\\\\\\n",
    "\\\\\\\\\\\\\n",
    "$$\n",
    "![Filzringe](Spline-shaft.png)\n",
    "$$\n",
    "\\\\\\\\\\\\\n",
    "\\\\\\\\\\\\\n",
    "\\\\\\\\\\\\\n",
    "\\\\\\\\\\\\\n",
    "\\\\\\\\\\\\\n",
    "\\\\\\\\\\\\\n",
    "$$\n",
    "\n",
    "\"\"\"))"
   ]
  },
  {
   "cell_type": "code",
   "execution_count": 343,
   "metadata": {},
   "outputs": [
    {
     "data": {
      "text/markdown": [
       "\n",
       "                 \n",
       "$$\n",
       "\\\\\\\n",
       "\\\\\\\n",
       "\\\\\\\n",
       "\\\\\\\n",
       "\\\\\\\n",
       "\\\\\\\n",
       "$$\n",
       "![Filzringe](Keilverbindung.png)\n",
       "$$\n",
       "\\\\\\\n",
       "\\\\\\\n",
       "\\\\\\\n",
       "\\\\\\\n",
       "\\\\\\\n",
       "\\\\\\\n",
       "$$\n",
       "                 "
      ],
      "text/plain": [
       "<IPython.core.display.Markdown object>"
      ]
     },
     "metadata": {},
     "output_type": "display_data"
    }
   ],
   "source": [
    "display(Markdown(f\"\"\"\n",
    "                 \n",
    "$$\n",
    "\\\\\\\\\\\\\n",
    "\\\\\\\\\\\\\n",
    "\\\\\\\\\\\\\n",
    "\\\\\\\\\\\\\n",
    "\\\\\\\\\\\\\n",
    "\\\\\\\\\\\\\n",
    "$$\n",
    "![Filzringe](Keilverbindung.png)\n",
    "$$\n",
    "\\\\\\\\\\\\\n",
    "\\\\\\\\\\\\\n",
    "\\\\\\\\\\\\\n",
    "\\\\\\\\\\\\\n",
    "\\\\\\\\\\\\\n",
    "\\\\\\\\\\\\\n",
    "$$\n",
    "                 \"\"\"))"
   ]
  },
  {
   "cell_type": "code",
   "execution_count": 344,
   "metadata": {},
   "outputs": [
    {
     "data": {
      "text/markdown": [
       "\n",
       "\n",
       "# Berechnung                 \n",
       "\n",
       "### Eine Berechnung von Keilwellenverbindungen ist bei ausreichendem Wellendurchmesser (maßgebend ist der Kerndurchmesser) und normalen Nabenabmessungen (**s. TB 12-1**) nicht erforderlich. Nur bei sehr kurzen Naben ist eine Nachprüfung der Flächenpressung an den „Keil‘‘-Flächen zweckma¨ ßig. Mit der Annahme, dass durch nicht zu vermeidende Herstellungsungenauigkeiten nur circa 75% der „Keile‘‘ tragen, wird die vorhandene mittlere Flächenpressung\n",
       "\n",
       "$$\n",
       "\\Large\n",
       "p_{m}=\\frac{2 \\cdot T}{d_{m} \\cdot L \\cdot h´ \\cdot K \\cdot n } ≤ p_{zul}\n",
       "$$ \n",
       "\n",
       "#### T $\\ \\ \\ \\ \\ \\ \\ \\ \\ \\ \\ \\ $ zu übertragendes Drehmoment; bei dynamischer Belastung T = $K_{A}  \\cdot T_{nenn} $, bei statischer Belastung T = $T_{max} $\n",
       "#### $K_{A}  \\ \\ \\ \\ \\ \\ \\ \\ $ Anwendungsfaktor nach **TB3-5**\n",
       "#### $d_{m}  \\ \\ \\ \\ \\ \\ \\  \\ \\ $ mittlerer Profildurchmesser aus $d_{m} = \\frac{(D + d)}{2}$ mit D und d nach **TB 12-3a**\n",
       "\n",
       "#### L $\\ \\ \\ \\ \\ \\ \\ \\ \\ \\ \\ \\ $ Nabenlänge gleich tragende Keillänge\n",
       "#### h`$\\ \\ \\ \\ \\ \\ \\ \\ \\ \\ \\ \\ $ tragende Keilhöhe; unter Berücksichtigung der Fase f wird $h= \\frac{(D-d)}{2-2\\cdot f} = 0.4\\cdot (D-d)$\n",
       "#### n $\\ \\ \\ \\ \\ \\ \\ \\ \\ \\ \\ \\ $  Anzahl der Keile aus **TB 12-3a**\n",
       "#### $p_{zul}  \\ \\ \\ \\ \\ \\ \\ \\ $ zulässige Flächenpressung des „schwächeren‘‘ Werkstoffes (meist Nabe). Anhaltswerte für pzul nach **TB 12-1**\n",
       "#### K  $\\ \\ \\ \\ \\ \\ \\ \\  \\ \\ \\ \\  $ Tragfaktor =0.75 bei Innenzentrierung,0.9 bei Flankenzentrierung\n",
       "                 "
      ],
      "text/plain": [
       "<IPython.core.display.Markdown object>"
      ]
     },
     "metadata": {},
     "output_type": "display_data"
    }
   ],
   "source": [
    "\n",
    "Tnen=8000000*460/2\n",
    "\n",
    "L=400\n",
    "\n",
    "n=20\n",
    "pzul=3\n",
    "Sfmin=1.1\n",
    "Sfmax=1.5\n",
    "D=125\n",
    "d=112\n",
    "b=9\n",
    "KA=1.1\n",
    "T=Tnen * KA\n",
    "h=0.4*(D-d)\n",
    "K=0.9\n",
    "dm=(D+d)/2\n",
    "pm=(2*T)/(dm*L*h*K*n)\n",
    "\n",
    "display(Markdown(f\"\"\"\n",
    "\n",
    "# Berechnung                 \n",
    "\n",
    "### Eine Berechnung von Keilwellenverbindungen ist bei ausreichendem Wellendurchmesser (maßgebend ist der Kerndurchmesser) und normalen Nabenabmessungen (**s. TB 12-1**) nicht erforderlich. Nur bei sehr kurzen Naben ist eine Nachprüfung der Flächenpressung an den „Keil‘‘-Flächen zweckma¨ ßig. Mit der Annahme, dass durch nicht zu vermeidende Herstellungsungenauigkeiten nur circa 75% der „Keile‘‘ tragen, wird die vorhandene mittlere Flächenpressung\n",
    "\n",
    "$$\n",
    "\\Large\n",
    "p_{{m}}=\\\\frac{{2 \\cdot T}}{{d_{{m}} \\cdot L \\cdot h´ \\cdot K \\cdot n }} ≤ p_{{zul}}\n",
    "$$ \n",
    "\n",
    "#### T $\\\\ \\\\ \\\\ \\\\ \\\\ \\\\ \\\\ \\\\ \\\\ \\\\ \\\\ \\\\ $ zu übertragendes Drehmoment; bei dynamischer Belastung T = $K_{{A}}  \\cdot T_{{nenn}} $, bei statischer Belastung T = $T_{{max}} $\n",
    "#### $K_{{A}}  \\\\ \\\\ \\\\ \\\\ \\\\ \\\\ \\\\ \\\\ $ Anwendungsfaktor nach **TB3-5**\n",
    "#### $d_{{m}}  \\\\ \\\\ \\\\ \\\\ \\\\ \\\\ \\\\  \\\\ \\\\ $ mittlerer Profildurchmesser aus $d_{{m}} = \\\\frac{{(D + d)}}{{2}}$ mit D und d nach **TB 12-3a**\n",
    "\n",
    "#### L $\\\\ \\\\ \\\\ \\\\ \\\\ \\\\ \\\\ \\\\ \\\\ \\\\ \\\\ \\\\ $ Nabenlänge gleich tragende Keillänge\n",
    "#### h`$\\\\ \\\\ \\\\ \\\\ \\\\ \\\\ \\\\ \\\\ \\\\ \\\\ \\\\ \\\\ $ tragende Keilhöhe; unter Berücksichtigung der Fase f wird $h= \\\\frac{{(D-d)}}{{2-2\\cdot f}} = 0.4\\cdot (D-d)$\n",
    "#### n $\\\\ \\\\ \\\\ \\\\ \\\\ \\\\ \\\\ \\\\ \\\\ \\\\ \\\\ \\\\ $  Anzahl der Keile aus **TB 12-3a**\n",
    "#### $p_{{zul}}  \\\\ \\\\ \\\\ \\\\ \\\\ \\\\ \\\\ \\\\ $ zulässige Flächenpressung des „schwächeren‘‘ Werkstoffes (meist Nabe). Anhaltswerte für pzul nach **TB 12-1**\n",
    "#### K  $\\\\ \\\\ \\\\ \\\\ \\\\ \\\\ \\\\ \\\\  \\\\ \\\\ \\\\ \\\\  $ Tragfaktor =0.75 bei Innenzentrierung,0.9 bei Flankenzentrierung\n",
    "                 \"\"\"))"
   ]
  },
  {
   "cell_type": "code",
   "execution_count": 345,
   "metadata": {},
   "outputs": [
    {
     "data": {
      "text/markdown": [
       "\n",
       "$$\n",
       "\\\\\\\n",
       "\\\\\\\n",
       "\\\\\\\n",
       "\\\\\\\n",
       "\\\\\\\n",
       "\\\\\\\n",
       "$$\n",
       "\n",
       "\n",
       "## TB 12-1\n",
       "![Filzringe](zulässigeFugenpressung.png)\n",
       "                 "
      ],
      "text/plain": [
       "<IPython.core.display.Markdown object>"
      ]
     },
     "metadata": {},
     "output_type": "display_data"
    }
   ],
   "source": [
    "display(Markdown(f\"\"\"\n",
    "$$\n",
    "\\\\\\\\\\\\\n",
    "\\\\\\\\\\\\\n",
    "\\\\\\\\\\\\\n",
    "\\\\\\\\\\\\\n",
    "\\\\\\\\\\\\\n",
    "\\\\\\\\\\\\\n",
    "$$\n",
    "\n",
    "\n",
    "## TB 12-1\n",
    "![Filzringe](zulässigeFugenpressung.png)\n",
    "                 \"\"\"))"
   ]
  },
  {
   "cell_type": "code",
   "execution_count": 346,
   "metadata": {},
   "outputs": [
    {
     "data": {
      "text/markdown": [
       "\n",
       "$$\n",
       "\\\\\\\n",
       "\\\\\\\n",
       "\\\\\\\n",
       "\\\\\\\n",
       "\\\\\\\n",
       "\\\\\\\n",
       "$$\n",
       "\n",
       "## TB3-5                 \n",
       "![Filzringe](KA.png)\n",
       "\n"
      ],
      "text/plain": [
       "<IPython.core.display.Markdown object>"
      ]
     },
     "metadata": {},
     "output_type": "display_data"
    }
   ],
   "source": [
    "display(Markdown(f\"\"\"\n",
    "$$\n",
    "\\\\\\\\\\\\\n",
    "\\\\\\\\\\\\\n",
    "\\\\\\\\\\\\\n",
    "\\\\\\\\\\\\\n",
    "\\\\\\\\\\\\\n",
    "\\\\\\\\\\\\\n",
    "$$\n",
    "\n",
    "## TB3-5                 \n",
    "![Filzringe](KA.png)\n",
    "\n",
    "\"\"\"))"
   ]
  },
  {
   "cell_type": "code",
   "execution_count": 347,
   "metadata": {},
   "outputs": [
    {
     "data": {
      "text/markdown": [
       "\n",
       "$$\n",
       "\\\\\\\n",
       "\\\\\\\n",
       "\\\\\\\n",
       "\\\\\\\n",
       "\\\\\\\n",
       "\\\\\\\n",
       "$$\n",
       "\n",
       "## TB 12-3a\n",
       "![Filzringe](n.png)\n",
       "$$\n",
       "\\\\\\\n",
       "\\\\\\\n",
       "\\\\\\\n",
       "\\\\\\\n",
       "\\\\\\\n",
       "\\\\\\\n",
       "$$\n",
       "\n",
       "\n",
       "                 "
      ],
      "text/plain": [
       "<IPython.core.display.Markdown object>"
      ]
     },
     "metadata": {},
     "output_type": "display_data"
    }
   ],
   "source": [
    "display(Markdown(f\"\"\"\n",
    "$$\n",
    "\\\\\\\\\\\\\n",
    "\\\\\\\\\\\\\n",
    "\\\\\\\\\\\\\n",
    "\\\\\\\\\\\\\n",
    "\\\\\\\\\\\\\n",
    "\\\\\\\\\\\\\n",
    "$$\n",
    "\n",
    "## TB 12-3a\n",
    "![Filzringe](n.png)\n",
    "$$\n",
    "\\\\\\\\\\\\\n",
    "\\\\\\\\\\\\\n",
    "\\\\\\\\\\\\\n",
    "\\\\\\\\\\\\\n",
    "\\\\\\\\\\\\\n",
    "\\\\\\\\\\\\\n",
    "$$\n",
    "\n",
    "\n",
    "                 \"\"\"))"
   ]
  },
  {
   "cell_type": "code",
   "execution_count": 348,
   "metadata": {},
   "outputs": [
    {
     "data": {
      "text/markdown": [
       "\n",
       "### Daraus folgt folgende Werte:\n",
       "### $K_{A}=1.1$ \n",
       "### $p_{zul}=3$ \n",
       "### $T= T_{nen} \\cdot K_{A} =  1840000000.0 \\  N-mm \\cdot 1.1 = 2024000000.000 \\ N-mm$\n",
       "### $d_{m}= \\frac{D+d}{2} = \\frac{125 \\ mm +112 \\ mm }{2} = 118.5 \\ mm$ \n",
       "### L = 400 mm\n",
       "### $h` = 0.4 \\cdot (D-d) = 0.4 \\cdot (125 \\ mm -112 \\ mm) = 5.2  \\ mm$\n",
       "### Bei Flankenzentrerierung und bei d=112  mm , D=125 mm , n=20                   \n",
       "## Darus flogt \n",
       "$$\n",
       "\\Large\n",
       "p_{m}=\\frac{2 \\cdot 2024000000.00 \\ Nmm}{118.5 \\ mm \\cdot 400 \\ mm  \\cdot 5.2 \\ mm \\cdot 0.9 \\cdot 20 } = 912.40 \\frac{N}{mm^2} = 912.40 \\ MPa  \n",
       "$$\n"
      ],
      "text/plain": [
       "<IPython.core.display.Markdown object>"
      ]
     },
     "metadata": {},
     "output_type": "display_data"
    }
   ],
   "source": [
    "display(Markdown(f\"\"\"\n",
    "### Daraus folgt folgende Werte:\n",
    "### $K_{{A}}={KA}$ \n",
    "### $p_{{zul}}={pzul}$ \n",
    "### $T= T_{{nen}} \\cdot K_{{A}} =  {Tnen} \\\\  N-mm \\cdot {KA} = {T:.3f} \\\\ N-mm$\n",
    "### $d_{{m}}= \\\\frac{{D+d}}{{2}} = \\\\frac{{{D} \\\\ mm +{d} \\\\ mm }}{{2}} = {dm} \\\\ mm$ \n",
    "### L = {L} mm\n",
    "### $h` = 0.4 \\cdot (D-d) = 0.4 \\cdot ({D} \\\\ mm -{d} \\\\ mm) = {h}  \\\\ mm$\n",
    "### Bei Flankenzentrerierung und bei d={d}  mm , D={D} mm , n={n}                   \n",
    "## Darus flogt \n",
    "$$\n",
    "\\Large\n",
    "p_{{m}}=\\\\frac{{2 \\cdot {T:.2f} \\\\ Nmm}}{{{dm} \\\\ mm \\cdot {L} \\\\ mm  \\cdot {h} \\\\ mm \\cdot {K} \\cdot {n} }} = {pm:.2f} \\\\frac{{N}}{{mm^2}} = {pm:.2f} \\\\ MPa  \n",
    "$$\n",
    "\"\"\"))\n",
    "# ≤ p_{{zul}}"
   ]
  }
 ],
 "metadata": {
  "kernelspec": {
   "display_name": "base",
   "language": "python",
   "name": "python3"
  },
  "language_info": {
   "codemirror_mode": {
    "name": "ipython",
    "version": 3
   },
   "file_extension": ".py",
   "mimetype": "text/x-python",
   "name": "python",
   "nbconvert_exporter": "python",
   "pygments_lexer": "ipython3",
   "version": "3.9.12"
  }
 },
 "nbformat": 4,
 "nbformat_minor": 2
}
