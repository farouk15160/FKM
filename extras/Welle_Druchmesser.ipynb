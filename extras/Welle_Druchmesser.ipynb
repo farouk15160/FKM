{
 "cells": [
  {
   "cell_type": "code",
   "execution_count": 1,
   "metadata": {},
   "outputs": [],
   "source": [
    "from IPython.display import display, Markdown"
   ]
  },
  {
   "cell_type": "code",
   "execution_count": 6,
   "metadata": {},
   "outputs": [
    {
     "data": {
      "text/markdown": [
       "\n",
       "# Durchmesser der Welle\n",
       "\n",
       "### Wir haben in der FKM-Rechnung gesehen, dass der minimal zulässige Durchmesser 540 mm beträgt. Wenn der Durchmesser kleiner als dieser Wert ist, besteht eine hohe Gefahr des Versagens.\n",
       "### Der Durchmesser der Welle auf der linken Seite zwischen der Rotor und das Festlager beträgt 560 mm, wo das Festlager \"Vierreihige Zylinderrollenlager (Kurzzeichen BC4-8021/HB1)\" sitzt , beträgt der Durchmesser 850 mm mit dem Absatz 860 mm ,damit er festsitzt.\n",
       "### Das Festlager ist sehr robust und trägt ein hohes Gewicht. Das genaue Gewicht ist zwar nicht bekannt, aber ein ähnliches Lager hat folgende Spezifikationen:\n",
       "\n",
       "### Vier Reihe Zylinderrollenlager 4R17014, \n",
       "### - 2980 kg Gewicht Lager, (850  1180 850 mm),  850 mm DI (Innen),  1180 mm DA (Außen),  850 mm B (Breite), \n",
       "### - 21700000 N Dynamische Tragzahl (C), \n",
       "### - 72000000 N Statische Tragzahl (Co), \n",
       "\n",
       "## Da unser Lager ähnliche Eigenschaften aufweist, kann davon ausgegangen werden, dass es ein ähnliches oder sogar höheres Gewicht hat.\n",
       "## Dieses zusätzliche Gewicht belastet auch die Welle stärker. Aus diesem Grund haben wir uns für einen Wellendurchmesser von 540 mm entschieden. \n",
       "                 \n",
       "### Die Welle hat eine Länge von 1,4 Metern. Am linken Ende, vor dem sitzt des Festlagers , beträgt der Durchmesser 640 mm. Direkt nach dem Festlager erstreckt sich die Welle für 1000 mm mit einem Durchmesser von 850 mm. Dann, für eine Länge von 50 mm,vergrößert sich die Welle bis auf 860 mm .Dann, für eine Länge von 100 mm, verringert sich der Durchmesser von 850 mm auf 540 mm. Schließlich hat die Welle für die letzten 150 mm einen Durchmesser von 460 mm, wo das Loslager sitzt. Das Festlager hat einen Durchmesser von 850 mm und eine Breite von 850 mm. Das Loslager hat einen Durchmesser von 460 mm und eine Breite von 95 mm.\n",
       "                 "
      ],
      "text/plain": [
       "<IPython.core.display.Markdown object>"
      ]
     },
     "metadata": {},
     "output_type": "display_data"
    }
   ],
   "source": [
    "display(Markdown(f\"\"\"\n",
    "# Durchmesser der Welle\n",
    "\n",
    "### Wir haben in der FKM-Rechnung gesehen, dass der minimal zulässige Durchmesser 540 mm beträgt. Wenn der Durchmesser kleiner als dieser Wert ist, besteht eine hohe Gefahr des Versagens.\n",
    "### Der Durchmesser der Welle auf der linken Seite zwischen der Rotor und das Festlager beträgt 560 mm, wo das Festlager \"Vierreihige Zylinderrollenlager (Kurzzeichen BC4-8021/HB1)\" sitzt , beträgt der Durchmesser 850 mm mit dem Absatz 860 mm ,damit er festsitzt.\n",
    "### Das Festlager ist sehr robust und trägt ein hohes Gewicht. Das genaue Gewicht ist zwar nicht bekannt, aber ein ähnliches Lager hat folgende Spezifikationen:\n",
    "\n",
    "### Vier Reihe Zylinderrollenlager 4R17014, \n",
    "### - 2980 kg Gewicht Lager, (850  1180 850 mm),  850 mm DI (Innen),  1180 mm DA (Außen),  850 mm B (Breite), \n",
    "### - 21700000 N Dynamische Tragzahl (C), \n",
    "### - 72000000 N Statische Tragzahl (Co), \n",
    "\n",
    "## Da unser Lager ähnliche Eigenschaften aufweist, kann davon ausgegangen werden, dass es ein ähnliches oder sogar höheres Gewicht hat.\n",
    "## Dieses zusätzliche Gewicht belastet auch die Welle stärker. Aus diesem Grund haben wir uns für einen Wellendurchmesser von 540 mm entschieden. \n",
    "                 \n",
    "### Die Welle hat eine Länge von 1,4 Metern. Am linken Ende, vor dem sitzt des Festlagers , beträgt der Durchmesser 640 mm. Direkt nach dem Festlager erstreckt sich die Welle für 1000 mm mit einem Durchmesser von 850 mm. Dann, für eine Länge von 50 mm,vergrößert sich die Welle bis auf 860 mm .Dann, für eine Länge von 100 mm, verringert sich der Durchmesser von 850 mm auf 540 mm. Schließlich hat die Welle für die letzten 150 mm einen Durchmesser von 460 mm, wo das Loslager sitzt. Das Festlager hat einen Durchmesser von 850 mm und eine Breite von 850 mm. Das Loslager hat einen Durchmesser von 460 mm und eine Breite von 95 mm.\n",
    "                 \"\"\"))"
   ]
  }
 ],
 "metadata": {
  "kernelspec": {
   "display_name": "base",
   "language": "python",
   "name": "python3"
  },
  "language_info": {
   "codemirror_mode": {
    "name": "ipython",
    "version": 3
   },
   "file_extension": ".py",
   "mimetype": "text/x-python",
   "name": "python",
   "nbconvert_exporter": "python",
   "pygments_lexer": "ipython3",
   "version": "3.9.12"
  }
 },
 "nbformat": 4,
 "nbformat_minor": 2
}
