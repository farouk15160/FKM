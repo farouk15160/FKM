{
 "cells": [
  {
   "cell_type": "code",
   "execution_count": 1,
   "metadata": {},
   "outputs": [],
   "source": [
    "from IPython.display import display, Markdown"
   ]
  },
  {
   "cell_type": "code",
   "execution_count": 4,
   "metadata": {},
   "outputs": [
    {
     "data": {
      "text/markdown": [
       "\n",
       "# Durchmesser der Welle\n",
       "\n",
       "### Wir haben in der FKM-Rechnung gesehen, dass der minimal zulässige Durchmesser 440 mm beträgt. Wenn der Durchmesser kleiner als dieser Wert ist, besteht eine hohe Gefahr des Versagens.\n",
       "### Der Durchmesser der Welle auf der linken Seite beträgt 460 mm, da das Festlager \"Vierreihige Zylinderrollenlager (Kurzzeichen BC4-8021/HB1)\" sehr robust ist und ein hohes Gewicht trägt.\n",
       "### Das genaue Gewicht ist zwar nicht bekannt, aber ein ähnliches Lager hat folgende Spezifikationen:\n",
       "\n",
       "### Vier Reihe Zylinderrollenlager 4R17014, \n",
       "### - 2980 kg Gewicht Lager, (850*1180*850 mm),  850 mm DI (Innen),  1180 mm DA (Außen),  850 mm B (Breite), \n",
       "### - 21700000 N Dynamische Tragzahl (C), \n",
       "### - 72000000 N Statische Tragzahl (Co), \n",
       "\n",
       "## Da unser Lager ähnliche Eigenschaften aufweist, kann davon ausgegangen werden, dass es ein ähnliches oder sogar höheres Gewicht hat.\n",
       "## Dieses zusätzliche Gewicht belastet auch die Welle stärker. Aus diesem Grund haben wir uns für einen Wellendurchmesser von 460 mm entschieden. \n",
       "                 \n",
       "### Die Welle hat eine Länge von 1,4 Metern. Am linken Ende, wo das Festlager sitzt, beträgt der Durchmesser 460 mm. Direkt nach dem Festlager erstreckt sich die Welle für 1000 mm mit einem Durchmesser von 850 mm. Dann, für eine Länge von 200 mm, verringert sich der Durchmesser von 850 mm auf 460 mm. Schließlich hat die Welle für die letzten 100 mm einen Durchmesser von 440 mm, wo das Loslager sitzt. Das Festlager hat einen Durchmesser von 850 mm und eine Breite von 850 mm. Das Loslager hat einen Durchmesser von 440 mm und eine Breite von 95 mm.\n",
       "                 "
      ],
      "text/plain": [
       "<IPython.core.display.Markdown object>"
      ]
     },
     "metadata": {},
     "output_type": "display_data"
    }
   ],
   "source": [
    "display(Markdown(f\"\"\"\n",
    "# Durchmesser der Welle\n",
    "\n",
    "### Wir haben in der FKM-Rechnung gesehen, dass der minimal zulässige Durchmesser 440 mm beträgt. Wenn der Durchmesser kleiner als dieser Wert ist, besteht eine hohe Gefahr des Versagens.\n",
    "### Der Durchmesser der Welle auf der linken Seite beträgt 460 mm, da das Festlager \"Vierreihige Zylinderrollenlager (Kurzzeichen BC4-8021/HB1)\" sehr robust ist und ein hohes Gewicht trägt.\n",
    "### Das genaue Gewicht ist zwar nicht bekannt, aber ein ähnliches Lager hat folgende Spezifikationen:\n",
    "\n",
    "### Vier Reihe Zylinderrollenlager 4R17014, \n",
    "### - 2980 kg Gewicht Lager, (850*1180*850 mm),  850 mm DI (Innen),  1180 mm DA (Außen),  850 mm B (Breite), \n",
    "### - 21700000 N Dynamische Tragzahl (C), \n",
    "### - 72000000 N Statische Tragzahl (Co), \n",
    "\n",
    "## Da unser Lager ähnliche Eigenschaften aufweist, kann davon ausgegangen werden, dass es ein ähnliches oder sogar höheres Gewicht hat.\n",
    "## Dieses zusätzliche Gewicht belastet auch die Welle stärker. Aus diesem Grund haben wir uns für einen Wellendurchmesser von 460 mm entschieden. \n",
    "                 \n",
    "### Die Welle hat eine Länge von 1,4 Metern. Am linken Ende, wo das Festlager sitzt, beträgt der Durchmesser 460 mm. Direkt nach dem Festlager erstreckt sich die Welle für 1000 mm mit einem Durchmesser von 850 mm. Dann, für eine Länge von 200 mm, verringert sich der Durchmesser von 850 mm auf 460 mm. Schließlich hat die Welle für die letzten 100 mm einen Durchmesser von 440 mm, wo das Loslager sitzt. Das Festlager hat einen Durchmesser von 850 mm und eine Breite von 850 mm. Das Loslager hat einen Durchmesser von 440 mm und eine Breite von 95 mm.\n",
    "                 \"\"\"))"
   ]
  }
 ],
 "metadata": {
  "kernelspec": {
   "display_name": "base",
   "language": "python",
   "name": "python3"
  },
  "language_info": {
   "codemirror_mode": {
    "name": "ipython",
    "version": 3
   },
   "file_extension": ".py",
   "mimetype": "text/x-python",
   "name": "python",
   "nbconvert_exporter": "python",
   "pygments_lexer": "ipython3",
   "version": "3.9.12"
  }
 },
 "nbformat": 4,
 "nbformat_minor": 2
}
